{
 "cells": [
  {
   "cell_type": "markdown",
   "id": "induced-sussex",
   "metadata": {},
   "source": [
    "# Magnetic Data processing"
   ]
  },
  {
   "cell_type": "markdown",
   "id": "sunrise-sandwich",
   "metadata": {},
   "source": [
    "In this notebook you will undertake the data processing steps that are necessary in order to produce a magnetic anomaly map"
   ]
  },
  {
   "cell_type": "markdown",
   "id": "affected-facility",
   "metadata": {},
   "source": [
    "## Importing external libraries"
   ]
  },
  {
   "cell_type": "code",
   "execution_count": 2,
   "id": "dominican-castle",
   "metadata": {},
   "outputs": [],
   "source": [
    "import numpy as np\n",
    "import matplotlib as mpl\n",
    "import matplotlib.pyplot as plt\n",
    "import pandas as pd\n",
    "import datetime\n",
    "from pathlib import Path\n",
    "from scipy import interpolate\n",
    "import pyproj"
   ]
  },
  {
   "cell_type": "markdown",
   "id": "european-defense",
   "metadata": {},
   "source": [
    "## Importing and visualizing data"
   ]
  },
  {
   "cell_type": "markdown",
   "id": "international-compound",
   "metadata": {},
   "source": [
    "The next cells will load the data. \n",
    "You will need change the file-path as well as your student id"
   ]
  },
  {
   "cell_type": "code",
   "execution_count": 3,
   "id": "nutritional-librarian",
   "metadata": {},
   "outputs": [],
   "source": [
    "# Enter the path to your data folder here\n",
    "filename = Path(r'C:\\Users\\julik\\sciebo\\Master\\Geophyphox\\Student Data\\Raw') \n",
    "student_id = \"11\"\n",
    "\n",
    "# Reading the dataset\n",
    "data = pd.read_csv(os.path.join(filename, \"mag_data_\"+str(student_id)+\".csv\"))\n",
    "\n",
    "# Renaming some columns for easier coding later on \n",
    "data = data.rename(columns={'mag_abs':'field'})\n",
    "\n",
    "# The magnetic field values are stored in µT. Since the convention is to display data in nT, we modify accordingly\n",
    "data['field'] *= 1000\n",
    "\n",
    "# Projecting coordinates\n",
    "projection = pyproj.Proj(proj='utm',zone=32, lat_ts=data['lat'].mean()) #'merc',proj='utm',zone=32,ellps='WGS84'\n",
    "# Project the dataset coordinates:\n",
    "easting, northing = projection(np.array(data['lon']), np.array(data['lat']))\n",
    "\n",
    "data['x'] = easting\n",
    "data['y'] = northing"
   ]
  },
  {
   "cell_type": "code",
   "execution_count": 4,
   "id": "baking-physiology",
   "metadata": {
    "scrolled": true
   },
   "outputs": [
    {
     "data": {
      "text/html": [
       "<div>\n",
       "<style scoped>\n",
       "    .dataframe tbody tr th:only-of-type {\n",
       "        vertical-align: middle;\n",
       "    }\n",
       "\n",
       "    .dataframe tbody tr th {\n",
       "        vertical-align: top;\n",
       "    }\n",
       "\n",
       "    .dataframe thead th {\n",
       "        text-align: right;\n",
       "    }\n",
       "</style>\n",
       "<table border=\"1\" class=\"dataframe\">\n",
       "  <thead>\n",
       "    <tr style=\"text-align: right;\">\n",
       "      <th></th>\n",
       "      <th>Unnamed: 0</th>\n",
       "      <th>station</th>\n",
       "      <th>lat</th>\n",
       "      <th>lon</th>\n",
       "      <th>altitude</th>\n",
       "      <th>mag_x_</th>\n",
       "      <th>mag_y</th>\n",
       "      <th>mag_z</th>\n",
       "      <th>field</th>\n",
       "      <th>mag_abs_std</th>\n",
       "      <th>time</th>\n",
       "      <th>unix_time</th>\n",
       "      <th>mag_count</th>\n",
       "      <th>student_id</th>\n",
       "      <th>x</th>\n",
       "      <th>y</th>\n",
       "    </tr>\n",
       "  </thead>\n",
       "  <tbody>\n",
       "    <tr>\n",
       "      <th>0</th>\n",
       "      <td>0</td>\n",
       "      <td>0</td>\n",
       "      <td>50.775396</td>\n",
       "      <td>6.097728</td>\n",
       "      <td>136.590627</td>\n",
       "      <td>-8.610567</td>\n",
       "      <td>-40.309221</td>\n",
       "      <td>18.828560</td>\n",
       "      <td>45317.11056</td>\n",
       "      <td>0.225795</td>\n",
       "      <td>12.343</td>\n",
       "      <td>1655977901</td>\n",
       "      <td>38</td>\n",
       "      <td>22</td>\n",
       "      <td>295384.584504</td>\n",
       "      <td>5.628865e+06</td>\n",
       "    </tr>\n",
       "    <tr>\n",
       "      <th>1</th>\n",
       "      <td>1</td>\n",
       "      <td>1</td>\n",
       "      <td>50.775431</td>\n",
       "      <td>6.097816</td>\n",
       "      <td>179.383080</td>\n",
       "      <td>-8.613220</td>\n",
       "      <td>-40.471357</td>\n",
       "      <td>18.665958</td>\n",
       "      <td>45394.35628</td>\n",
       "      <td>0.245927</td>\n",
       "      <td>17.091</td>\n",
       "      <td>1655977906</td>\n",
       "      <td>15</td>\n",
       "      <td>22</td>\n",
       "      <td>295390.886387</td>\n",
       "      <td>5.628868e+06</td>\n",
       "    </tr>\n",
       "    <tr>\n",
       "      <th>2</th>\n",
       "      <td>2</td>\n",
       "      <td>2</td>\n",
       "      <td>50.775484</td>\n",
       "      <td>6.098181</td>\n",
       "      <td>157.461628</td>\n",
       "      <td>-8.595466</td>\n",
       "      <td>-40.366091</td>\n",
       "      <td>18.833211</td>\n",
       "      <td>45366.32792</td>\n",
       "      <td>0.178568</td>\n",
       "      <td>23.951</td>\n",
       "      <td>1655977913</td>\n",
       "      <td>18</td>\n",
       "      <td>22</td>\n",
       "      <td>295416.843757</td>\n",
       "      <td>5.628873e+06</td>\n",
       "    </tr>\n",
       "    <tr>\n",
       "      <th>3</th>\n",
       "      <td>3</td>\n",
       "      <td>3</td>\n",
       "      <td>50.775536</td>\n",
       "      <td>6.098123</td>\n",
       "      <td>157.461791</td>\n",
       "      <td>-8.734515</td>\n",
       "      <td>-40.411391</td>\n",
       "      <td>18.829042</td>\n",
       "      <td>45431.98808</td>\n",
       "      <td>0.213553</td>\n",
       "      <td>33.168</td>\n",
       "      <td>1655977922</td>\n",
       "      <td>24</td>\n",
       "      <td>22</td>\n",
       "      <td>295413.003050</td>\n",
       "      <td>5.628879e+06</td>\n",
       "    </tr>\n",
       "    <tr>\n",
       "      <th>4</th>\n",
       "      <td>4</td>\n",
       "      <td>4</td>\n",
       "      <td>50.775479</td>\n",
       "      <td>6.097959</td>\n",
       "      <td>157.461754</td>\n",
       "      <td>-8.660300</td>\n",
       "      <td>-40.382076</td>\n",
       "      <td>18.816570</td>\n",
       "      <td>45386.16409</td>\n",
       "      <td>0.183235</td>\n",
       "      <td>38.641</td>\n",
       "      <td>1655977927</td>\n",
       "      <td>15</td>\n",
       "      <td>22</td>\n",
       "      <td>295401.215139</td>\n",
       "      <td>5.628873e+06</td>\n",
       "    </tr>\n",
       "  </tbody>\n",
       "</table>\n",
       "</div>"
      ],
      "text/plain": [
       "   Unnamed: 0  station        lat       lon    altitude    mag_x_      mag_y  \\\n",
       "0           0        0  50.775396  6.097728  136.590627 -8.610567 -40.309221   \n",
       "1           1        1  50.775431  6.097816  179.383080 -8.613220 -40.471357   \n",
       "2           2        2  50.775484  6.098181  157.461628 -8.595466 -40.366091   \n",
       "3           3        3  50.775536  6.098123  157.461791 -8.734515 -40.411391   \n",
       "4           4        4  50.775479  6.097959  157.461754 -8.660300 -40.382076   \n",
       "\n",
       "       mag_z        field  mag_abs_std    time   unix_time  mag_count  \\\n",
       "0  18.828560  45317.11056     0.225795  12.343  1655977901         38   \n",
       "1  18.665958  45394.35628     0.245927  17.091  1655977906         15   \n",
       "2  18.833211  45366.32792     0.178568  23.951  1655977913         18   \n",
       "3  18.829042  45431.98808     0.213553  33.168  1655977922         24   \n",
       "4  18.816570  45386.16409     0.183235  38.641  1655977927         15   \n",
       "\n",
       "   student_id              x             y  \n",
       "0          22  295384.584504  5.628865e+06  \n",
       "1          22  295390.886387  5.628868e+06  \n",
       "2          22  295416.843757  5.628873e+06  \n",
       "3          22  295413.003050  5.628879e+06  \n",
       "4          22  295401.215139  5.628873e+06  "
      ]
     },
     "execution_count": 4,
     "metadata": {},
     "output_type": "execute_result"
    }
   ],
   "source": [
    "# Taking a first look at the dataset\n",
    "data.head()"
   ]
  },
  {
   "cell_type": "code",
   "execution_count": 5,
   "id": "monetary-hartford",
   "metadata": {
    "scrolled": true
   },
   "outputs": [
    {
     "data": {
      "text/html": [
       "<div>\n",
       "<style scoped>\n",
       "    .dataframe tbody tr th:only-of-type {\n",
       "        vertical-align: middle;\n",
       "    }\n",
       "\n",
       "    .dataframe tbody tr th {\n",
       "        vertical-align: top;\n",
       "    }\n",
       "\n",
       "    .dataframe thead th {\n",
       "        text-align: right;\n",
       "    }\n",
       "</style>\n",
       "<table border=\"1\" class=\"dataframe\">\n",
       "  <thead>\n",
       "    <tr style=\"text-align: right;\">\n",
       "      <th></th>\n",
       "      <th>Unnamed: 0</th>\n",
       "      <th>station</th>\n",
       "      <th>lat</th>\n",
       "      <th>lon</th>\n",
       "      <th>altitude</th>\n",
       "      <th>mag_x_</th>\n",
       "      <th>mag_y</th>\n",
       "      <th>mag_z</th>\n",
       "      <th>field</th>\n",
       "      <th>mag_abs_std</th>\n",
       "      <th>time</th>\n",
       "      <th>unix_time</th>\n",
       "      <th>mag_count</th>\n",
       "      <th>student_id</th>\n",
       "      <th>x</th>\n",
       "      <th>y</th>\n",
       "    </tr>\n",
       "  </thead>\n",
       "  <tbody>\n",
       "    <tr>\n",
       "      <th>count</th>\n",
       "      <td>6.000000</td>\n",
       "      <td>6.000000</td>\n",
       "      <td>6.000000</td>\n",
       "      <td>6.000000</td>\n",
       "      <td>6.000000</td>\n",
       "      <td>6.000000</td>\n",
       "      <td>6.000000</td>\n",
       "      <td>6.000000</td>\n",
       "      <td>6.000000</td>\n",
       "      <td>6.000000</td>\n",
       "      <td>6.000000</td>\n",
       "      <td>6.000000e+00</td>\n",
       "      <td>6.000000</td>\n",
       "      <td>6.0</td>\n",
       "      <td>6.000000</td>\n",
       "      <td>6.000000e+00</td>\n",
       "    </tr>\n",
       "    <tr>\n",
       "      <th>mean</th>\n",
       "      <td>2.500000</td>\n",
       "      <td>2.500000</td>\n",
       "      <td>50.775466</td>\n",
       "      <td>6.097955</td>\n",
       "      <td>157.636773</td>\n",
       "      <td>-8.641490</td>\n",
       "      <td>-40.392532</td>\n",
       "      <td>18.816179</td>\n",
       "      <td>45391.866473</td>\n",
       "      <td>0.209151</td>\n",
       "      <td>27.835167</td>\n",
       "      <td>1.655978e+09</td>\n",
       "      <td>19.833333</td>\n",
       "      <td>22.0</td>\n",
       "      <td>295400.841109</td>\n",
       "      <td>5.628872e+06</td>\n",
       "    </tr>\n",
       "    <tr>\n",
       "      <th>std</th>\n",
       "      <td>1.870829</td>\n",
       "      <td>1.870829</td>\n",
       "      <td>0.000048</td>\n",
       "      <td>0.000174</td>\n",
       "      <td>13.534878</td>\n",
       "      <td>0.050843</td>\n",
       "      <td>0.054453</td>\n",
       "      <td>0.083358</td>\n",
       "      <td>48.799257</td>\n",
       "      <td>0.025525</td>\n",
       "      <td>11.926675</td>\n",
       "      <td>1.194432e+01</td>\n",
       "      <td>10.147249</td>\n",
       "      <td>0.0</td>\n",
       "      <td>12.433241</td>\n",
       "      <td>4.901683e+00</td>\n",
       "    </tr>\n",
       "    <tr>\n",
       "      <th>min</th>\n",
       "      <td>0.000000</td>\n",
       "      <td>0.000000</td>\n",
       "      <td>50.775396</td>\n",
       "      <td>6.097728</td>\n",
       "      <td>136.590627</td>\n",
       "      <td>-8.734515</td>\n",
       "      <td>-40.471357</td>\n",
       "      <td>18.665958</td>\n",
       "      <td>45317.110560</td>\n",
       "      <td>0.178568</td>\n",
       "      <td>12.343000</td>\n",
       "      <td>1.655978e+09</td>\n",
       "      <td>9.000000</td>\n",
       "      <td>22.0</td>\n",
       "      <td>295384.584504</td>\n",
       "      <td>5.628865e+06</td>\n",
       "    </tr>\n",
       "    <tr>\n",
       "      <th>25%</th>\n",
       "      <td>1.250000</td>\n",
       "      <td>1.250000</td>\n",
       "      <td>50.775441</td>\n",
       "      <td>6.097842</td>\n",
       "      <td>157.461659</td>\n",
       "      <td>-8.653942</td>\n",
       "      <td>-40.414141</td>\n",
       "      <td>18.819567</td>\n",
       "      <td>45371.286963</td>\n",
       "      <td>0.189384</td>\n",
       "      <td>18.806000</td>\n",
       "      <td>1.655978e+09</td>\n",
       "      <td>15.000000</td>\n",
       "      <td>22.0</td>\n",
       "      <td>295392.793245</td>\n",
       "      <td>5.628869e+06</td>\n",
       "    </tr>\n",
       "    <tr>\n",
       "      <th>50%</th>\n",
       "      <td>2.500000</td>\n",
       "      <td>2.500000</td>\n",
       "      <td>50.775475</td>\n",
       "      <td>6.097940</td>\n",
       "      <td>157.461757</td>\n",
       "      <td>-8.624046</td>\n",
       "      <td>-40.396733</td>\n",
       "      <td>18.828801</td>\n",
       "      <td>45390.260185</td>\n",
       "      <td>0.210692</td>\n",
       "      <td>28.559500</td>\n",
       "      <td>1.655978e+09</td>\n",
       "      <td>16.500000</td>\n",
       "      <td>22.0</td>\n",
       "      <td>295399.864478</td>\n",
       "      <td>5.628873e+06</td>\n",
       "    </tr>\n",
       "    <tr>\n",
       "      <th>75%</th>\n",
       "      <td>3.750000</td>\n",
       "      <td>3.750000</td>\n",
       "      <td>50.775483</td>\n",
       "      <td>6.098082</td>\n",
       "      <td>157.461783</td>\n",
       "      <td>-8.611230</td>\n",
       "      <td>-40.370087</td>\n",
       "      <td>18.832168</td>\n",
       "      <td>45422.580130</td>\n",
       "      <td>0.222734</td>\n",
       "      <td>37.272750</td>\n",
       "      <td>1.655978e+09</td>\n",
       "      <td>22.500000</td>\n",
       "      <td>22.0</td>\n",
       "      <td>295410.056072</td>\n",
       "      <td>5.628873e+06</td>\n",
       "    </tr>\n",
       "    <tr>\n",
       "      <th>max</th>\n",
       "      <td>5.000000</td>\n",
       "      <td>5.000000</td>\n",
       "      <td>50.775536</td>\n",
       "      <td>6.098181</td>\n",
       "      <td>179.383080</td>\n",
       "      <td>-8.595466</td>\n",
       "      <td>-40.309221</td>\n",
       "      <td>18.923731</td>\n",
       "      <td>45455.251910</td>\n",
       "      <td>0.245927</td>\n",
       "      <td>41.817000</td>\n",
       "      <td>1.655978e+09</td>\n",
       "      <td>38.000000</td>\n",
       "      <td>22.0</td>\n",
       "      <td>295416.843757</td>\n",
       "      <td>5.628879e+06</td>\n",
       "    </tr>\n",
       "  </tbody>\n",
       "</table>\n",
       "</div>"
      ],
      "text/plain": [
       "       Unnamed: 0   station        lat       lon    altitude    mag_x_  \\\n",
       "count    6.000000  6.000000   6.000000  6.000000    6.000000  6.000000   \n",
       "mean     2.500000  2.500000  50.775466  6.097955  157.636773 -8.641490   \n",
       "std      1.870829  1.870829   0.000048  0.000174   13.534878  0.050843   \n",
       "min      0.000000  0.000000  50.775396  6.097728  136.590627 -8.734515   \n",
       "25%      1.250000  1.250000  50.775441  6.097842  157.461659 -8.653942   \n",
       "50%      2.500000  2.500000  50.775475  6.097940  157.461757 -8.624046   \n",
       "75%      3.750000  3.750000  50.775483  6.098082  157.461783 -8.611230   \n",
       "max      5.000000  5.000000  50.775536  6.098181  179.383080 -8.595466   \n",
       "\n",
       "           mag_y      mag_z         field  mag_abs_std       time  \\\n",
       "count   6.000000   6.000000      6.000000     6.000000   6.000000   \n",
       "mean  -40.392532  18.816179  45391.866473     0.209151  27.835167   \n",
       "std     0.054453   0.083358     48.799257     0.025525  11.926675   \n",
       "min   -40.471357  18.665958  45317.110560     0.178568  12.343000   \n",
       "25%   -40.414141  18.819567  45371.286963     0.189384  18.806000   \n",
       "50%   -40.396733  18.828801  45390.260185     0.210692  28.559500   \n",
       "75%   -40.370087  18.832168  45422.580130     0.222734  37.272750   \n",
       "max   -40.309221  18.923731  45455.251910     0.245927  41.817000   \n",
       "\n",
       "          unix_time  mag_count  student_id              x             y  \n",
       "count  6.000000e+00   6.000000         6.0       6.000000  6.000000e+00  \n",
       "mean   1.655978e+09  19.833333        22.0  295400.841109  5.628872e+06  \n",
       "std    1.194432e+01  10.147249         0.0      12.433241  4.901683e+00  \n",
       "min    1.655978e+09   9.000000        22.0  295384.584504  5.628865e+06  \n",
       "25%    1.655978e+09  15.000000        22.0  295392.793245  5.628869e+06  \n",
       "50%    1.655978e+09  16.500000        22.0  295399.864478  5.628873e+06  \n",
       "75%    1.655978e+09  22.500000        22.0  295410.056072  5.628873e+06  \n",
       "max    1.655978e+09  38.000000        22.0  295416.843757  5.628879e+06  "
      ]
     },
     "execution_count": 5,
     "metadata": {},
     "output_type": "execute_result"
    }
   ],
   "source": [
    "# We can also call some quick summary statistics in order to get a first feel for our data\n",
    "data.describe()"
   ]
  },
  {
   "cell_type": "markdown",
   "id": "found-jamaica",
   "metadata": {},
   "source": [
    "The time values in the dataset refer to the elapsed time in seconds since the experiment started. Since we want to combine all phones' measurements later on, it is necessary to normalise the time values to some standard reference time, like 0:00 on the measurement date. The absolute start time of the experiment is saved as [unix-timestamp](https://www.unixtimestamp.com). This timestamp can be converted."
   ]
  },
  {
   "cell_type": "code",
   "execution_count": 6,
   "id": "entertaining-hindu",
   "metadata": {},
   "outputs": [
    {
     "name": "stderr",
     "output_type": "stream",
     "text": [
      "c:\\Users\\julik\\Programs\\Anaconda\\envs\\phyphox\\lib\\site-packages\\pandas\\core\\indexing.py:1732: SettingWithCopyWarning: \n",
      "A value is trying to be set on a copy of a slice from a DataFrame\n",
      "\n",
      "See the caveats in the documentation: https://pandas.pydata.org/pandas-docs/stable/user_guide/indexing.html#returning-a-view-versus-a-copy\n",
      "  self._setitem_single_block(indexer, value, name)\n"
     ]
    }
   ],
   "source": [
    "# Adding a new column to the dataset in which the normalized time is stored.\n",
    "data[\"times\"] = np.zeros(len(data))\n",
    "for count,unix in enumerate(data[\"unix_time\"].values):\n",
    "    t_0_str = datetime.datetime.fromtimestamp(int(unix)).strftime('%Y-%m-%d %H:%M:%S')\n",
    "    t_0_str = t_0_str[11:]\n",
    "    t_0 = int(t_0_str[:2])*3600 # Converting hours to seconds\n",
    "    t_0 += int(t_0_str[3:5])*60 # Converting minutes to seconds\n",
    "    t_0 += float(t_0_str[6:]) # Adding remaining seconds\n",
    "    data[\"times\"].iloc[count]=t_0"
   ]
  },
  {
   "cell_type": "markdown",
   "id": "stable-powder",
   "metadata": {},
   "source": [
    "If, for some reason, one row in the dataset is incomplete (i.e. missing coordinate values), we can not usefully interpret said datapoint. In the next step, we remove all rows that contain missing, or NaN, values. In the dataframe description below, every column should then have the same amount of entries"
   ]
  },
  {
   "cell_type": "code",
   "execution_count": 7,
   "id": "senior-enhancement",
   "metadata": {
    "scrolled": true
   },
   "outputs": [
    {
     "data": {
      "text/html": [
       "<div>\n",
       "<style scoped>\n",
       "    .dataframe tbody tr th:only-of-type {\n",
       "        vertical-align: middle;\n",
       "    }\n",
       "\n",
       "    .dataframe tbody tr th {\n",
       "        vertical-align: top;\n",
       "    }\n",
       "\n",
       "    .dataframe thead th {\n",
       "        text-align: right;\n",
       "    }\n",
       "</style>\n",
       "<table border=\"1\" class=\"dataframe\">\n",
       "  <thead>\n",
       "    <tr style=\"text-align: right;\">\n",
       "      <th></th>\n",
       "      <th>Unnamed: 0</th>\n",
       "      <th>station</th>\n",
       "      <th>lat</th>\n",
       "      <th>lon</th>\n",
       "      <th>altitude</th>\n",
       "      <th>mag_x_</th>\n",
       "      <th>mag_y</th>\n",
       "      <th>mag_z</th>\n",
       "      <th>field</th>\n",
       "      <th>mag_abs_std</th>\n",
       "      <th>time</th>\n",
       "      <th>unix_time</th>\n",
       "      <th>mag_count</th>\n",
       "      <th>student_id</th>\n",
       "      <th>x</th>\n",
       "      <th>y</th>\n",
       "      <th>times</th>\n",
       "    </tr>\n",
       "  </thead>\n",
       "  <tbody>\n",
       "    <tr>\n",
       "      <th>count</th>\n",
       "      <td>6.000000</td>\n",
       "      <td>6.000000</td>\n",
       "      <td>6.000000</td>\n",
       "      <td>6.000000</td>\n",
       "      <td>6.000000</td>\n",
       "      <td>6.000000</td>\n",
       "      <td>6.000000</td>\n",
       "      <td>6.000000</td>\n",
       "      <td>6.000000</td>\n",
       "      <td>6.000000</td>\n",
       "      <td>6.000000</td>\n",
       "      <td>6.000000e+00</td>\n",
       "      <td>6.000000</td>\n",
       "      <td>6.0</td>\n",
       "      <td>6.000000</td>\n",
       "      <td>6.000000e+00</td>\n",
       "      <td>6.000000</td>\n",
       "    </tr>\n",
       "    <tr>\n",
       "      <th>mean</th>\n",
       "      <td>2.500000</td>\n",
       "      <td>2.500000</td>\n",
       "      <td>50.775466</td>\n",
       "      <td>6.097955</td>\n",
       "      <td>157.636773</td>\n",
       "      <td>-8.641490</td>\n",
       "      <td>-40.392532</td>\n",
       "      <td>18.816179</td>\n",
       "      <td>45391.866473</td>\n",
       "      <td>0.209151</td>\n",
       "      <td>27.835167</td>\n",
       "      <td>1.655978e+09</td>\n",
       "      <td>19.833333</td>\n",
       "      <td>22.0</td>\n",
       "      <td>295400.841109</td>\n",
       "      <td>5.628872e+06</td>\n",
       "      <td>42716.666667</td>\n",
       "    </tr>\n",
       "    <tr>\n",
       "      <th>std</th>\n",
       "      <td>1.870829</td>\n",
       "      <td>1.870829</td>\n",
       "      <td>0.000048</td>\n",
       "      <td>0.000174</td>\n",
       "      <td>13.534878</td>\n",
       "      <td>0.050843</td>\n",
       "      <td>0.054453</td>\n",
       "      <td>0.083358</td>\n",
       "      <td>48.799257</td>\n",
       "      <td>0.025525</td>\n",
       "      <td>11.926675</td>\n",
       "      <td>1.194432e+01</td>\n",
       "      <td>10.147249</td>\n",
       "      <td>0.0</td>\n",
       "      <td>12.433241</td>\n",
       "      <td>4.901683e+00</td>\n",
       "      <td>11.944315</td>\n",
       "    </tr>\n",
       "    <tr>\n",
       "      <th>min</th>\n",
       "      <td>0.000000</td>\n",
       "      <td>0.000000</td>\n",
       "      <td>50.775396</td>\n",
       "      <td>6.097728</td>\n",
       "      <td>136.590627</td>\n",
       "      <td>-8.734515</td>\n",
       "      <td>-40.471357</td>\n",
       "      <td>18.665958</td>\n",
       "      <td>45317.110560</td>\n",
       "      <td>0.178568</td>\n",
       "      <td>12.343000</td>\n",
       "      <td>1.655978e+09</td>\n",
       "      <td>9.000000</td>\n",
       "      <td>22.0</td>\n",
       "      <td>295384.584504</td>\n",
       "      <td>5.628865e+06</td>\n",
       "      <td>42701.000000</td>\n",
       "    </tr>\n",
       "    <tr>\n",
       "      <th>25%</th>\n",
       "      <td>1.250000</td>\n",
       "      <td>1.250000</td>\n",
       "      <td>50.775441</td>\n",
       "      <td>6.097842</td>\n",
       "      <td>157.461659</td>\n",
       "      <td>-8.653942</td>\n",
       "      <td>-40.414141</td>\n",
       "      <td>18.819567</td>\n",
       "      <td>45371.286963</td>\n",
       "      <td>0.189384</td>\n",
       "      <td>18.806000</td>\n",
       "      <td>1.655978e+09</td>\n",
       "      <td>15.000000</td>\n",
       "      <td>22.0</td>\n",
       "      <td>295392.793245</td>\n",
       "      <td>5.628869e+06</td>\n",
       "      <td>42707.750000</td>\n",
       "    </tr>\n",
       "    <tr>\n",
       "      <th>50%</th>\n",
       "      <td>2.500000</td>\n",
       "      <td>2.500000</td>\n",
       "      <td>50.775475</td>\n",
       "      <td>6.097940</td>\n",
       "      <td>157.461757</td>\n",
       "      <td>-8.624046</td>\n",
       "      <td>-40.396733</td>\n",
       "      <td>18.828801</td>\n",
       "      <td>45390.260185</td>\n",
       "      <td>0.210692</td>\n",
       "      <td>28.559500</td>\n",
       "      <td>1.655978e+09</td>\n",
       "      <td>16.500000</td>\n",
       "      <td>22.0</td>\n",
       "      <td>295399.864478</td>\n",
       "      <td>5.628873e+06</td>\n",
       "      <td>42717.500000</td>\n",
       "    </tr>\n",
       "    <tr>\n",
       "      <th>75%</th>\n",
       "      <td>3.750000</td>\n",
       "      <td>3.750000</td>\n",
       "      <td>50.775483</td>\n",
       "      <td>6.098082</td>\n",
       "      <td>157.461783</td>\n",
       "      <td>-8.611230</td>\n",
       "      <td>-40.370087</td>\n",
       "      <td>18.832168</td>\n",
       "      <td>45422.580130</td>\n",
       "      <td>0.222734</td>\n",
       "      <td>37.272750</td>\n",
       "      <td>1.655978e+09</td>\n",
       "      <td>22.500000</td>\n",
       "      <td>22.0</td>\n",
       "      <td>295410.056072</td>\n",
       "      <td>5.628873e+06</td>\n",
       "      <td>42725.750000</td>\n",
       "    </tr>\n",
       "    <tr>\n",
       "      <th>max</th>\n",
       "      <td>5.000000</td>\n",
       "      <td>5.000000</td>\n",
       "      <td>50.775536</td>\n",
       "      <td>6.098181</td>\n",
       "      <td>179.383080</td>\n",
       "      <td>-8.595466</td>\n",
       "      <td>-40.309221</td>\n",
       "      <td>18.923731</td>\n",
       "      <td>45455.251910</td>\n",
       "      <td>0.245927</td>\n",
       "      <td>41.817000</td>\n",
       "      <td>1.655978e+09</td>\n",
       "      <td>38.000000</td>\n",
       "      <td>22.0</td>\n",
       "      <td>295416.843757</td>\n",
       "      <td>5.628879e+06</td>\n",
       "      <td>42731.000000</td>\n",
       "    </tr>\n",
       "  </tbody>\n",
       "</table>\n",
       "</div>"
      ],
      "text/plain": [
       "       Unnamed: 0   station        lat       lon    altitude    mag_x_  \\\n",
       "count    6.000000  6.000000   6.000000  6.000000    6.000000  6.000000   \n",
       "mean     2.500000  2.500000  50.775466  6.097955  157.636773 -8.641490   \n",
       "std      1.870829  1.870829   0.000048  0.000174   13.534878  0.050843   \n",
       "min      0.000000  0.000000  50.775396  6.097728  136.590627 -8.734515   \n",
       "25%      1.250000  1.250000  50.775441  6.097842  157.461659 -8.653942   \n",
       "50%      2.500000  2.500000  50.775475  6.097940  157.461757 -8.624046   \n",
       "75%      3.750000  3.750000  50.775483  6.098082  157.461783 -8.611230   \n",
       "max      5.000000  5.000000  50.775536  6.098181  179.383080 -8.595466   \n",
       "\n",
       "           mag_y      mag_z         field  mag_abs_std       time  \\\n",
       "count   6.000000   6.000000      6.000000     6.000000   6.000000   \n",
       "mean  -40.392532  18.816179  45391.866473     0.209151  27.835167   \n",
       "std     0.054453   0.083358     48.799257     0.025525  11.926675   \n",
       "min   -40.471357  18.665958  45317.110560     0.178568  12.343000   \n",
       "25%   -40.414141  18.819567  45371.286963     0.189384  18.806000   \n",
       "50%   -40.396733  18.828801  45390.260185     0.210692  28.559500   \n",
       "75%   -40.370087  18.832168  45422.580130     0.222734  37.272750   \n",
       "max   -40.309221  18.923731  45455.251910     0.245927  41.817000   \n",
       "\n",
       "          unix_time  mag_count  student_id              x             y  \\\n",
       "count  6.000000e+00   6.000000         6.0       6.000000  6.000000e+00   \n",
       "mean   1.655978e+09  19.833333        22.0  295400.841109  5.628872e+06   \n",
       "std    1.194432e+01  10.147249         0.0      12.433241  4.901683e+00   \n",
       "min    1.655978e+09   9.000000        22.0  295384.584504  5.628865e+06   \n",
       "25%    1.655978e+09  15.000000        22.0  295392.793245  5.628869e+06   \n",
       "50%    1.655978e+09  16.500000        22.0  295399.864478  5.628873e+06   \n",
       "75%    1.655978e+09  22.500000        22.0  295410.056072  5.628873e+06   \n",
       "max    1.655978e+09  38.000000        22.0  295416.843757  5.628879e+06   \n",
       "\n",
       "              times  \n",
       "count      6.000000  \n",
       "mean   42716.666667  \n",
       "std       11.944315  \n",
       "min    42701.000000  \n",
       "25%    42707.750000  \n",
       "50%    42717.500000  \n",
       "75%    42725.750000  \n",
       "max    42731.000000  "
      ]
     },
     "execution_count": 7,
     "metadata": {},
     "output_type": "execute_result"
    }
   ],
   "source": [
    "# Removin NaN values\n",
    "data.dropna(inplace=True)\n",
    "data.describe()"
   ]
  },
  {
   "cell_type": "code",
   "execution_count": 8,
   "id": "moved-diesel",
   "metadata": {},
   "outputs": [
    {
     "data": {
      "image/png": "[encoded data removed]",
      "text/plain": [
       "<Figure size 864x576 with 1 Axes>"
      ]
     },
     "metadata": {
      "needs_background": "light"
     },
     "output_type": "display_data"
    }
   ],
   "source": [
    "# Plotting all datapoints in order of appearance in the dataset\n",
    "\n",
    "fig, ax = plt.subplots(figsize=(12, 8))\n",
    "nData = len(data['field'])\n",
    "ax.scatter(data['times'], data['field'])\n",
    "ax.set(xlabel='Measurement Time [s]', ylabel='B [nT]', title=f'Original dataset with {nData} measurements.');"
   ]
  },
  {
   "cell_type": "code",
   "execution_count": 9,
   "id": "naked-conviction",
   "metadata": {},
   "outputs": [
    {
     "name": "stderr",
     "output_type": "stream",
     "text": [
      "C:\\Users\\julik\\AppData\\Local\\Temp/ipykernel_18228/4008357567.py:7: UserWarning: FixedFormatter should only be used together with FixedLocator\n",
      "  ax.set_xticklabels(['{:}'.format(int(_)) for _ in ax.get_xticks().tolist()]) # Fixes x-axis tick labels\n",
      "C:\\Users\\julik\\AppData\\Local\\Temp/ipykernel_18228/4008357567.py:8: UserWarning: FixedFormatter should only be used together with FixedLocator\n",
      "  ax.set_yticklabels(['{:}'.format(int(_)) for _ in ax.get_yticks().tolist()]) # Fixes y-axis tick labels\n"
     ]
    },
    {
     "data": {
      "image/png": "[encoded data removed]",
      "text/plain": [
       "<Figure size 864x576 with 2 Axes>"
      ]
     },
     "metadata": {
      "needs_background": "light"
     },
     "output_type": "display_data"
    }
   ],
   "source": [
    "# Plotting the collected data spatially\n",
    "fig, ax = plt.subplots(figsize=(12, 8))\n",
    "\n",
    "# Using the temporally corrected anomalies\n",
    "im = ax.scatter(data['x'], data['y'], c=data['field'])\n",
    "ax.set(xlabel='Easting', ylabel='Northing', title='Collected data')\n",
    "ax.set_xticklabels(['{:}'.format(int(_)) for _ in ax.get_xticks().tolist()]) # Fixes x-axis tick labels\n",
    "ax.set_yticklabels(['{:}'.format(int(_)) for _ in ax.get_yticks().tolist()]) # Fixes y-axis tick labels\n",
    "plt.colorbar(im, ax=ax, label='Magnetic field [T]');"
   ]
  },
  {
   "cell_type": "markdown",
   "id": "accessible-escape",
   "metadata": {},
   "source": [
    "## Getting accurate altitude values\n",
    "\n",
    "The altitudes recorded with your phones' GPS are likely imprecise. We can get accurate altitude values from a DEM of the survey area:"
   ]
  },
  {
   "cell_type": "code",
   "execution_count": 10,
   "id": "velvet-karen",
   "metadata": {},
   "outputs": [],
   "source": [
    "# # Loading the DEM\n",
    "# # Enter the DEM location and name here (location must be specified relative to this notebook's folder)\n",
    "# dem_location = 'Drwiss_combined.txt'\n",
    "# dem = pd.read_csv(dem_location, sep=' ', names=['easting', 'northing', 'altitude'])"
   ]
  },
  {
   "cell_type": "code",
   "execution_count": 11,
   "id": "verified-vancouver",
   "metadata": {},
   "outputs": [],
   "source": [
    "# z_dem = []\n",
    "\n",
    "# for _x, _y in zip(data['x'], data['y']):\n",
    "#     _x = round(_x, 0)\n",
    "#     _y = round(_y, 0)\n",
    "#     mask = np.logical_and(dem['easting'] == _x, dem['northing'] == _y)\n",
    "#     p = dem.loc[mask]\n",
    "#     z_dem.append(p['altitude'].values[0].copy())\n",
    "    \n",
    "# data['z_dem'] = z_dem"
   ]
  },
  {
   "cell_type": "markdown",
   "id": "future-surfing",
   "metadata": {},
   "source": [
    "## Handling Outliers\n",
    "\n",
    "We can now search the dataset for any outliers. There are many ways of defining and identifying outliers, here we will define a threshold value above or below which we want to discard any values. The median of the data will be our point of reference, and any field value lying above or below a predefined range around the median will be discarded."
   ]
  },
  {
   "cell_type": "code",
   "execution_count": 12,
   "id": "crude-raleigh",
   "metadata": {},
   "outputs": [],
   "source": [
    "# Here we set the unilateral range around the median, which defines the window of values we want to keep\n",
    "rangespan = 1500\n",
    "median_data = data['field'].median()\n",
    "\n",
    "# Creating a vector with the absolute differences between each field value and the median\n",
    "diff_median = np.abs(data['field'] - median_data)\n",
    "\n",
    "# Storing all datapoints that do not meet the outlier criterion\n",
    "data_outlier = data.loc[diff_median < rangespan]\n",
    "\n",
    "# This new dataframe is now void of outliers"
   ]
  },
  {
   "cell_type": "code",
   "execution_count": 13,
   "id": "automatic-guard",
   "metadata": {},
   "outputs": [
    {
     "data": {
      "text/plain": [
       "<matplotlib.legend.Legend at 0x24470727ee0>"
      ]
     },
     "execution_count": 13,
     "metadata": {},
     "output_type": "execute_result"
    },
    {
     "data": {
      "image/png": "[encoded data removed]",
      "text/plain": [
       "<Figure size 864x576 with 1 Axes>"
      ]
     },
     "metadata": {
      "needs_background": "light"
     },
     "output_type": "display_data"
    }
   ],
   "source": [
    "# Now we can plot the dataset with outliers removed\n",
    "fig, ax = plt.subplots(figsize=(12, 8))\n",
    "\n",
    "nDataOutlier = len(data_outlier['field'])\n",
    "ax.scatter(data['times'], data['field'])\n",
    "ax.hlines(median_data, data['times'].min()-500, data['times'].max()+500, color='purple', label='Data median')\n",
    "ax.hlines(median_data+rangespan, data['times'].min()-500, data['times'].max()+500,\n",
    "          linestyles='dashed', color='red', label='Upper outlier bound')\n",
    "ax.hlines(median_data-rangespan, data['times'].min()-500, data['times'].max()+500,\n",
    "          linestyles='dashed', color='blue', label='Lower outlier bound')\n",
    "ax.set(xlabel='Measurement Time [s]', ylabel='B [nT]',\n",
    "       title=f'Outlier removed dataset with {nDataOutlier} measurements, {nData-nDataOutlier} measurements were discarded');\n",
    "ax.legend()\n",
    "#plt.xticks(ticks=range(0, len(times_outlier), 200), labels=times_outlier[::200], rotation=45);"
   ]
  },
  {
   "cell_type": "markdown",
   "id": "advance-algeria",
   "metadata": {},
   "source": [
    "## Data Correction\n",
    "\n",
    "To obtain magnetic anomalies, we need to extract the anomal part of the data. This can be done by subtracting a calculated (or measured) magnetic field value from the data. Another method is to also correct for the temporal drift which naturally occurs, for which measurements at a base station are needed. In our case, we can also use the smartphone measurements taken at the reference location as base station data. Using these data will also eliminate any measurement deviations that occur between smartphones.\n",
    "\n",
    "Note that only one appropriate method must be chosen."
   ]
  },
  {
   "cell_type": "markdown",
   "id": "suspected-bacon",
   "metadata": {},
   "source": [
    "## Getting Base Station Data"
   ]
  },
  {
   "cell_type": "markdown",
   "id": "relevant-tyler",
   "metadata": {},
   "source": [
    "If we want to use smartphone measurements as base station values, we need to get the values that were taken at the reference point. Since GPS measurements are not entirely precise, we define a tolerance range around which we will accept measurements as base station values. Of course we also have to specify the reference points' coordinates."
   ]
  },
  {
   "cell_type": "code",
   "execution_count": 14,
   "id": "noted-democracy",
   "metadata": {},
   "outputs": [
    {
     "name": "stderr",
     "output_type": "stream",
     "text": [
      "C:\\Users\\julik\\AppData\\Local\\Temp/ipykernel_18228/3799870563.py:27: UserWarning: FixedFormatter should only be used together with FixedLocator\n",
      "  ax.set_yticklabels(['{:}'.format(int(_)) for _ in ax.get_yticks().tolist()]) # Fixes y-axis tick labels\n"
     ]
    },
    {
     "data": {
      "image/png": "[encoded data removed]",
      "text/plain": [
       "<Figure size 864x576 with 2 Axes>"
      ]
     },
     "metadata": {
      "needs_background": "light"
     },
     "output_type": "display_data"
    }
   ],
   "source": [
    "# Defining the reference location and tolerance\n",
    "# Using first measurement locaion as default\n",
    "refPointX = data_outlier['x'][0]\n",
    "refPointY = data_outlier['y'][0]\n",
    "\n",
    "# Defining the tolerance\n",
    "tolX = 7\n",
    "tolY = 7\n",
    "\n",
    "refMinX, refMaxX = (refPointX-tolX, refPointX+tolX)\n",
    "refMinY, refMaxY = (refPointY-tolY, refPointY+tolY)\n",
    "\n",
    "maskX = np.logical_and(data_outlier['x'] < refMaxX, data_outlier['x'] > refMinX)\n",
    "maskY = np.logical_and(data_outlier['y'] < refMaxY, data_outlier['y'] > refMinY)\n",
    "maskAll = np.logical_and(maskX, maskY)\n",
    "\n",
    "data_base = data_outlier.loc[maskAll]\n",
    "nDataBase = len(data_base['x'])\n",
    "\n",
    "# Plotting reference measurements\n",
    "fig, ax = plt.subplots(figsize=(12, 8))\n",
    "\n",
    "im = ax.scatter(data_outlier['x'], data_outlier['y'], c=data_outlier['field'], clip_on=True, label='Measurements')\n",
    "ax.set(xlabel='Easting', ylabel='Northing', title=f'Magnetic field map with {nDataBase} reference points.')\n",
    "refArea = mpl.patches.Rectangle((refMinX, refMinY), width=refMaxX-refMinX, height=refMaxY-refMinY,\n",
    "                               fill=False, label='Reference point selection')\n",
    "ax.set_yticklabels(['{:}'.format(int(_)) for _ in ax.get_yticks().tolist()]) # Fixes y-axis tick labels\n",
    "ax.add_artist(refArea)\n",
    "im_ref = ax.scatter(refPointX, refPointY, c='r', zorder=3, label='Reference point')\n",
    "plt.colorbar(im, ax=ax, label='Magnetic field [nT]')\n",
    "ax.legend(handles=[im, im_ref, refArea]);"
   ]
  },
  {
   "cell_type": "markdown",
   "id": "nominated-aspect",
   "metadata": {},
   "source": [
    "If the reference area includes less than 2 points, increase the tolerance. Once the base station values are obtained, they can be used in the time drift correction. Set the variable below to 'temporal' in order to use this type of corrrection. For a theoretical reference correction you can also use enter 'reference'."
   ]
  },
  {
   "cell_type": "markdown",
   "id": "colored-paste",
   "metadata": {},
   "source": [
    "## Altitude correction \n",
    "\n"
   ]
  },
  {
   "cell_type": "markdown",
   "id": "processed-scotland",
   "metadata": {},
   "source": [
    "There is an altitude dependency of the magnetic field. This correction is undertaken before any other calculations are done, and will be done on the basis of a digital elevation model (DEM) of the area."
   ]
  },
  {
   "cell_type": "code",
   "execution_count": 15,
   "id": "sunrise-mandate",
   "metadata": {},
   "outputs": [],
   "source": [
    "# # Defining reference height for altitude correction\n",
    "# # Using first measurement location as reference\n",
    "# RefHeight = data_base['z_dem'][0]\n",
    "# dH = data_outlier['z_dem'] - RefHeight\n",
    "# R = RefHeight + 6371000 # (earth radius in m)\n",
    "# field_altitude = data_outlier['field']*(1+(dH/R))**(-3)\n",
    "# data_outlier['field_alt'] = field_altitude\n"
   ]
  },
  {
   "cell_type": "code",
   "execution_count": 16,
   "id": "identical-appreciation",
   "metadata": {},
   "outputs": [],
   "source": [
    "# fig, ax = plt.subplots(figsize=(12, 8))\n",
    "\n",
    "# ax.plot(data_outlier['times'], data_outlier['field'], '--', label='Raw data')\n",
    "# ax.plot(data_outlier['times'], data_outlier['field_alt'], label='Altitude corrected data')\n",
    "# ax.set(xlabel='Measurement time [s]', ylabel='Magnetic field B [nT]')\n",
    "# ax.legend()\n"
   ]
  },
  {
   "cell_type": "code",
   "execution_count": 17,
   "id": "italic-responsibility",
   "metadata": {},
   "outputs": [
    {
     "data": {
      "text/html": [
       "<div>\n",
       "<style scoped>\n",
       "    .dataframe tbody tr th:only-of-type {\n",
       "        vertical-align: middle;\n",
       "    }\n",
       "\n",
       "    .dataframe tbody tr th {\n",
       "        vertical-align: top;\n",
       "    }\n",
       "\n",
       "    .dataframe thead th {\n",
       "        text-align: right;\n",
       "    }\n",
       "</style>\n",
       "<table border=\"1\" class=\"dataframe\">\n",
       "  <thead>\n",
       "    <tr style=\"text-align: right;\">\n",
       "      <th></th>\n",
       "      <th>Unnamed: 0</th>\n",
       "      <th>station</th>\n",
       "      <th>lat</th>\n",
       "      <th>lon</th>\n",
       "      <th>altitude</th>\n",
       "      <th>mag_x_</th>\n",
       "      <th>mag_y</th>\n",
       "      <th>mag_z</th>\n",
       "      <th>field</th>\n",
       "      <th>mag_abs_std</th>\n",
       "      <th>time</th>\n",
       "      <th>unix_time</th>\n",
       "      <th>mag_count</th>\n",
       "      <th>student_id</th>\n",
       "      <th>x</th>\n",
       "      <th>y</th>\n",
       "      <th>times</th>\n",
       "    </tr>\n",
       "  </thead>\n",
       "  <tbody>\n",
       "    <tr>\n",
       "      <th>0</th>\n",
       "      <td>0</td>\n",
       "      <td>0</td>\n",
       "      <td>50.775396</td>\n",
       "      <td>6.097728</td>\n",
       "      <td>136.590627</td>\n",
       "      <td>-8.610567</td>\n",
       "      <td>-40.309221</td>\n",
       "      <td>18.828560</td>\n",
       "      <td>45317.11056</td>\n",
       "      <td>0.225795</td>\n",
       "      <td>12.343</td>\n",
       "      <td>1655977901</td>\n",
       "      <td>38</td>\n",
       "      <td>22</td>\n",
       "      <td>295384.584504</td>\n",
       "      <td>5.628865e+06</td>\n",
       "      <td>42701.0</td>\n",
       "    </tr>\n",
       "    <tr>\n",
       "      <th>1</th>\n",
       "      <td>1</td>\n",
       "      <td>1</td>\n",
       "      <td>50.775431</td>\n",
       "      <td>6.097816</td>\n",
       "      <td>179.383080</td>\n",
       "      <td>-8.613220</td>\n",
       "      <td>-40.471357</td>\n",
       "      <td>18.665958</td>\n",
       "      <td>45394.35628</td>\n",
       "      <td>0.245927</td>\n",
       "      <td>17.091</td>\n",
       "      <td>1655977906</td>\n",
       "      <td>15</td>\n",
       "      <td>22</td>\n",
       "      <td>295390.886387</td>\n",
       "      <td>5.628868e+06</td>\n",
       "      <td>42706.0</td>\n",
       "    </tr>\n",
       "    <tr>\n",
       "      <th>2</th>\n",
       "      <td>2</td>\n",
       "      <td>2</td>\n",
       "      <td>50.775484</td>\n",
       "      <td>6.098181</td>\n",
       "      <td>157.461628</td>\n",
       "      <td>-8.595466</td>\n",
       "      <td>-40.366091</td>\n",
       "      <td>18.833211</td>\n",
       "      <td>45366.32792</td>\n",
       "      <td>0.178568</td>\n",
       "      <td>23.951</td>\n",
       "      <td>1655977913</td>\n",
       "      <td>18</td>\n",
       "      <td>22</td>\n",
       "      <td>295416.843757</td>\n",
       "      <td>5.628873e+06</td>\n",
       "      <td>42713.0</td>\n",
       "    </tr>\n",
       "    <tr>\n",
       "      <th>3</th>\n",
       "      <td>3</td>\n",
       "      <td>3</td>\n",
       "      <td>50.775536</td>\n",
       "      <td>6.098123</td>\n",
       "      <td>157.461791</td>\n",
       "      <td>-8.734515</td>\n",
       "      <td>-40.411391</td>\n",
       "      <td>18.829042</td>\n",
       "      <td>45431.98808</td>\n",
       "      <td>0.213553</td>\n",
       "      <td>33.168</td>\n",
       "      <td>1655977922</td>\n",
       "      <td>24</td>\n",
       "      <td>22</td>\n",
       "      <td>295413.003050</td>\n",
       "      <td>5.628879e+06</td>\n",
       "      <td>42722.0</td>\n",
       "    </tr>\n",
       "    <tr>\n",
       "      <th>4</th>\n",
       "      <td>4</td>\n",
       "      <td>4</td>\n",
       "      <td>50.775479</td>\n",
       "      <td>6.097959</td>\n",
       "      <td>157.461754</td>\n",
       "      <td>-8.660300</td>\n",
       "      <td>-40.382076</td>\n",
       "      <td>18.816570</td>\n",
       "      <td>45386.16409</td>\n",
       "      <td>0.183235</td>\n",
       "      <td>38.641</td>\n",
       "      <td>1655977927</td>\n",
       "      <td>15</td>\n",
       "      <td>22</td>\n",
       "      <td>295401.215139</td>\n",
       "      <td>5.628873e+06</td>\n",
       "      <td>42727.0</td>\n",
       "    </tr>\n",
       "    <tr>\n",
       "      <th>5</th>\n",
       "      <td>5</td>\n",
       "      <td>5</td>\n",
       "      <td>50.775472</td>\n",
       "      <td>6.097921</td>\n",
       "      <td>157.461759</td>\n",
       "      <td>-8.634871</td>\n",
       "      <td>-40.415058</td>\n",
       "      <td>18.923731</td>\n",
       "      <td>45455.25191</td>\n",
       "      <td>0.207831</td>\n",
       "      <td>41.817</td>\n",
       "      <td>1655977931</td>\n",
       "      <td>9</td>\n",
       "      <td>22</td>\n",
       "      <td>295398.513818</td>\n",
       "      <td>5.628873e+06</td>\n",
       "      <td>42731.0</td>\n",
       "    </tr>\n",
       "  </tbody>\n",
       "</table>\n",
       "</div>"
      ],
      "text/plain": [
       "   Unnamed: 0  station        lat       lon    altitude    mag_x_      mag_y  \\\n",
       "0           0        0  50.775396  6.097728  136.590627 -8.610567 -40.309221   \n",
       "1           1        1  50.775431  6.097816  179.383080 -8.613220 -40.471357   \n",
       "2           2        2  50.775484  6.098181  157.461628 -8.595466 -40.366091   \n",
       "3           3        3  50.775536  6.098123  157.461791 -8.734515 -40.411391   \n",
       "4           4        4  50.775479  6.097959  157.461754 -8.660300 -40.382076   \n",
       "5           5        5  50.775472  6.097921  157.461759 -8.634871 -40.415058   \n",
       "\n",
       "       mag_z        field  mag_abs_std    time   unix_time  mag_count  \\\n",
       "0  18.828560  45317.11056     0.225795  12.343  1655977901         38   \n",
       "1  18.665958  45394.35628     0.245927  17.091  1655977906         15   \n",
       "2  18.833211  45366.32792     0.178568  23.951  1655977913         18   \n",
       "3  18.829042  45431.98808     0.213553  33.168  1655977922         24   \n",
       "4  18.816570  45386.16409     0.183235  38.641  1655977927         15   \n",
       "5  18.923731  45455.25191     0.207831  41.817  1655977931          9   \n",
       "\n",
       "   student_id              x             y    times  \n",
       "0          22  295384.584504  5.628865e+06  42701.0  \n",
       "1          22  295390.886387  5.628868e+06  42706.0  \n",
       "2          22  295416.843757  5.628873e+06  42713.0  \n",
       "3          22  295413.003050  5.628879e+06  42722.0  \n",
       "4          22  295401.215139  5.628873e+06  42727.0  \n",
       "5          22  295398.513818  5.628873e+06  42731.0  "
      ]
     },
     "execution_count": 17,
     "metadata": {},
     "output_type": "execute_result"
    }
   ],
   "source": [
    "data_outlier\n"
   ]
  },
  {
   "cell_type": "markdown",
   "id": "coastal-burke",
   "metadata": {},
   "source": [
    "## Determining the anomalies"
   ]
  },
  {
   "cell_type": "code",
   "execution_count": 20,
   "id": "beginning-marriage",
   "metadata": {},
   "outputs": [],
   "source": [
    "# Select here how you want to calculate anomalies: 'reference' or 'temporal'\n",
    "anomaly_method = 'temporal'"
   ]
  },
  {
   "cell_type": "markdown",
   "id": "biblical-workshop",
   "metadata": {},
   "source": [
    "### Time drift correction\n",
    "\n",
    "The earth's magnetic field intensity changes throughout the day. If there is data available from a base station, the temporal drift can be measured and subtracted from the measured data. The base station data then also directly serves as a total field reference value, which means that the resulting values represent the magnetic anomaly relative to the base station location.\n",
    "The anomaly can also be calculated by using a local theoretical reference value, which is demonstrated in the next section."
   ]
  },
  {
   "cell_type": "code",
   "execution_count": 21,
   "id": "genuine-argument",
   "metadata": {},
   "outputs": [
    {
     "data": {
      "image/png": "[encoded data removed]",
      "text/plain": [
       "<Figure size 864x576 with 2 Axes>"
      ]
     },
     "metadata": {
      "needs_background": "light"
     },
     "output_type": "display_data"
    }
   ],
   "source": [
    "if anomaly_method == 'temporal':\n",
    "    # In order to get basestation values for the exact times at which our actual measurements were taken,\n",
    "    # we resample the basestation data. This is done via linear interpolation.\n",
    "\n",
    "    baseline_interpolator = interpolate.interp1d(data_base['times'], data_base['field'], kind='linear',\n",
    "                                                 fill_value='extrapolate')\n",
    "    baseline_field = baseline_interpolator(data_outlier['times'])\n",
    "\n",
    "    field_anomaly = data_outlier['field'] - baseline_field\n",
    "    \n",
    "    # Adding anomalies to dataframe\n",
    "    data_outlier['anomaly'] = field_anomaly\n",
    "    \n",
    "    # Plotting the results\n",
    "\n",
    "    fig, (ax0, ax1) = plt.subplots(2, 1, figsize=(12,8), sharex=True)\n",
    "    \n",
    "    ax1.scatter(data_outlier['times'], data_outlier['anomaly'])\n",
    "    ax1.set(xlabel='Measurement Time [h]', ylabel='B [nT]', title='Temporally corrected magnetic anomalies')\n",
    "    \n",
    "    ax0.scatter(data_base['times'], data_base['field'], label='Base station data')\n",
    "    ax0.plot(data_outlier['times'], baseline_field, 'k', label='Interpolated time drift')\n",
    "    ax0.set(title='Base station measurements', ylabel='Magnetic field B [nT]')\n",
    "    ax0.legend();"
   ]
  },
  {
   "cell_type": "markdown",
   "id": "legendary-excerpt",
   "metadata": {},
   "source": [
    "### Substracting Reference Fiel\n",
    "If there is no base station data available that can act as a local reference value, a theoretical backround value can be determined. Models for the earth's theoretical magnetic field are available, such as the [World Magnetic Model](http://geomag.bgs.ac.uk/data_service/models_compass/wmm_calc.html), which calculate the theoretical field value B for a given location. This can then be used to calculate deviations between our measurements and the 'ideal' value, returning the desired anomaly without accounting for any temporal trends."
   ]
  },
  {
   "cell_type": "code",
   "execution_count": 22,
   "id": "sensitive-submission",
   "metadata": {},
   "outputs": [],
   "source": [
    "if anomaly_method == 'reference':\n",
    "    # Here we define the background value for the correction, taken from literature or a suitable model\n",
    "    reference = 49000 # nT\n",
    "\n",
    "    field_anomaly = data_outlier['field'] - reference\n",
    "    data_outlier['anomaly'] = field_anomaly\n",
    "    # Plotting the results\n",
    "\n",
    "    fig, ax = plt.subplots(figsize=(12,8))\n",
    "\n",
    "    ax.scatter(data_outlier['times'], data_outlier['anomaly'])\n",
    "    ax.set(xlabel='Measurement Time [s]', ylabel='B [nT]', title='Theoretical magnetic anomalies')"
   ]
  },
  {
   "cell_type": "markdown",
   "id": "e195c4cf",
   "metadata": {},
   "source": [
    "## Plotting all data\n",
    "\n",
    "We can now visualize all collected data. Starting with a scatterplot:"
   ]
  },
  {
   "cell_type": "code",
   "execution_count": 23,
   "id": "8114242b",
   "metadata": {},
   "outputs": [
    {
     "name": "stderr",
     "output_type": "stream",
     "text": [
      "C:\\Users\\julik\\AppData\\Local\\Temp/ipykernel_18228/3744705607.py:23: UserWarning: FixedFormatter should only be used together with FixedLocator\n",
      "  ax0.set_yticklabels(['{:}'.format(int(x)) for x in ax0.get_yticks().tolist()]) # Fixes y-axis tick labels\n",
      "C:\\Users\\julik\\AppData\\Local\\Temp/ipykernel_18228/3744705607.py:24: UserWarning: FixedFormatter should only be used together with FixedLocator\n",
      "  ax2.set_yticklabels(['{:}'.format(int(x)) for x in ax2.get_yticks().tolist()]) # Fixes y-axis tick labels\n"
     ]
    },
    {
     "data": {
      "image/png": "[encoded data removed]",
      "text/plain": [
       "<Figure size 1008x864 with 5 Axes>"
      ]
     },
     "metadata": {
      "needs_background": "light"
     },
     "output_type": "display_data"
    }
   ],
   "source": [
    "# Basic Anomaly map\n",
    "fig, (ax0, ax1, ax2) = plt.subplots(3, 1, figsize=(14, 12))\n",
    "\n",
    "vmin = -np.max(np.abs(data_outlier['anomaly']))\n",
    "vmax = np.max(np.abs(data_outlier['anomaly']))\n",
    "\n",
    "# Using the temporally corrected anomalies\n",
    "im0 = ax0.scatter(data_outlier['x'], data_outlier['y'], c=data_outlier['field'])\n",
    "namegroups = data_base.groupby('student_id')\n",
    "for name, group in namegroups:\n",
    "    ax1.plot(group['times'], group['field'], '-o', label=name)\n",
    "ax1.legend()\n",
    "im2 = ax2.scatter(data_outlier['x'], data_outlier['y'], c=data_outlier['anomaly'],\n",
    "                  vmin=vmin, vmax=vmax, cmap=\"RdBu_r\")\n",
    "\n",
    "ax0.set(xlabel='Easting', ylabel='Northing', title='Outlier & altitude corrected data')\n",
    "ax1.set(xlabel='Measurement time [s]', ylabel='Magnetic field B [nT]', title='Base station data')\n",
    "ax2.set(xlabel='Easting', ylabel='Northing', title='Field anomaly map')\n",
    "plt.colorbar(im0, ax=ax0, label='Magnetic field B [nT]');\n",
    "#plt.colorbar(im1, ax=ax1, label='Magnetic field B [nT]');\n",
    "plt.colorbar(im2, ax=ax2, label='Magnetic anomaly [nT]');\n",
    "\n",
    "ax0.set_yticklabels(['{:}'.format(int(x)) for x in ax0.get_yticks().tolist()]) # Fixes y-axis tick labels\n",
    "ax2.set_yticklabels(['{:}'.format(int(x)) for x in ax2.get_yticks().tolist()]) # Fixes y-axis tick labels\n",
    "\n",
    "plt.tight_layout()"
   ]
  },
  {
   "cell_type": "markdown",
   "id": "grave-shirt",
   "metadata": {},
   "source": [
    "## Saving the results\n",
    "\n",
    "As a last step, we save our results. There are a multitude of ways and fileformats to achieve this. Since we want to store numerical data, [Numpy's save function](https://numpy.org/doc/stable/reference/generated/numpy.savez.html) is a fast and effective method to achieve this. We save the calculated anomalies as well as all data processing steps in between."
   ]
  },
  {
   "cell_type": "code",
   "execution_count": 24,
   "id": "naughty-colors",
   "metadata": {},
   "outputs": [
    {
     "name": "stderr",
     "output_type": "stream",
     "text": [
      "C:\\Users\\julik\\AppData\\Local\\Temp/ipykernel_18228/2564225288.py:10: SettingWithCopyWarning: \n",
      "A value is trying to be set on a copy of a slice from a DataFrame.\n",
      "Try using .loc[row_indexer,col_indexer] = value instead\n",
      "\n",
      "See the caveats in the documentation: https://pandas.pydata.org/pandas-docs/stable/user_guide/indexing.html#returning-a-view-versus-a-copy\n",
      "  data_base['name'] = [yourName]*len(data_base)\n"
     ]
    }
   ],
   "source": [
    "# Save the data. Give your datafile a name so it can be distinguished from the others.\n",
    "yourName = 'Random'\n",
    "fileName = 'results_magnetic_' + yourName + '.csv'\n",
    "baseFileName = 'results_magneticBASE_' + yourName + '.csv'\n",
    "\n",
    "#Enter path where data should be exported too\n",
    "folder = Path(r'C:\\Users\\julik\\sciebo\\Master\\Geophyphox\\Student Data\\Processed')\n",
    "data_outlier['name'] = [yourName]*len(data_outlier)\n",
    "\n",
    "data_base['name'] = [yourName]*len(data_base)\n",
    "data_outlier.to_csv(folder / fileName)\n",
    "data_base.to_csv(folder/ baseFileName)"
   ]
  },
  {
   "cell_type": "code",
   "execution_count": null,
   "id": "b384637d",
   "metadata": {},
   "outputs": [],
   "source": [
    "A"
   ]
  }
 ],
 "metadata": {
  "kernelspec": {
   "display_name": "Python 3.9.6 ('phyphox')",
   "language": "python",
   "name": "python3"
  },
  "language_info": {
   "codemirror_mode": {
    "name": "ipython",
    "version": 3
   },
   "file_extension": ".py",
   "mimetype": "text/x-python",
   "name": "python",
   "nbconvert_exporter": "python",
   "pygments_lexer": "ipython3",
   "version": "3.9.6"
  },
  "varInspector": {
   "cols": {
    "lenName": 16,
    "lenType": 16,
    "lenVar": 40
   },
   "kernels_config": {
    "python": {
     "delete_cmd_postfix": "",
     "delete_cmd_prefix": "del ",
     "library": "var_list.py",
     "varRefreshCmd": "print(var_dic_list())"
    },
    "r": {
     "delete_cmd_postfix": ") ",
     "delete_cmd_prefix": "rm(",
     "library": "var_list.r",
     "varRefreshCmd": "cat(var_dic_list()) "
    }
   },
   "types_to_exclude": [
    "module",
    "function",
    "builtin_function_or_method",
    "instance",
    "_Feature"
   ],
   "window_display": false
  },
  "vscode": {
   "interpreter": {
    "hash": "e4b28a28dc55192d5edec57184133bef50e3b2b9dfc9206d5a68963ae41c6579"
   }
  }
 },
 "nbformat": 4,
 "nbformat_minor": 5
}
