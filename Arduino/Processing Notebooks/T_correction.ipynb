{
 "cells": [
  {
   "cell_type": "markdown",
   "metadata": {},
   "source": [
    "# Temperature Correction Notebook\n",
    "\n",
    "This notebook is used for calculating temperature correction coefficients used in a polynomial fit to correct for temperature drift.\n",
    "\n",
    "#### Workflow\n",
    "- upload serial data in the form x-y-z-T (sensor should be calibrated already)\n",
    "- sort T-values \n",
    "- use defined function and set the \"true\" absolute field measured with the G-858 at fixed location\n",
    "- copy 3x3 matrix coefficients matrix to Arduino IDE"
   ]
  },
  {
   "cell_type": "code",
   "execution_count": 1,
   "metadata": {},
   "outputs": [],
   "source": [
    "import numpy as np\n",
    "import pandas as pd\n",
    "import matplotlib.pyplot as plt"
   ]
  },
  {
   "cell_type": "code",
   "execution_count": 2,
   "metadata": {},
   "outputs": [],
   "source": [
    "# def T_correction_coef(df,abs_true=48.205): ###Set \"True\" absolute magnetic field value here\n",
    "#     \"\"\"\n",
    "#     Calculates temperature dependend magnetic field offsets for each axis:\n",
    "    \n",
    "#     Parameters:\n",
    "#     df:      dataframe containing x-y-z-T\n",
    "#     T0:      reference temperature which will be used as basis for the magnetic field offets\n",
    "\n",
    "#     Returns: \n",
    "#     offets:  array containing offets for the three axis\n",
    "#     \"\"\"\n",
    "    \n",
    "#     T = df['T']\n",
    "#     df[\"mag_abs\"] = np.sqrt(df[\"x\"]**2+df[\"y\"]**2+df[\"z\"]**2)\n",
    "#     mag_abs = df[\"mag_abs\"]\n",
    "#     offsets = np.zeros((len(df),3))\n",
    "     \n",
    "#     Bx0 = df.iloc[abs(mag_abs - abs_true).idxmin()].iloc[0]\n",
    "#     By0 = df.iloc[abs(mag_abs - abs_true).idxmin()].iloc[1]\n",
    "#     Bz0 = df.iloc[abs(mag_abs - abs_true).idxmin()].iloc[2]\n",
    "\n",
    "#     offsets[:,0] = Bx0 - df[\"x\"]\n",
    "#     offsets[:,1] = By0 - df[\"y\"]\n",
    "#     offsets[:,2] = Bz0 - df[\"z\"]\n",
    "\n",
    "#     T_coef =  np.zeros((3,3))\n",
    "#     T_coef[0,:] = np.polyfit(T,offsets[:,0],2)\n",
    "#     T_coef[1,:] = np.polyfit(T,offsets[:,1],2)\n",
    "#     T_coef[2,:] = np.polyfit(T,offsets[:,2],2)\n",
    "#     return(T_coef)\n",
    "\n",
    "def T_correction_coef(df,T0=25):\n",
    "    \"\"\"\n",
    "    Calculates temperature dependend magnetic field offsets for each axis:\n",
    "    \n",
    "    Parameters:\n",
    "    df:      dataframe containing x-y-z-T\n",
    "    T0:      reference temperature which will be used as basis for the magnetic field offets\n",
    "\n",
    "    Returns: \n",
    "    offets:  array containing offets for the three axis\n",
    "    \"\"\"\n",
    "    T = df['T']\n",
    "    offsets = np.zeros((len(df),3))\n",
    "    Bx0 = df.iloc[abs(T - T0).idxmin()].iloc[0]\n",
    "    By0 = df.iloc[abs(T - T0).idxmin()].iloc[1]\n",
    "    Bz0 = df.iloc[abs(T - T0).idxmin()].iloc[2]\n",
    "    offsets[:,0] = Bx0 - df[\"x\"]\n",
    "    offsets[:,1] = By0 - df[\"y\"]\n",
    "    offsets[:,2] = Bz0 - df[\"z\"]\n",
    "\n",
    "    T_coef =  np.zeros((3,3))\n",
    "    T_coef[0,:] = np.polyfit(T,offsets[:,0],2)\n",
    "    T_coef[1,:] = np.polyfit(T,offsets[:,1],2)\n",
    "    T_coef[2,:] = np.polyfit(T,offsets[:,2],2)\n",
    "    return(T_coef)"
   ]
  },
  {
   "cell_type": "markdown",
   "metadata": {},
   "source": [
    "*ESP-Magnetometer-1*"
   ]
  },
  {
   "cell_type": "code",
   "execution_count": 18,
   "metadata": {},
   "outputs": [
    {
     "name": "stdout",
     "output_type": "stream",
     "text": [
      "ESP-Magnetometer-1\n"
     ]
    },
    {
     "data": {
      "text/plain": [
       "array([[-1.10318387e-03,  1.65040045e-01, -3.99251127e+00],\n",
       "       [ 4.26082971e-04, -4.75875583e-01,  1.39796128e+01],\n",
       "       [-1.45040322e-03, -1.52003606e-01,  5.86652956e+00]])"
      ]
     },
     "execution_count": 18,
     "metadata": {},
     "output_type": "execute_result"
    },
    {
     "data": {
      "image/png": "[encoded data removed]",
      "text/plain": [
       "<Figure size 432x288 with 1 Axes>"
      ]
     },
     "metadata": {
      "needs_background": "light"
     },
     "output_type": "display_data"
    }
   ],
   "source": [
    "df  = pd.read_csv(r\"C:\\Users\\julik\\sciebo\\Arduino\\Final\\Data\\Temperature\\T1_1.txt\",delim_whitespace=True,names=[\"x\",\"y\",\"z\",\"T\"])\n",
    "#Sorting data by temperature\n",
    "df.sort_values(by='T',ascending=True,inplace=True)\n",
    "df.reset_index(drop=True,inplace=True)\n",
    "\n",
    "fig,ax = plt.subplots()\n",
    "ax.plot(df[\"T\"],\"ro\",label=\"Label\",)\n",
    "\n",
    "ax.set(title=\"Temperature\",xlabel=\"x\",ylabel=\"y\")\n",
    "ax.grid()\n",
    "ax.legend()\n",
    "coeff = T_correction_coef(df,T0=np.mean(df[\"T\"]))\n",
    "# coeff = T_correction_coef(df,df[])\n",
    "print(\"ESP-Magnetometer-1\")\n",
    "coeff"
   ]
  },
  {
   "cell_type": "code",
   "execution_count": 19,
   "metadata": {},
   "outputs": [
    {
     "name": "stdout",
     "output_type": "stream",
     "text": [
      "ESP-Magnetometer-1\n"
     ]
    },
    {
     "data": {
      "text/plain": [
       "array([[-2.37944779e-04,  7.77412735e-02, -2.51935955e+00],\n",
       "       [ 2.09523028e-03, -7.76919674e-01,  2.17973632e+01],\n",
       "       [-7.41018719e-04, -3.18939810e-01,  1.09291899e+01]])"
      ]
     },
     "execution_count": 19,
     "metadata": {},
     "output_type": "execute_result"
    },
    {
     "data": {
      "image/png": "[encoded data removed]",
      "text/plain": [
       "<Figure size 432x288 with 1 Axes>"
      ]
     },
     "metadata": {
      "needs_background": "light"
     },
     "output_type": "display_data"
    }
   ],
   "source": [
    "df  = pd.read_csv(r\"C:\\Users\\julik\\sciebo\\Arduino\\Final\\Data\\Temperature\\T2.txt\",delim_whitespace=True,names=[\"x\",\"y\",\"z\",\"T\"])\n",
    "#Sorting data by temperature\n",
    "df.sort_values(by='T',ascending=True,inplace=True)\n",
    "df.reset_index(drop=True,inplace=True)\n",
    "\n",
    "fig,ax = plt.subplots()\n",
    "ax.plot(df[\"T\"],\"ro\",label=\"Label\",)\n",
    "\n",
    "ax.set(title=\"Temperature\",xlabel=\"x\",ylabel=\"y\")\n",
    "ax.grid()\n",
    "ax.legend()\n",
    "coeff = T_correction_coef(df,T0=np.mean(df[\"T\"]))\n",
    "# coeff = T_correction_coef(df,df[])\n",
    "print(\"ESP-Magnetometer-1\")\n",
    "coeff"
   ]
  },
  {
   "cell_type": "markdown",
   "metadata": {},
   "source": [
    "*ESP-Magnetometer-3*"
   ]
  },
  {
   "cell_type": "code",
   "execution_count": 4,
   "metadata": {},
   "outputs": [
    {
     "name": "stdout",
     "output_type": "stream",
     "text": [
      "ESP-Magnetometer-3\n"
     ]
    },
    {
     "data": {
      "text/plain": [
       "array([[-2.16545778e-03,  2.03949572e-01, -4.66051830e+00],\n",
       "       [-2.18183398e-03, -1.01076680e-01,  5.81346154e+00],\n",
       "       [-2.24857540e-03, -1.63650788e-01,  6.87485484e+00]])"
      ]
     },
     "execution_count": 4,
     "metadata": {},
     "output_type": "execute_result"
    },
    {
     "data": {
      "image/png": "[encoded data removed]",
      "text/plain": [
       "<Figure size 432x288 with 1 Axes>"
      ]
     },
     "metadata": {
      "needs_background": "light"
     },
     "output_type": "display_data"
    }
   ],
   "source": [
    "df  = pd.read_csv(r\"C:\\Users\\julik\\sciebo\\Arduino\\Final\\Data\\Temperature\\T3 (2).txt\",delim_whitespace=True,names=[\"x\",\"y\",\"z\",\"T\"])\n",
    "#Sorting data by temperature\n",
    "df.sort_values(by='T',ascending=True,inplace=True)\n",
    "df.reset_index(drop=True,inplace=True)\n",
    "\n",
    "fig,ax = plt.subplots()\n",
    "ax.plot(df[\"T\"],\"ro\",label=\"Label\",)\n",
    "\n",
    "ax.set(title=\"Temperature\",xlabel=\"x\",ylabel=\"y\")\n",
    "ax.grid()\n",
    "ax.legend()\n",
    "coeff = T_correction_coef(df,T0=np.mean(df[\"T\"]))\n",
    "# coeff = T_correction_coef(df,48.35)\n",
    "\n",
    "print(\"ESP-Magnetometer-3\")\n",
    "coeff"
   ]
  },
  {
   "cell_type": "markdown",
   "metadata": {},
   "source": [
    "*ESP-Magnetometer-4*"
   ]
  },
  {
   "cell_type": "code",
   "execution_count": 5,
   "metadata": {},
   "outputs": [
    {
     "name": "stdout",
     "output_type": "stream",
     "text": [
      "ESP-Magnetometer-4\n"
     ]
    },
    {
     "data": {
      "text/plain": [
       "array([[-1.88691658e-03,  7.39156159e-02,  1.16362765e-01],\n",
       "       [ 3.06965038e-04, -5.61819484e-01,  2.56562761e+01],\n",
       "       [-9.96968219e-04, -1.68164668e-01,  9.44843893e+00]])"
      ]
     },
     "execution_count": 5,
     "metadata": {},
     "output_type": "execute_result"
    },
    {
     "data": {
      "image/png": "[encoded data removed]",
      "text/plain": [
       "<Figure size 432x288 with 1 Axes>"
      ]
     },
     "metadata": {
      "needs_background": "light"
     },
     "output_type": "display_data"
    }
   ],
   "source": [
    "df  = pd.read_csv(r\"C:\\Users\\julik\\sciebo\\Arduino\\Final\\Data\\Temperature\\T4_2.txt\",delim_whitespace=True,names=[\"x\",\"y\",\"z\",\"T\"])\n",
    "#Sorting data by temperature\n",
    "df.sort_values(by='T',ascending=True,inplace=True)\n",
    "df.reset_index(drop=True,inplace=True)\n",
    "\n",
    "fig,ax = plt.subplots()\n",
    "ax.plot(df[\"T\"],\"ro\",label=\"Label\",)\n",
    "\n",
    "ax.set(title=\"Temperature\",xlabel=\"x\",ylabel=\"y\")\n",
    "ax.grid()\n",
    "ax.legend()\n",
    "\n",
    "# coeff = T_correction_coef(df,T0=np.mean(df[\"T\"]))\n",
    "coeff = T_correction_coef(df,48.35)\n",
    "\n",
    "print(\"ESP-Magnetometer-4\")\n",
    "coeff"
   ]
  },
  {
   "cell_type": "markdown",
   "metadata": {},
   "source": [
    "*ESP-Magnetometer-5*"
   ]
  },
  {
   "cell_type": "code",
   "execution_count": 6,
   "metadata": {},
   "outputs": [
    {
     "name": "stdout",
     "output_type": "stream",
     "text": [
      "ESP-Magnetometer-5\n"
     ]
    },
    {
     "data": {
      "text/plain": [
       "array([[-2.63720047e-03,  2.30256612e-01, -4.29327963e+00],\n",
       "       [ 2.12523189e-03, -5.59917300e-01,  1.61745015e+01],\n",
       "       [ 2.82593583e-04, -3.30714272e-01,  1.05105069e+01]])"
      ]
     },
     "execution_count": 6,
     "metadata": {},
     "output_type": "execute_result"
    },
    {
     "data": {
      "image/png": "[encoded data removed]",
      "text/plain": [
       "<Figure size 432x288 with 1 Axes>"
      ]
     },
     "metadata": {
      "needs_background": "light"
     },
     "output_type": "display_data"
    }
   ],
   "source": [
    "df  = pd.read_csv(r\"C:\\Users\\julik\\sciebo\\Arduino\\Final\\Data\\Temperature\\T5.txt\",delim_whitespace=True,names=[\"x\",\"y\",\"z\",\"T\"])\n",
    "#Sorting data by temperature\n",
    "df.sort_values(by='T',ascending=True,inplace=True)\n",
    "df.reset_index(drop=True,inplace=True)\n",
    "\n",
    "fig,ax = plt.subplots()\n",
    "ax.plot(df[\"T\"],\"ro\",label=\"Label\",)\n",
    "\n",
    "ax.set(title=\"Temperature\",xlabel=\"x\",ylabel=\"y\")\n",
    "ax.grid()\n",
    "ax.legend()\n",
    "\n",
    "\n",
    "coeff = T_correction_coef(df,T0=np.mean(df[\"T\"]))\n",
    "print(\"ESP-Magnetometer-5\")\n",
    "coeff"
   ]
  },
  {
   "cell_type": "markdown",
   "metadata": {},
   "source": [
    "*ESP-Magnetometer-6*"
   ]
  },
  {
   "cell_type": "code",
   "execution_count": 7,
   "metadata": {},
   "outputs": [
    {
     "name": "stdout",
     "output_type": "stream",
     "text": [
      "ESP-Magnetometer-6\n"
     ]
    },
    {
     "data": {
      "text/plain": [
       "array([[-2.52660671e-03,  3.03545950e-01, -6.87752519e+00],\n",
       "       [ 1.02874266e-03, -5.85238458e-01,  1.66374867e+01],\n",
       "       [-7.16005840e-04, -2.97275069e-01,  9.52670151e+00]])"
      ]
     },
     "execution_count": 7,
     "metadata": {},
     "output_type": "execute_result"
    },
    {
     "data": {
      "image/png": "[encoded data removed]",
      "text/plain": [
       "<Figure size 432x288 with 1 Axes>"
      ]
     },
     "metadata": {
      "needs_background": "light"
     },
     "output_type": "display_data"
    }
   ],
   "source": [
    "df  = pd.read_csv(r\"C:\\Users\\julik\\sciebo\\Arduino\\Final\\Data\\Temperature\\T6.txt\",delim_whitespace=True,names=[\"x\",\"y\",\"z\",\"T\"])\n",
    "#Sorting data by temperature\n",
    "df.sort_values(by='T',ascending=True,inplace=True)\n",
    "df.reset_index(drop=True,inplace=True)\n",
    "\n",
    "fig,ax = plt.subplots()\n",
    "ax.plot(df[\"T\"],\"ro\",label=\"Label\",)\n",
    "\n",
    "ax.set(title=\"Temperature\",xlabel=\"x\",ylabel=\"y\")\n",
    "ax.grid()\n",
    "ax.legend()\n",
    "\n",
    "coeff = T_correction_coef(df,T0=np.mean(df[\"T\"]))\n",
    "print(\"ESP-Magnetometer-6\")\n",
    "coeff"
   ]
  },
  {
   "cell_type": "markdown",
   "metadata": {},
   "source": [
    "*ESP-Magnetometer-7*"
   ]
  },
  {
   "cell_type": "code",
   "execution_count": 8,
   "metadata": {},
   "outputs": [
    {
     "name": "stdout",
     "output_type": "stream",
     "text": [
      "ESP-Magnetometer-7\n"
     ]
    },
    {
     "data": {
      "text/plain": [
       "array([[-1.38000665e-03,  2.07615846e-02,  1.06572219e+00],\n",
       "       [ 5.23453231e-04, -4.09581094e-01,  1.43835176e+01],\n",
       "       [-1.88291074e-03, -1.47897213e-01,  7.78574464e+00]])"
      ]
     },
     "execution_count": 8,
     "metadata": {},
     "output_type": "execute_result"
    },
    {
     "data": {
      "image/png": "[encoded data removed]",
      "text/plain": [
       "<Figure size 432x288 with 1 Axes>"
      ]
     },
     "metadata": {
      "needs_background": "light"
     },
     "output_type": "display_data"
    }
   ],
   "source": [
    "df  = pd.read_csv(r\"C:\\Users\\julik\\sciebo\\Arduino\\Final\\Data\\Temperature\\T7.txt\",delim_whitespace=True,names=[\"x\",\"y\",\"z\",\"T\"])\n",
    "#Sorting data by temperature\n",
    "df.sort_values(by='T',ascending=True,inplace=True)\n",
    "df.reset_index(drop=True,inplace=True)\n",
    "\n",
    "fig,ax = plt.subplots()\n",
    "ax.plot(df[\"T\"],\"ro\",label=\"Label\",)\n",
    "\n",
    "ax.set(title=\"Temperature\",xlabel=\"x\",ylabel=\"y\")\n",
    "ax.grid()\n",
    "ax.legend()\n",
    "\n",
    "\n",
    "coeff = T_correction_coef(df,T0=np.mean(df[\"T\"]))\n",
    "print(\"ESP-Magnetometer-7\")\n",
    "coeff"
   ]
  },
  {
   "cell_type": "markdown",
   "metadata": {},
   "source": [
    "*ESP-Magnetometer-8*"
   ]
  },
  {
   "cell_type": "code",
   "execution_count": 9,
   "metadata": {},
   "outputs": [
    {
     "name": "stdout",
     "output_type": "stream",
     "text": [
      "ESP-Magnetometer-8\n"
     ]
    },
    {
     "data": {
      "text/plain": [
       "array([[-1.60305272e-03,  1.81750187e-01, -3.88712992e+00],\n",
       "       [ 1.20618281e-03, -5.10414880e-01,  1.40412705e+01],\n",
       "       [-8.56495399e-04, -1.98148504e-01,  6.43997339e+00]])"
      ]
     },
     "execution_count": 9,
     "metadata": {},
     "output_type": "execute_result"
    },
    {
     "data": {
      "image/png": "[encoded data removed]",
      "text/plain": [
       "<Figure size 432x288 with 1 Axes>"
      ]
     },
     "metadata": {
      "needs_background": "light"
     },
     "output_type": "display_data"
    }
   ],
   "source": [
    "df  = pd.read_csv(r\"C:\\Users\\julik\\sciebo\\Arduino\\Final\\Data\\Temperature\\T8.txt\",delim_whitespace=True,names=[\"x\",\"y\",\"z\",\"T\"])\n",
    "#Sorting data by temperature\n",
    "df.sort_values(by='T',ascending=True,inplace=True)\n",
    "df.reset_index(drop=True,inplace=True)\n",
    "\n",
    "fig,ax = plt.subplots()\n",
    "ax.plot(df[\"T\"],\"ro\",label=\"Label\",)\n",
    "\n",
    "ax.set(title=\"Temperature\",xlabel=\"x\",ylabel=\"y\")\n",
    "ax.grid()\n",
    "ax.legend()\n",
    "\n",
    "coeff = T_correction_coef(df,T0=np.mean(df[\"T\"]))\n",
    "print(\"ESP-Magnetometer-8\")\n",
    "coeff"
   ]
  },
  {
   "cell_type": "markdown",
   "metadata": {},
   "source": [
    "*ESP-Magnetometer-9*"
   ]
  },
  {
   "cell_type": "code",
   "execution_count": 10,
   "metadata": {},
   "outputs": [
    {
     "name": "stdout",
     "output_type": "stream",
     "text": [
      "ESP-Magnetometer-9\n"
     ]
    },
    {
     "data": {
      "text/plain": [
       "array([[-5.74520421e-04, -3.26585112e-02,  2.04248789e+00],\n",
       "       [ 2.01285214e-03, -8.05596228e-01,  2.45015382e+01],\n",
       "       [-7.22594149e-04, -2.55751057e-01,  9.53791334e+00]])"
      ]
     },
     "execution_count": 10,
     "metadata": {},
     "output_type": "execute_result"
    },
    {
     "data": {
      "image/png": "[encoded data removed]",
      "text/plain": [
       "<Figure size 432x288 with 1 Axes>"
      ]
     },
     "metadata": {
      "needs_background": "light"
     },
     "output_type": "display_data"
    }
   ],
   "source": [
    "df  = pd.read_csv(r\"C:\\Users\\julik\\sciebo\\Arduino\\Final\\Data\\Temperature\\T9.txt\",delim_whitespace=True,names=[\"x\",\"y\",\"z\",\"T\"])\n",
    "#Sorting data by temperature\n",
    "df.sort_values(by='T',ascending=True,inplace=True)\n",
    "df.reset_index(drop=True,inplace=True)\n",
    "\n",
    "fig,ax = plt.subplots()\n",
    "ax.plot(df[\"T\"],\"ro\",label=\"Label\",)\n",
    "\n",
    "ax.set(title=\"Temperature\",xlabel=\"x\",ylabel=\"y\")\n",
    "ax.grid()\n",
    "ax.legend()\n",
    "\n",
    "\n",
    "coeff = T_correction_coef(df,T0=np.mean(df[\"T\"]))\n",
    "print(\"ESP-Magnetometer-9\")\n",
    "coeff"
   ]
  },
  {
   "cell_type": "markdown",
   "metadata": {},
   "source": [
    "*ESP-Magnetometer-10*"
   ]
  },
  {
   "cell_type": "code",
   "execution_count": 11,
   "metadata": {},
   "outputs": [
    {
     "name": "stdout",
     "output_type": "stream",
     "text": [
      "ESP-Magnetometer-10\n"
     ]
    },
    {
     "data": {
      "text/plain": [
       "array([[-1.67403811e-03,  7.43341031e-02, -1.01350341e+00],\n",
       "       [ 1.11249832e-03, -5.63636575e-01,  1.51912766e+01],\n",
       "       [-1.04522825e-03, -2.21132691e-01,  6.96503482e+00]])"
      ]
     },
     "execution_count": 11,
     "metadata": {},
     "output_type": "execute_result"
    },
    {
     "data": {
      "image/png": "[encoded data removed]",
      "text/plain": [
       "<Figure size 432x288 with 1 Axes>"
      ]
     },
     "metadata": {
      "needs_background": "light"
     },
     "output_type": "display_data"
    }
   ],
   "source": [
    "df  = pd.read_csv(r\"C:\\Users\\julik\\sciebo\\Arduino\\Final\\Data\\Temperature\\T10.txt\",delim_whitespace=True,names=[\"x\",\"y\",\"z\",\"T\"])\n",
    "#Sorting data by temperature\n",
    "df.sort_values(by='T',ascending=True,inplace=True)\n",
    "df.reset_index(drop=True,inplace=True)\n",
    "\n",
    "fig,ax = plt.subplots()\n",
    "ax.plot(df[\"T\"],\"ro\",label=\"Label\",)\n",
    "\n",
    "ax.set(title=\"Temperature\",xlabel=\"x\",ylabel=\"y\")\n",
    "ax.grid()\n",
    "ax.legend()\n",
    "\n",
    "\n",
    "coeff = T_correction_coef(df,T0=np.mean(df[\"T\"]))\n",
    "print(\"ESP-Magnetometer-10\")\n",
    "coeff"
   ]
  },
  {
   "cell_type": "markdown",
   "metadata": {},
   "source": [
    "*ESP-Magnetometer-11*"
   ]
  },
  {
   "cell_type": "code",
   "execution_count": 12,
   "metadata": {},
   "outputs": [
    {
     "name": "stdout",
     "output_type": "stream",
     "text": [
      "ESP-Magnetometer-11\n"
     ]
    },
    {
     "data": {
      "text/plain": [
       "array([[-1.13462803e-03,  8.51940064e-02, -1.28214711e+00],\n",
       "       [ 1.37009681e-03, -4.07809193e-01,  1.21690859e+01],\n",
       "       [ 1.04265592e-03, -5.24785804e-01,  1.70581491e+01]])"
      ]
     },
     "execution_count": 12,
     "metadata": {},
     "output_type": "execute_result"
    },
    {
     "data": {
      "image/png": "[encoded data removed]",
      "text/plain": [
       "<Figure size 432x288 with 1 Axes>"
      ]
     },
     "metadata": {
      "needs_background": "light"
     },
     "output_type": "display_data"
    }
   ],
   "source": [
    "df  = pd.read_csv(r\"C:\\Users\\julik\\sciebo\\Arduino\\Final\\Data\\Temperature\\T11.txt\",delim_whitespace=True,names=[\"x\",\"y\",\"z\",\"T\"])\n",
    "#Sorting data by temperature\n",
    "df.sort_values(by='T',ascending=True,inplace=True)\n",
    "df.reset_index(drop=True,inplace=True)\n",
    "\n",
    "fig,ax = plt.subplots()\n",
    "ax.plot(df[\"T\"],\"ro\",label=\"Label\",)\n",
    "\n",
    "ax.set(title=\"Temperature\",xlabel=\"x\",ylabel=\"y\")\n",
    "ax.grid()\n",
    "ax.legend()\n",
    "\n",
    "\n",
    "coeff = T_correction_coef(df,T0=np.mean(df[\"T\"]))\n",
    "print(\"ESP-Magnetometer-11\")\n",
    "coeff"
   ]
  },
  {
   "cell_type": "markdown",
   "metadata": {},
   "source": [
    "*ESP-Magnetometer-12*"
   ]
  },
  {
   "cell_type": "code",
   "execution_count": 13,
   "metadata": {},
   "outputs": [
    {
     "name": "stdout",
     "output_type": "stream",
     "text": [
      "ESP-Magnetometer-12\n"
     ]
    },
    {
     "data": {
      "text/plain": [
       "array([[-8.86682680e-04, -1.90060920e-03,  1.03406232e+00],\n",
       "       [-6.69500441e-04, -3.13905005e-01,  1.05741399e+01],\n",
       "       [-4.60597071e-04, -2.65830694e-01,  8.77977923e+00]])"
      ]
     },
     "execution_count": 13,
     "metadata": {},
     "output_type": "execute_result"
    },
    {
     "data": {
      "image/png": "[encoded data removed]",
      "text/plain": [
       "<Figure size 432x288 with 1 Axes>"
      ]
     },
     "metadata": {
      "needs_background": "light"
     },
     "output_type": "display_data"
    }
   ],
   "source": [
    "df  = pd.read_csv(r\"C:\\Users\\julik\\sciebo\\Arduino\\Final\\Data\\Temperature\\T12.txt\",delim_whitespace=True,names=[\"x\",\"y\",\"z\",\"T\"])\n",
    "#Sorting data by temperature\n",
    "df.sort_values(by='T',ascending=True,inplace=True)\n",
    "df.reset_index(drop=True,inplace=True)\n",
    "\n",
    "fig,ax = plt.subplots()\n",
    "ax.plot(df[\"T\"],\"ro\",label=\"Label\",)\n",
    "\n",
    "ax.set(title=\"Temperature\",xlabel=\"x\",ylabel=\"y\")\n",
    "ax.grid()\n",
    "ax.legend()\n",
    "\n",
    "coeff = T_correction_coef(df,T0=np.mean(df[\"T\"]))\n",
    "print(\"ESP-Magnetometer-12\")\n",
    "coeff"
   ]
  },
  {
   "cell_type": "markdown",
   "metadata": {},
   "source": [
    "*ESP-Magnetometer-13*"
   ]
  },
  {
   "cell_type": "code",
   "execution_count": 14,
   "metadata": {},
   "outputs": [
    {
     "name": "stdout",
     "output_type": "stream",
     "text": [
      "ESP-Magnetometer-13\n"
     ]
    },
    {
     "data": {
      "text/plain": [
       "array([[-2.67898734e-03,  2.03064976e-01, -4.13089313e+00],\n",
       "       [ 5.37311348e-04, -4.85369433e-01,  1.48336986e+01],\n",
       "       [-3.11173377e-04, -4.02823531e-01,  1.38387533e+01]])"
      ]
     },
     "execution_count": 14,
     "metadata": {},
     "output_type": "execute_result"
    },
    {
     "data": {
      "image/png": "[encoded data removed]",
      "text/plain": [
       "<Figure size 432x288 with 1 Axes>"
      ]
     },
     "metadata": {
      "needs_background": "light"
     },
     "output_type": "display_data"
    }
   ],
   "source": [
    "df  = pd.read_csv(r\"C:\\Users\\julik\\sciebo\\Arduino\\Final\\Data\\Temperature\\T13.txt\",delim_whitespace=True,names=[\"x\",\"y\",\"z\",\"T\"])\n",
    "#Sorting data by temperature\n",
    "df.sort_values(by='T',ascending=True,inplace=True)\n",
    "df.reset_index(drop=True,inplace=True)\n",
    "\n",
    "fig,ax = plt.subplots()\n",
    "ax.plot(df[\"T\"],\"ro\",label=\"Label\",)\n",
    "\n",
    "ax.set(title=\"Temperature\",xlabel=\"x\",ylabel=\"y\")\n",
    "ax.grid()\n",
    "ax.legend()\n",
    "\n",
    "coeff = T_correction_coef(df,T0=np.mean(df[\"T\"]))\n",
    "print(\"ESP-Magnetometer-13\")\n",
    "coeff"
   ]
  },
  {
   "cell_type": "markdown",
   "metadata": {},
   "source": [
    "*ESP-Magnetometer-14*"
   ]
  },
  {
   "cell_type": "code",
   "execution_count": 15,
   "metadata": {},
   "outputs": [
    {
     "name": "stdout",
     "output_type": "stream",
     "text": [
      "ESP-Magnetometer-14\n"
     ]
    },
    {
     "data": {
      "text/plain": [
       "array([[-7.32341840e-04, -3.27481874e-02,  1.76894176e+00],\n",
       "       [ 1.39695413e-03, -6.68557756e-01,  1.99955566e+01],\n",
       "       [-1.00336774e-03, -2.89388527e-01,  1.05682381e+01]])"
      ]
     },
     "execution_count": 15,
     "metadata": {},
     "output_type": "execute_result"
    },
    {
     "data": {
      "image/png": "[encoded data removed]",
      "text/plain": [
       "<Figure size 432x288 with 1 Axes>"
      ]
     },
     "metadata": {
      "needs_background": "light"
     },
     "output_type": "display_data"
    }
   ],
   "source": [
    "df  = pd.read_csv(r\"C:\\Users\\julik\\sciebo\\Arduino\\Final\\Data\\Temperature\\T14.txt\",delim_whitespace=True,names=[\"x\",\"y\",\"z\",\"T\"])\n",
    "#Sorting data by temperature\n",
    "df.sort_values(by='T',ascending=True,inplace=True)\n",
    "df.reset_index(drop=True,inplace=True)\n",
    "\n",
    "fig,ax = plt.subplots()\n",
    "ax.plot(df[\"T\"],\"ro\",label=\"Label\",)\n",
    "\n",
    "ax.set(title=\"Temperature\",xlabel=\"x\",ylabel=\"y\")\n",
    "ax.grid()\n",
    "ax.legend()\n",
    "\n",
    "coeff = T_correction_coef(df,T0=np.mean(df[\"T\"]))\n",
    "print(\"ESP-Magnetometer-14\")\n",
    "coeff"
   ]
  },
  {
   "cell_type": "markdown",
   "metadata": {},
   "source": [
    "*ESP-Magnetometer-15*"
   ]
  },
  {
   "cell_type": "code",
   "execution_count": 16,
   "metadata": {},
   "outputs": [
    {
     "ename": "FileNotFoundError",
     "evalue": "[Errno 2] No such file or directory: 'C:\\\\Users\\\\julik\\\\sciebo\\\\Arduino\\\\Final\\\\Data\\\\Temperature\\\\T15.txt'",
     "output_type": "error",
     "traceback": [
      "\u001b[1;31m---------------------------------------------------------------------------\u001b[0m",
      "\u001b[1;31mFileNotFoundError\u001b[0m                         Traceback (most recent call last)",
      "\u001b[1;32m~\\AppData\\Local\\Temp/ipykernel_10188/154098506.py\u001b[0m in \u001b[0;36m<module>\u001b[1;34m\u001b[0m\n\u001b[1;32m----> 1\u001b[1;33m \u001b[0mdf\u001b[0m  \u001b[1;33m=\u001b[0m \u001b[0mpd\u001b[0m\u001b[1;33m.\u001b[0m\u001b[0mread_csv\u001b[0m\u001b[1;33m(\u001b[0m\u001b[1;34mr\"C:\\Users\\julik\\sciebo\\Arduino\\Final\\Data\\Temperature\\T15.txt\"\u001b[0m\u001b[1;33m,\u001b[0m\u001b[0mdelim_whitespace\u001b[0m\u001b[1;33m=\u001b[0m\u001b[1;32mTrue\u001b[0m\u001b[1;33m,\u001b[0m\u001b[0mnames\u001b[0m\u001b[1;33m=\u001b[0m\u001b[1;33m[\u001b[0m\u001b[1;34m\"x\"\u001b[0m\u001b[1;33m,\u001b[0m\u001b[1;34m\"y\"\u001b[0m\u001b[1;33m,\u001b[0m\u001b[1;34m\"z\"\u001b[0m\u001b[1;33m,\u001b[0m\u001b[1;34m\"T\"\u001b[0m\u001b[1;33m]\u001b[0m\u001b[1;33m)\u001b[0m\u001b[1;33m\u001b[0m\u001b[1;33m\u001b[0m\u001b[0m\n\u001b[0m\u001b[0;32m      2\u001b[0m \u001b[1;31m#Sorting data by temperature\u001b[0m\u001b[1;33m\u001b[0m\u001b[1;33m\u001b[0m\u001b[1;33m\u001b[0m\u001b[0m\n\u001b[0;32m      3\u001b[0m \u001b[0mdf\u001b[0m\u001b[1;33m.\u001b[0m\u001b[0msort_values\u001b[0m\u001b[1;33m(\u001b[0m\u001b[0mby\u001b[0m\u001b[1;33m=\u001b[0m\u001b[1;34m'T'\u001b[0m\u001b[1;33m,\u001b[0m\u001b[0mascending\u001b[0m\u001b[1;33m=\u001b[0m\u001b[1;32mTrue\u001b[0m\u001b[1;33m,\u001b[0m\u001b[0minplace\u001b[0m\u001b[1;33m=\u001b[0m\u001b[1;32mTrue\u001b[0m\u001b[1;33m)\u001b[0m\u001b[1;33m\u001b[0m\u001b[1;33m\u001b[0m\u001b[0m\n\u001b[0;32m      4\u001b[0m \u001b[0mdf\u001b[0m\u001b[1;33m.\u001b[0m\u001b[0mreset_index\u001b[0m\u001b[1;33m(\u001b[0m\u001b[0mdrop\u001b[0m\u001b[1;33m=\u001b[0m\u001b[1;32mTrue\u001b[0m\u001b[1;33m,\u001b[0m\u001b[0minplace\u001b[0m\u001b[1;33m=\u001b[0m\u001b[1;32mTrue\u001b[0m\u001b[1;33m)\u001b[0m\u001b[1;33m\u001b[0m\u001b[1;33m\u001b[0m\u001b[0m\n\u001b[0;32m      5\u001b[0m \u001b[1;33m\u001b[0m\u001b[0m\n",
      "\u001b[1;32mc:\\Users\\julik\\Programs\\Anaconda\\envs\\phyphox\\lib\\site-packages\\pandas\\util\\_decorators.py\u001b[0m in \u001b[0;36mwrapper\u001b[1;34m(*args, **kwargs)\u001b[0m\n\u001b[0;32m    309\u001b[0m                     \u001b[0mstacklevel\u001b[0m\u001b[1;33m=\u001b[0m\u001b[0mstacklevel\u001b[0m\u001b[1;33m,\u001b[0m\u001b[1;33m\u001b[0m\u001b[1;33m\u001b[0m\u001b[0m\n\u001b[0;32m    310\u001b[0m                 )\n\u001b[1;32m--> 311\u001b[1;33m             \u001b[1;32mreturn\u001b[0m \u001b[0mfunc\u001b[0m\u001b[1;33m(\u001b[0m\u001b[1;33m*\u001b[0m\u001b[0margs\u001b[0m\u001b[1;33m,\u001b[0m \u001b[1;33m**\u001b[0m\u001b[0mkwargs\u001b[0m\u001b[1;33m)\u001b[0m\u001b[1;33m\u001b[0m\u001b[1;33m\u001b[0m\u001b[0m\n\u001b[0m\u001b[0;32m    312\u001b[0m \u001b[1;33m\u001b[0m\u001b[0m\n\u001b[0;32m    313\u001b[0m         \u001b[1;32mreturn\u001b[0m \u001b[0mwrapper\u001b[0m\u001b[1;33m\u001b[0m\u001b[1;33m\u001b[0m\u001b[0m\n",
      "\u001b[1;32mc:\\Users\\julik\\Programs\\Anaconda\\envs\\phyphox\\lib\\site-packages\\pandas\\io\\parsers\\readers.py\u001b[0m in \u001b[0;36mread_csv\u001b[1;34m(filepath_or_buffer, sep, delimiter, header, names, index_col, usecols, squeeze, prefix, mangle_dupe_cols, dtype, engine, converters, true_values, false_values, skipinitialspace, skiprows, skipfooter, nrows, na_values, keep_default_na, na_filter, verbose, skip_blank_lines, parse_dates, infer_datetime_format, keep_date_col, date_parser, dayfirst, cache_dates, iterator, chunksize, compression, thousands, decimal, lineterminator, quotechar, quoting, doublequote, escapechar, comment, encoding, encoding_errors, dialect, error_bad_lines, warn_bad_lines, on_bad_lines, delim_whitespace, low_memory, memory_map, float_precision, storage_options)\u001b[0m\n\u001b[0;32m    584\u001b[0m     \u001b[0mkwds\u001b[0m\u001b[1;33m.\u001b[0m\u001b[0mupdate\u001b[0m\u001b[1;33m(\u001b[0m\u001b[0mkwds_defaults\u001b[0m\u001b[1;33m)\u001b[0m\u001b[1;33m\u001b[0m\u001b[1;33m\u001b[0m\u001b[0m\n\u001b[0;32m    585\u001b[0m \u001b[1;33m\u001b[0m\u001b[0m\n\u001b[1;32m--> 586\u001b[1;33m     \u001b[1;32mreturn\u001b[0m \u001b[0m_read\u001b[0m\u001b[1;33m(\u001b[0m\u001b[0mfilepath_or_buffer\u001b[0m\u001b[1;33m,\u001b[0m \u001b[0mkwds\u001b[0m\u001b[1;33m)\u001b[0m\u001b[1;33m\u001b[0m\u001b[1;33m\u001b[0m\u001b[0m\n\u001b[0m\u001b[0;32m    587\u001b[0m \u001b[1;33m\u001b[0m\u001b[0m\n\u001b[0;32m    588\u001b[0m \u001b[1;33m\u001b[0m\u001b[0m\n",
      "\u001b[1;32mc:\\Users\\julik\\Programs\\Anaconda\\envs\\phyphox\\lib\\site-packages\\pandas\\io\\parsers\\readers.py\u001b[0m in \u001b[0;36m_read\u001b[1;34m(filepath_or_buffer, kwds)\u001b[0m\n\u001b[0;32m    480\u001b[0m \u001b[1;33m\u001b[0m\u001b[0m\n\u001b[0;32m    481\u001b[0m     \u001b[1;31m# Create the parser.\u001b[0m\u001b[1;33m\u001b[0m\u001b[1;33m\u001b[0m\u001b[1;33m\u001b[0m\u001b[0m\n\u001b[1;32m--> 482\u001b[1;33m     \u001b[0mparser\u001b[0m \u001b[1;33m=\u001b[0m \u001b[0mTextFileReader\u001b[0m\u001b[1;33m(\u001b[0m\u001b[0mfilepath_or_buffer\u001b[0m\u001b[1;33m,\u001b[0m \u001b[1;33m**\u001b[0m\u001b[0mkwds\u001b[0m\u001b[1;33m)\u001b[0m\u001b[1;33m\u001b[0m\u001b[1;33m\u001b[0m\u001b[0m\n\u001b[0m\u001b[0;32m    483\u001b[0m \u001b[1;33m\u001b[0m\u001b[0m\n\u001b[0;32m    484\u001b[0m     \u001b[1;32mif\u001b[0m \u001b[0mchunksize\u001b[0m \u001b[1;32mor\u001b[0m \u001b[0miterator\u001b[0m\u001b[1;33m:\u001b[0m\u001b[1;33m\u001b[0m\u001b[1;33m\u001b[0m\u001b[0m\n",
      "\u001b[1;32mc:\\Users\\julik\\Programs\\Anaconda\\envs\\phyphox\\lib\\site-packages\\pandas\\io\\parsers\\readers.py\u001b[0m in \u001b[0;36m__init__\u001b[1;34m(self, f, engine, **kwds)\u001b[0m\n\u001b[0;32m    809\u001b[0m             \u001b[0mself\u001b[0m\u001b[1;33m.\u001b[0m\u001b[0moptions\u001b[0m\u001b[1;33m[\u001b[0m\u001b[1;34m\"has_index_names\"\u001b[0m\u001b[1;33m]\u001b[0m \u001b[1;33m=\u001b[0m \u001b[0mkwds\u001b[0m\u001b[1;33m[\u001b[0m\u001b[1;34m\"has_index_names\"\u001b[0m\u001b[1;33m]\u001b[0m\u001b[1;33m\u001b[0m\u001b[1;33m\u001b[0m\u001b[0m\n\u001b[0;32m    810\u001b[0m \u001b[1;33m\u001b[0m\u001b[0m\n\u001b[1;32m--> 811\u001b[1;33m         \u001b[0mself\u001b[0m\u001b[1;33m.\u001b[0m\u001b[0m_engine\u001b[0m \u001b[1;33m=\u001b[0m \u001b[0mself\u001b[0m\u001b[1;33m.\u001b[0m\u001b[0m_make_engine\u001b[0m\u001b[1;33m(\u001b[0m\u001b[0mself\u001b[0m\u001b[1;33m.\u001b[0m\u001b[0mengine\u001b[0m\u001b[1;33m)\u001b[0m\u001b[1;33m\u001b[0m\u001b[1;33m\u001b[0m\u001b[0m\n\u001b[0m\u001b[0;32m    812\u001b[0m \u001b[1;33m\u001b[0m\u001b[0m\n\u001b[0;32m    813\u001b[0m     \u001b[1;32mdef\u001b[0m \u001b[0mclose\u001b[0m\u001b[1;33m(\u001b[0m\u001b[0mself\u001b[0m\u001b[1;33m)\u001b[0m\u001b[1;33m:\u001b[0m\u001b[1;33m\u001b[0m\u001b[1;33m\u001b[0m\u001b[0m\n",
      "\u001b[1;32mc:\\Users\\julik\\Programs\\Anaconda\\envs\\phyphox\\lib\\site-packages\\pandas\\io\\parsers\\readers.py\u001b[0m in \u001b[0;36m_make_engine\u001b[1;34m(self, engine)\u001b[0m\n\u001b[0;32m   1038\u001b[0m             )\n\u001b[0;32m   1039\u001b[0m         \u001b[1;31m# error: Too many arguments for \"ParserBase\"\u001b[0m\u001b[1;33m\u001b[0m\u001b[1;33m\u001b[0m\u001b[1;33m\u001b[0m\u001b[0m\n\u001b[1;32m-> 1040\u001b[1;33m         \u001b[1;32mreturn\u001b[0m \u001b[0mmapping\u001b[0m\u001b[1;33m[\u001b[0m\u001b[0mengine\u001b[0m\u001b[1;33m]\u001b[0m\u001b[1;33m(\u001b[0m\u001b[0mself\u001b[0m\u001b[1;33m.\u001b[0m\u001b[0mf\u001b[0m\u001b[1;33m,\u001b[0m \u001b[1;33m**\u001b[0m\u001b[0mself\u001b[0m\u001b[1;33m.\u001b[0m\u001b[0moptions\u001b[0m\u001b[1;33m)\u001b[0m  \u001b[1;31m# type: ignore[call-arg]\u001b[0m\u001b[1;33m\u001b[0m\u001b[1;33m\u001b[0m\u001b[0m\n\u001b[0m\u001b[0;32m   1041\u001b[0m \u001b[1;33m\u001b[0m\u001b[0m\n\u001b[0;32m   1042\u001b[0m     \u001b[1;32mdef\u001b[0m \u001b[0m_failover_to_python\u001b[0m\u001b[1;33m(\u001b[0m\u001b[0mself\u001b[0m\u001b[1;33m)\u001b[0m\u001b[1;33m:\u001b[0m\u001b[1;33m\u001b[0m\u001b[1;33m\u001b[0m\u001b[0m\n",
      "\u001b[1;32mc:\\Users\\julik\\Programs\\Anaconda\\envs\\phyphox\\lib\\site-packages\\pandas\\io\\parsers\\c_parser_wrapper.py\u001b[0m in \u001b[0;36m__init__\u001b[1;34m(self, src, **kwds)\u001b[0m\n\u001b[0;32m     49\u001b[0m \u001b[1;33m\u001b[0m\u001b[0m\n\u001b[0;32m     50\u001b[0m         \u001b[1;31m# open handles\u001b[0m\u001b[1;33m\u001b[0m\u001b[1;33m\u001b[0m\u001b[1;33m\u001b[0m\u001b[0m\n\u001b[1;32m---> 51\u001b[1;33m         \u001b[0mself\u001b[0m\u001b[1;33m.\u001b[0m\u001b[0m_open_handles\u001b[0m\u001b[1;33m(\u001b[0m\u001b[0msrc\u001b[0m\u001b[1;33m,\u001b[0m \u001b[0mkwds\u001b[0m\u001b[1;33m)\u001b[0m\u001b[1;33m\u001b[0m\u001b[1;33m\u001b[0m\u001b[0m\n\u001b[0m\u001b[0;32m     52\u001b[0m         \u001b[1;32massert\u001b[0m \u001b[0mself\u001b[0m\u001b[1;33m.\u001b[0m\u001b[0mhandles\u001b[0m \u001b[1;32mis\u001b[0m \u001b[1;32mnot\u001b[0m \u001b[1;32mNone\u001b[0m\u001b[1;33m\u001b[0m\u001b[1;33m\u001b[0m\u001b[0m\n\u001b[0;32m     53\u001b[0m \u001b[1;33m\u001b[0m\u001b[0m\n",
      "\u001b[1;32mc:\\Users\\julik\\Programs\\Anaconda\\envs\\phyphox\\lib\\site-packages\\pandas\\io\\parsers\\base_parser.py\u001b[0m in \u001b[0;36m_open_handles\u001b[1;34m(self, src, kwds)\u001b[0m\n\u001b[0;32m    220\u001b[0m         \u001b[0mLet\u001b[0m \u001b[0mthe\u001b[0m \u001b[0mreaders\u001b[0m \u001b[0mopen\u001b[0m \u001b[0mIOHandles\u001b[0m \u001b[0mafter\u001b[0m \u001b[0mthey\u001b[0m \u001b[0mare\u001b[0m \u001b[0mdone\u001b[0m \u001b[1;32mwith\u001b[0m \u001b[0mtheir\u001b[0m \u001b[0mpotential\u001b[0m \u001b[0mraises\u001b[0m\u001b[1;33m.\u001b[0m\u001b[1;33m\u001b[0m\u001b[1;33m\u001b[0m\u001b[0m\n\u001b[0;32m    221\u001b[0m         \"\"\"\n\u001b[1;32m--> 222\u001b[1;33m         self.handles = get_handle(\n\u001b[0m\u001b[0;32m    223\u001b[0m             \u001b[0msrc\u001b[0m\u001b[1;33m,\u001b[0m\u001b[1;33m\u001b[0m\u001b[1;33m\u001b[0m\u001b[0m\n\u001b[0;32m    224\u001b[0m             \u001b[1;34m\"r\"\u001b[0m\u001b[1;33m,\u001b[0m\u001b[1;33m\u001b[0m\u001b[1;33m\u001b[0m\u001b[0m\n",
      "\u001b[1;32mc:\\Users\\julik\\Programs\\Anaconda\\envs\\phyphox\\lib\\site-packages\\pandas\\io\\common.py\u001b[0m in \u001b[0;36mget_handle\u001b[1;34m(path_or_buf, mode, encoding, compression, memory_map, is_text, errors, storage_options)\u001b[0m\n\u001b[0;32m    699\u001b[0m         \u001b[1;32mif\u001b[0m \u001b[0mioargs\u001b[0m\u001b[1;33m.\u001b[0m\u001b[0mencoding\u001b[0m \u001b[1;32mand\u001b[0m \u001b[1;34m\"b\"\u001b[0m \u001b[1;32mnot\u001b[0m \u001b[1;32min\u001b[0m \u001b[0mioargs\u001b[0m\u001b[1;33m.\u001b[0m\u001b[0mmode\u001b[0m\u001b[1;33m:\u001b[0m\u001b[1;33m\u001b[0m\u001b[1;33m\u001b[0m\u001b[0m\n\u001b[0;32m    700\u001b[0m             \u001b[1;31m# Encoding\u001b[0m\u001b[1;33m\u001b[0m\u001b[1;33m\u001b[0m\u001b[1;33m\u001b[0m\u001b[0m\n\u001b[1;32m--> 701\u001b[1;33m             handle = open(\n\u001b[0m\u001b[0;32m    702\u001b[0m                 \u001b[0mhandle\u001b[0m\u001b[1;33m,\u001b[0m\u001b[1;33m\u001b[0m\u001b[1;33m\u001b[0m\u001b[0m\n\u001b[0;32m    703\u001b[0m                 \u001b[0mioargs\u001b[0m\u001b[1;33m.\u001b[0m\u001b[0mmode\u001b[0m\u001b[1;33m,\u001b[0m\u001b[1;33m\u001b[0m\u001b[1;33m\u001b[0m\u001b[0m\n",
      "\u001b[1;31mFileNotFoundError\u001b[0m: [Errno 2] No such file or directory: 'C:\\\\Users\\\\julik\\\\sciebo\\\\Arduino\\\\Final\\\\Data\\\\Temperature\\\\T15.txt'"
     ]
    }
   ],
   "source": [
    "df  = pd.read_csv(r\"C:\\Users\\julik\\sciebo\\Arduino\\Final\\Data\\Temperature\\T15.txt\",delim_whitespace=True,names=[\"x\",\"y\",\"z\",\"T\"])\n",
    "#Sorting data by temperature\n",
    "df.sort_values(by='T',ascending=True,inplace=True)\n",
    "df.reset_index(drop=True,inplace=True)\n",
    "\n",
    "fig,ax = plt.subplots()\n",
    "ax.plot(df[\"T\"],\"ro\",label=\"Label\",)\n",
    "\n",
    "ax.set(title=\"Temperature\",xlabel=\"x\",ylabel=\"y\")\n",
    "ax.grid()\n",
    "ax.legend()\n",
    "\n",
    "coeff = T_correction_coef(df,T0=np.mean(df[\"T\"]))\n",
    "print(\"ESP-Magnetometer-15\")\n",
    "coeff"
   ]
  },
  {
   "cell_type": "code",
   "execution_count": null,
   "metadata": {},
   "outputs": [],
   "source": []
  }
 ],
 "metadata": {
  "kernelspec": {
   "display_name": "Python 3.9.6 ('phyphox')",
   "language": "python",
   "name": "python3"
  },
  "language_info": {
   "codemirror_mode": {
    "name": "ipython",
    "version": 3
   },
   "file_extension": ".py",
   "mimetype": "text/x-python",
   "name": "python",
   "nbconvert_exporter": "python",
   "pygments_lexer": "ipython3",
   "version": "3.9.6"
  },
  "orig_nbformat": 4,
  "vscode": {
   "interpreter": {
    "hash": "e4b28a28dc55192d5edec57184133bef50e3b2b9dfc9206d5a68963ae41c6579"
   }
  }
 },
 "nbformat": 4,
 "nbformat_minor": 2
}
