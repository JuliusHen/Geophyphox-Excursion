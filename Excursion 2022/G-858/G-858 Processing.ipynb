{
 "cells": [
  {
   "cell_type": "code",
   "execution_count": 2,
   "metadata": {},
   "outputs": [],
   "source": [
    "import numpy as np\n",
    "import matplotlib as mpl\n",
    "import matplotlib.pyplot as plt\n",
    "import os\n",
    "import pandas as pd\n",
    "import datetime\n",
    "from pathlib import Path\n",
    "from scipy import interpolate\n",
    "import pyproj\n",
    "import warnings\n",
    "warnings.filterwarnings(\"ignore\")"
   ]
  },
  {
   "cell_type": "code",
   "execution_count": 27,
   "metadata": {},
   "outputs": [
    {
     "data": {
      "text/plain": [
       "359"
      ]
     },
     "execution_count": 27,
     "metadata": {},
     "output_type": "execute_result"
    }
   ],
   "source": [
    "df = pd.read_csv(r\"C:\\Users\\julik\\sciebo\\Master\\Geophyphox\\Excursion 2022\\G-858\\G_858.dat\",delim_whitespace=True)\n",
    "len(df)"
   ]
  },
  {
   "cell_type": "code",
   "execution_count": 28,
   "metadata": {},
   "outputs": [
    {
     "data": {
      "text/plain": [
       "[<matplotlib.lines.Line2D at 0x200c4cb6ac0>]"
      ]
     },
     "execution_count": 28,
     "metadata": {},
     "output_type": "execute_result"
    },
    {
     "data": {
      "image/png": "[encoded data removed]",
      "text/plain": [
       "<Figure size 432x288 with 1 Axes>"
      ]
     },
     "metadata": {
      "needs_background": "light"
     },
     "output_type": "display_data"
    }
   ],
   "source": [
    "df\n",
    "df[\"lon\"] = np.zeros((len(df)))\n",
    "GPS1 = (np.linspace(0,50,len(df[df[\"LINE\"]==4])),np.linspace(0,50,len(df[df[\"LINE\"]==4])))\n",
    "df2 = pd.DataFrame((np.linspace(0,50,len(df[df[\"LINE\"]==4])),np.linspace(0,50,len(df[df[\"LINE\"]==4])))).transpose()\n",
    "# df[\"lon\"].where(df[\"LINE\"]==5) =df2\n",
    "df[df[\"LINE\"]==4][\"lon\"] = 4\n",
    "plt.plot(df[\"lon\"])"
   ]
  },
  {
   "cell_type": "code",
   "execution_count": 39,
   "metadata": {},
   "outputs": [
    {
     "data": {
      "text/html": [
       "<div>\n",
       "<style scoped>\n",
       "    .dataframe tbody tr th:only-of-type {\n",
       "        vertical-align: middle;\n",
       "    }\n",
       "\n",
       "    .dataframe tbody tr th {\n",
       "        vertical-align: top;\n",
       "    }\n",
       "\n",
       "    .dataframe thead th {\n",
       "        text-align: right;\n",
       "    }\n",
       "</style>\n",
       "<table border=\"1\" class=\"dataframe\">\n",
       "  <thead>\n",
       "    <tr style=\"text-align: right;\">\n",
       "      <th></th>\n",
       "      <th>x</th>\n",
       "      <th>y</th>\n",
       "      <th>ele</th>\n",
       "      <th>time</th>\n",
       "      <th>name</th>\n",
       "      <th>group</th>\n",
       "      <th>Ref</th>\n",
       "    </tr>\n",
       "  </thead>\n",
       "  <tbody>\n",
       "    <tr>\n",
       "      <th>0</th>\n",
       "      <td>307724.620993</td>\n",
       "      <td>5.636131e+06</td>\n",
       "      <td>155.578857</td>\n",
       "      <td>2022/07/09 13:17:16+00</td>\n",
       "      <td>882</td>\n",
       "      <td>4</td>\n",
       "      <td>0</td>\n",
       "    </tr>\n",
       "    <tr>\n",
       "      <th>1</th>\n",
       "      <td>307735.163402</td>\n",
       "      <td>5.636143e+06</td>\n",
       "      <td>155.050507</td>\n",
       "      <td>2022/07/09 13:16:46+00</td>\n",
       "      <td>881</td>\n",
       "      <td>4</td>\n",
       "      <td>0</td>\n",
       "    </tr>\n",
       "    <tr>\n",
       "      <th>2</th>\n",
       "      <td>307746.655603</td>\n",
       "      <td>5.636149e+06</td>\n",
       "      <td>154.771683</td>\n",
       "      <td>2022/07/09 13:16:31+00</td>\n",
       "      <td>880</td>\n",
       "      <td>4</td>\n",
       "      <td>0</td>\n",
       "    </tr>\n",
       "    <tr>\n",
       "      <th>3</th>\n",
       "      <td>307758.557761</td>\n",
       "      <td>5.636154e+06</td>\n",
       "      <td>155.058914</td>\n",
       "      <td>2022/07/09 13:16:19+00</td>\n",
       "      <td>879</td>\n",
       "      <td>4</td>\n",
       "      <td>0</td>\n",
       "    </tr>\n",
       "    <tr>\n",
       "      <th>4</th>\n",
       "      <td>307773.643255</td>\n",
       "      <td>5.636162e+06</td>\n",
       "      <td>155.364365</td>\n",
       "      <td>2022/07/09 13:16:04+00</td>\n",
       "      <td>878</td>\n",
       "      <td>4</td>\n",
       "      <td>0</td>\n",
       "    </tr>\n",
       "    <tr>\n",
       "      <th>...</th>\n",
       "      <td>...</td>\n",
       "      <td>...</td>\n",
       "      <td>...</td>\n",
       "      <td>...</td>\n",
       "      <td>...</td>\n",
       "      <td>...</td>\n",
       "      <td>...</td>\n",
       "    </tr>\n",
       "    <tr>\n",
       "      <th>347</th>\n",
       "      <td>307650.318710</td>\n",
       "      <td>5.636250e+06</td>\n",
       "      <td>149.779510</td>\n",
       "      <td>2022/07/09 10:37:46+00</td>\n",
       "      <td>535</td>\n",
       "      <td>0</td>\n",
       "      <td>0</td>\n",
       "    </tr>\n",
       "    <tr>\n",
       "      <th>348</th>\n",
       "      <td>307651.713197</td>\n",
       "      <td>5.636254e+06</td>\n",
       "      <td>150.080017</td>\n",
       "      <td>2022/07/09 10:37:12+00</td>\n",
       "      <td>534</td>\n",
       "      <td>0</td>\n",
       "      <td>0</td>\n",
       "    </tr>\n",
       "    <tr>\n",
       "      <th>349</th>\n",
       "      <td>307654.643819</td>\n",
       "      <td>5.636257e+06</td>\n",
       "      <td>149.970215</td>\n",
       "      <td>2022/07/09 10:36:19+00</td>\n",
       "      <td>533</td>\n",
       "      <td>0</td>\n",
       "      <td>0</td>\n",
       "    </tr>\n",
       "    <tr>\n",
       "      <th>350</th>\n",
       "      <td>307654.697747</td>\n",
       "      <td>5.636256e+06</td>\n",
       "      <td>150.159180</td>\n",
       "      <td>2022/07/09 10:35:49+00</td>\n",
       "      <td>532</td>\n",
       "      <td>0</td>\n",
       "      <td>0</td>\n",
       "    </tr>\n",
       "    <tr>\n",
       "      <th>351</th>\n",
       "      <td>307654.693632</td>\n",
       "      <td>5.636256e+06</td>\n",
       "      <td>150.425873</td>\n",
       "      <td>2022/07/09 10:35:25+00</td>\n",
       "      <td>531</td>\n",
       "      <td>0</td>\n",
       "      <td>0</td>\n",
       "    </tr>\n",
       "  </tbody>\n",
       "</table>\n",
       "<p>352 rows × 7 columns</p>\n",
       "</div>"
      ],
      "text/plain": [
       "                 x             y         ele                    time  name  \\\n",
       "0    307724.620993  5.636131e+06  155.578857  2022/07/09 13:17:16+00   882   \n",
       "1    307735.163402  5.636143e+06  155.050507  2022/07/09 13:16:46+00   881   \n",
       "2    307746.655603  5.636149e+06  154.771683  2022/07/09 13:16:31+00   880   \n",
       "3    307758.557761  5.636154e+06  155.058914  2022/07/09 13:16:19+00   879   \n",
       "4    307773.643255  5.636162e+06  155.364365  2022/07/09 13:16:04+00   878   \n",
       "..             ...           ...         ...                     ...   ...   \n",
       "347  307650.318710  5.636250e+06  149.779510  2022/07/09 10:37:46+00   535   \n",
       "348  307651.713197  5.636254e+06  150.080017  2022/07/09 10:37:12+00   534   \n",
       "349  307654.643819  5.636257e+06  149.970215  2022/07/09 10:36:19+00   533   \n",
       "350  307654.697747  5.636256e+06  150.159180  2022/07/09 10:35:49+00   532   \n",
       "351  307654.693632  5.636256e+06  150.425873  2022/07/09 10:35:25+00   531   \n",
       "\n",
       "     group  Ref  \n",
       "0        4    0  \n",
       "1        4    0  \n",
       "2        4    0  \n",
       "3        4    0  \n",
       "4        4    0  \n",
       "..     ...  ...  \n",
       "347      0    0  \n",
       "348      0    0  \n",
       "349      0    0  \n",
       "350      0    0  \n",
       "351      0    0  \n",
       "\n",
       "[352 rows x 7 columns]"
      ]
     },
     "execution_count": 39,
     "metadata": {},
     "output_type": "execute_result"
    }
   ],
   "source": [
    "gps = pd.read_csv(r\"C:\\Users\\julik\\sciebo\\Master\\Geophyphox\\Excursion 2022\\G-858\\waypoints.csv\")\n",
    "# gps.sort_values(by=\"name\",inplace=True,ascending=False)\n",
    "# gps.reset_index(inplace=True,drop=True)\n",
    "# Projecting coordinates\n",
    "projection = pyproj.Proj(proj='utm',zone=32, lat_ts=gps['y'].mean()) #'merc',proj='utm',zone=32,ellps='WGS84'\n",
    "# Project the dataset coordinates:\n",
    "easting, northing = projection(np.array(gps['x']), np.array(gps['y']))\n",
    "\n",
    "gps['x'] = easting\n",
    "gps['y'] = northing\n",
    "gps\n"
   ]
  },
  {
   "cell_type": "code",
   "execution_count": 40,
   "metadata": {},
   "outputs": [
    {
     "data": {
      "text/plain": [
       "<matplotlib.collections.PathCollection at 0x200c4592a60>"
      ]
     },
     "execution_count": 40,
     "metadata": {},
     "output_type": "execute_result"
    },
    {
     "data": {
      "image/png": "[encoded data removed]",
      "text/plain": [
       "<Figure size 432x288 with 1 Axes>"
      ]
     },
     "metadata": {
      "needs_background": "light"
     },
     "output_type": "display_data"
    }
   ],
   "source": [
    "plt.scatter(gps[\"x\"],gps[\"y\"],c=gps[\"group\"])\n",
    "plt.scatter(6.267393,50.844585,color=\"red\")\n"
   ]
  },
  {
   "cell_type": "code",
   "execution_count": 54,
   "metadata": {},
   "outputs": [
    {
     "name": "stdout",
     "output_type": "stream",
     "text": [
      "GPS0 125\n",
      "MAG0 129\n",
      "GPS1 95\n",
      "MAG1 94\n",
      "GPS2 77\n",
      "MAG2 79\n",
      "GPS3 23\n",
      "MAG3 24\n",
      "GPS4 32\n",
      "MAG4 33\n"
     ]
    }
   ],
   "source": [
    "x1 = pd.DataFrame([])\n",
    "for i in (0,1,2,3,4):\n",
    "    print(\"GPS{}\".format(i),len(gps[gps[\"group\"]==i]))\n",
    "    print(\"MAG{}\".format(i),len(df[df[\"LINE\"]==i]))\n"
   ]
  },
  {
   "cell_type": "code",
   "execution_count": 55,
   "metadata": {},
   "outputs": [
    {
     "data": {
      "image/png": "[encoded data removed]",
      "text/plain": [
       "<Figure size 864x576 with 2 Axes>"
      ]
     },
     "metadata": {
      "needs_background": "light"
     },
     "output_type": "display_data"
    }
   ],
   "source": [
    "# Defining the reference location and tolerance\n",
    "# Using first measurement locaion as default\n",
    "data_outlier = gps\n",
    "refPointX = data_outlier['x'].iloc[31]\n",
    "refPointY = data_outlier['y'].iloc[31]\n",
    "# Defining the tolerance\n",
    "tolX = 13\n",
    "tolY = 13\n",
    "\n",
    "refMinX, refMaxX = (refPointX-tolX, refPointX+tolX)\n",
    "refMinY, refMaxY = (refPointY-tolY, refPointY+tolY)\n",
    "\n",
    "maskX = np.logical_and(data_outlier['x'] < refMaxX, data_outlier['x'] > refMinX)\n",
    "maskY = np.logical_and(data_outlier['y'] < refMaxY, data_outlier['y'] > refMinY)\n",
    "maskAll = np.logical_and(maskX, maskY)\n",
    "\n",
    "data_base = data_outlier.loc[maskAll]\n",
    "nDataBase = len(data_base['x'])\n",
    "\n",
    "# Plotting reference measurements\n",
    "fig, ax = plt.subplots(figsize=(12, 8))\n",
    "\n",
    "im = ax.scatter(data_outlier['x'], data_outlier['y'],  clip_on=True, label='Measurements')\n",
    "ax.set(xlabel='Easting', ylabel='Northing', title=f'GPS Measurements with {nDataBase} reference points.')\n",
    "refArea = mpl.patches.Rectangle((refMinX, refMinY), width=refMaxX-refMinX, height=refMaxY-refMinY,\n",
    "                               fill=False, label='Reference point selection')\n",
    "ax.set_yticklabels(['{:}'.format(int(_)) for _ in ax.get_yticks().tolist()]) # Fixes y-axis tick labels\n",
    "ax.add_artist(refArea)\n",
    "im_ref = ax.scatter(refPointX, refPointY, c='r', zorder=3, label='Reference point')\n",
    "plt.colorbar(im, ax=ax, label='Magnetic field [nT]')\n",
    "ax.legend(handles=[im, im_ref, refArea]);"
   ]
  },
  {
   "cell_type": "code",
   "execution_count": 38,
   "metadata": {},
   "outputs": [
    {
     "ename": "TypeError",
     "evalue": "Value after * must be an iterable, not int",
     "output_type": "error",
     "traceback": [
      "\u001b[1;31m---------------------------------------------------------------------------\u001b[0m",
      "\u001b[1;31mTypeError\u001b[0m                                 Traceback (most recent call last)",
      "\u001b[1;32m~\\AppData\\Local\\Temp/ipykernel_7288/472726201.py\u001b[0m in \u001b[0;36m<module>\u001b[1;34m\u001b[0m\n\u001b[1;32m----> 1\u001b[1;33m \u001b[0mplt\u001b[0m\u001b[1;33m.\u001b[0m\u001b[0mfigure\u001b[0m\u001b[1;33m(\u001b[0m\u001b[1;36m10\u001b[0m\u001b[1;33m,\u001b[0m\u001b[1;36m10\u001b[0m\u001b[1;33m)\u001b[0m\u001b[1;33m\u001b[0m\u001b[1;33m\u001b[0m\u001b[0m\n\u001b[0m\u001b[0;32m      2\u001b[0m \u001b[0mplt\u001b[0m\u001b[1;33m.\u001b[0m\u001b[0mscatter\u001b[0m\u001b[1;33m(\u001b[0m\u001b[0mgps\u001b[0m\u001b[1;33m[\u001b[0m\u001b[1;34m\"x\"\u001b[0m\u001b[1;33m]\u001b[0m\u001b[1;33m,\u001b[0m\u001b[0mgps\u001b[0m\u001b[1;33m[\u001b[0m\u001b[1;34m\"y\"\u001b[0m\u001b[1;33m]\u001b[0m\u001b[1;33m)\u001b[0m\u001b[1;33m\u001b[0m\u001b[1;33m\u001b[0m\u001b[0m\n\u001b[0;32m      3\u001b[0m \u001b[0mplt\u001b[0m\u001b[1;33m.\u001b[0m\u001b[0mscatter\u001b[0m\u001b[1;33m(\u001b[0m\u001b[0mdata_base\u001b[0m\u001b[1;33m[\u001b[0m\u001b[1;34m\"x\"\u001b[0m\u001b[1;33m]\u001b[0m\u001b[1;33m,\u001b[0m\u001b[0mdata_base\u001b[0m\u001b[1;33m[\u001b[0m\u001b[1;34m\"y\"\u001b[0m\u001b[1;33m]\u001b[0m\u001b[1;33m,\u001b[0m\u001b[0mlabel\u001b[0m\u001b[1;33m=\u001b[0m\u001b[1;34m\"reference positions count {}\"\u001b[0m\u001b[1;33m.\u001b[0m\u001b[0mformat\u001b[0m\u001b[1;33m(\u001b[0m\u001b[0mlen\u001b[0m\u001b[1;33m(\u001b[0m\u001b[0mdata_base\u001b[0m\u001b[1;33m)\u001b[0m\u001b[1;33m)\u001b[0m\u001b[1;33m)\u001b[0m\u001b[1;33m\u001b[0m\u001b[1;33m\u001b[0m\u001b[0m\n\u001b[0;32m      4\u001b[0m \u001b[0mplt\u001b[0m\u001b[1;33m.\u001b[0m\u001b[0mgrid\u001b[0m\u001b[1;33m(\u001b[0m\u001b[1;33m)\u001b[0m\u001b[1;33m\u001b[0m\u001b[1;33m\u001b[0m\u001b[0m\n\u001b[0;32m      5\u001b[0m \u001b[0mplt\u001b[0m\u001b[1;33m.\u001b[0m\u001b[0mlegend\u001b[0m\u001b[1;33m(\u001b[0m\u001b[1;33m)\u001b[0m\u001b[1;33m\u001b[0m\u001b[1;33m\u001b[0m\u001b[0m\n",
      "\u001b[1;32mc:\\Users\\julik\\Programs\\Anaconda\\envs\\phyphox\\lib\\site-packages\\matplotlib\\pyplot.py\u001b[0m in \u001b[0;36mfigure\u001b[1;34m(num, figsize, dpi, facecolor, edgecolor, frameon, FigureClass, clear, **kwargs)\u001b[0m\n\u001b[0;32m    795\u001b[0m                 RuntimeWarning)\n\u001b[0;32m    796\u001b[0m \u001b[1;33m\u001b[0m\u001b[0m\n\u001b[1;32m--> 797\u001b[1;33m         manager = new_figure_manager(\n\u001b[0m\u001b[0;32m    798\u001b[0m             \u001b[0mnum\u001b[0m\u001b[1;33m,\u001b[0m \u001b[0mfigsize\u001b[0m\u001b[1;33m=\u001b[0m\u001b[0mfigsize\u001b[0m\u001b[1;33m,\u001b[0m \u001b[0mdpi\u001b[0m\u001b[1;33m=\u001b[0m\u001b[0mdpi\u001b[0m\u001b[1;33m,\u001b[0m\u001b[1;33m\u001b[0m\u001b[1;33m\u001b[0m\u001b[0m\n\u001b[0;32m    799\u001b[0m             \u001b[0mfacecolor\u001b[0m\u001b[1;33m=\u001b[0m\u001b[0mfacecolor\u001b[0m\u001b[1;33m,\u001b[0m \u001b[0medgecolor\u001b[0m\u001b[1;33m=\u001b[0m\u001b[0medgecolor\u001b[0m\u001b[1;33m,\u001b[0m \u001b[0mframeon\u001b[0m\u001b[1;33m=\u001b[0m\u001b[0mframeon\u001b[0m\u001b[1;33m,\u001b[0m\u001b[1;33m\u001b[0m\u001b[1;33m\u001b[0m\u001b[0m\n",
      "\u001b[1;32mc:\\Users\\julik\\Programs\\Anaconda\\envs\\phyphox\\lib\\site-packages\\matplotlib\\pyplot.py\u001b[0m in \u001b[0;36mnew_figure_manager\u001b[1;34m(*args, **kwargs)\u001b[0m\n\u001b[0;32m    314\u001b[0m     \u001b[1;34m\"\"\"Create a new figure manager instance.\"\"\"\u001b[0m\u001b[1;33m\u001b[0m\u001b[1;33m\u001b[0m\u001b[0m\n\u001b[0;32m    315\u001b[0m     \u001b[0m_warn_if_gui_out_of_main_thread\u001b[0m\u001b[1;33m(\u001b[0m\u001b[1;33m)\u001b[0m\u001b[1;33m\u001b[0m\u001b[1;33m\u001b[0m\u001b[0m\n\u001b[1;32m--> 316\u001b[1;33m     \u001b[1;32mreturn\u001b[0m \u001b[0m_backend_mod\u001b[0m\u001b[1;33m.\u001b[0m\u001b[0mnew_figure_manager\u001b[0m\u001b[1;33m(\u001b[0m\u001b[1;33m*\u001b[0m\u001b[0margs\u001b[0m\u001b[1;33m,\u001b[0m \u001b[1;33m**\u001b[0m\u001b[0mkwargs\u001b[0m\u001b[1;33m)\u001b[0m\u001b[1;33m\u001b[0m\u001b[1;33m\u001b[0m\u001b[0m\n\u001b[0m\u001b[0;32m    317\u001b[0m \u001b[1;33m\u001b[0m\u001b[0m\n\u001b[0;32m    318\u001b[0m \u001b[1;33m\u001b[0m\u001b[0m\n",
      "\u001b[1;32mc:\\Users\\julik\\Programs\\Anaconda\\envs\\phyphox\\lib\\site-packages\\matplotlib\\backend_bases.py\u001b[0m in \u001b[0;36mnew_figure_manager\u001b[1;34m(cls, num, *args, **kwargs)\u001b[0m\n\u001b[0;32m   3542\u001b[0m         \u001b[1;32mfrom\u001b[0m \u001b[0mmatplotlib\u001b[0m\u001b[1;33m.\u001b[0m\u001b[0mfigure\u001b[0m \u001b[1;32mimport\u001b[0m \u001b[0mFigure\u001b[0m\u001b[1;33m\u001b[0m\u001b[1;33m\u001b[0m\u001b[0m\n\u001b[0;32m   3543\u001b[0m         \u001b[0mfig_cls\u001b[0m \u001b[1;33m=\u001b[0m \u001b[0mkwargs\u001b[0m\u001b[1;33m.\u001b[0m\u001b[0mpop\u001b[0m\u001b[1;33m(\u001b[0m\u001b[1;34m'FigureClass'\u001b[0m\u001b[1;33m,\u001b[0m \u001b[0mFigure\u001b[0m\u001b[1;33m)\u001b[0m\u001b[1;33m\u001b[0m\u001b[1;33m\u001b[0m\u001b[0m\n\u001b[1;32m-> 3544\u001b[1;33m         \u001b[0mfig\u001b[0m \u001b[1;33m=\u001b[0m \u001b[0mfig_cls\u001b[0m\u001b[1;33m(\u001b[0m\u001b[1;33m*\u001b[0m\u001b[0margs\u001b[0m\u001b[1;33m,\u001b[0m \u001b[1;33m**\u001b[0m\u001b[0mkwargs\u001b[0m\u001b[1;33m)\u001b[0m\u001b[1;33m\u001b[0m\u001b[1;33m\u001b[0m\u001b[0m\n\u001b[0m\u001b[0;32m   3545\u001b[0m         \u001b[1;32mreturn\u001b[0m \u001b[0mcls\u001b[0m\u001b[1;33m.\u001b[0m\u001b[0mnew_figure_manager_given_figure\u001b[0m\u001b[1;33m(\u001b[0m\u001b[0mnum\u001b[0m\u001b[1;33m,\u001b[0m \u001b[0mfig\u001b[0m\u001b[1;33m)\u001b[0m\u001b[1;33m\u001b[0m\u001b[1;33m\u001b[0m\u001b[0m\n\u001b[0;32m   3546\u001b[0m \u001b[1;33m\u001b[0m\u001b[0m\n",
      "\u001b[1;32mc:\\Users\\julik\\Programs\\Anaconda\\envs\\phyphox\\lib\\site-packages\\matplotlib\\figure.py\u001b[0m in \u001b[0;36m__init__\u001b[1;34m(self, figsize, dpi, facecolor, edgecolor, linewidth, frameon, subplotpars, tight_layout, constrained_layout)\u001b[0m\n\u001b[0;32m   2252\u001b[0m             raise ValueError('figure size must be positive finite not '\n\u001b[0;32m   2253\u001b[0m                              f'{figsize}')\n\u001b[1;32m-> 2254\u001b[1;33m         \u001b[0mself\u001b[0m\u001b[1;33m.\u001b[0m\u001b[0mbbox_inches\u001b[0m \u001b[1;33m=\u001b[0m \u001b[0mBbox\u001b[0m\u001b[1;33m.\u001b[0m\u001b[0mfrom_bounds\u001b[0m\u001b[1;33m(\u001b[0m\u001b[1;36m0\u001b[0m\u001b[1;33m,\u001b[0m \u001b[1;36m0\u001b[0m\u001b[1;33m,\u001b[0m \u001b[1;33m*\u001b[0m\u001b[0mfigsize\u001b[0m\u001b[1;33m)\u001b[0m\u001b[1;33m\u001b[0m\u001b[1;33m\u001b[0m\u001b[0m\n\u001b[0m\u001b[0;32m   2255\u001b[0m \u001b[1;33m\u001b[0m\u001b[0m\n\u001b[0;32m   2256\u001b[0m         \u001b[0mself\u001b[0m\u001b[1;33m.\u001b[0m\u001b[0mdpi_scale_trans\u001b[0m \u001b[1;33m=\u001b[0m \u001b[0mAffine2D\u001b[0m\u001b[1;33m(\u001b[0m\u001b[1;33m)\u001b[0m\u001b[1;33m.\u001b[0m\u001b[0mscale\u001b[0m\u001b[1;33m(\u001b[0m\u001b[0mdpi\u001b[0m\u001b[1;33m)\u001b[0m\u001b[1;33m\u001b[0m\u001b[1;33m\u001b[0m\u001b[0m\n",
      "\u001b[1;31mTypeError\u001b[0m: Value after * must be an iterable, not int"
     ]
    }
   ],
   "source": [
    "plt.figure(10,10)\n",
    "plt.scatter(gps[\"x\"],gps[\"y\"])\n",
    "plt.scatter(data_base[\"x\"],data_base[\"y\"],label=\"reference positions count {}\".format(len(data_base)))\n",
    "plt.grid()\n",
    "plt.legend()\n",
    "len(data_base)\n"
   ]
  },
  {
   "cell_type": "code",
   "execution_count": 46,
   "metadata": {},
   "outputs": [
    {
     "name": "stdout",
     "output_type": "stream",
     "text": [
      "359 352\n"
     ]
    }
   ],
   "source": [
    "print(len(df),len(data_outlier))"
   ]
  },
  {
   "cell_type": "code",
   "execution_count": 44,
   "metadata": {},
   "outputs": [],
   "source": [
    "G_858 = pd.concat([data_outlier,df],axis=1)"
   ]
  },
  {
   "cell_type": "code",
   "execution_count": 45,
   "metadata": {},
   "outputs": [
    {
     "data": {
      "text/html": [
       "<div>\n",
       "<style scoped>\n",
       "    .dataframe tbody tr th:only-of-type {\n",
       "        vertical-align: middle;\n",
       "    }\n",
       "\n",
       "    .dataframe tbody tr th {\n",
       "        vertical-align: top;\n",
       "    }\n",
       "\n",
       "    .dataframe thead th {\n",
       "        text-align: right;\n",
       "    }\n",
       "</style>\n",
       "<table border=\"1\" class=\"dataframe\">\n",
       "  <thead>\n",
       "    <tr style=\"text-align: right;\">\n",
       "      <th></th>\n",
       "      <th>x</th>\n",
       "      <th>y</th>\n",
       "      <th>ele</th>\n",
       "      <th>time</th>\n",
       "      <th>name</th>\n",
       "      <th>group</th>\n",
       "      <th>X</th>\n",
       "      <th>Y</th>\n",
       "      <th>READING_2</th>\n",
       "      <th>TIME</th>\n",
       "      <th>DATE</th>\n",
       "      <th>LINE</th>\n",
       "      <th>MARK</th>\n",
       "    </tr>\n",
       "  </thead>\n",
       "  <tbody>\n",
       "    <tr>\n",
       "      <th>0</th>\n",
       "      <td>307724.620993</td>\n",
       "      <td>5.636131e+06</td>\n",
       "      <td>155.578857</td>\n",
       "      <td>2022/07/09 13:17:16+00</td>\n",
       "      <td>882.0</td>\n",
       "      <td>4.0</td>\n",
       "      <td>20.0</td>\n",
       "      <td>640.0</td>\n",
       "      <td>53660.917</td>\n",
       "      <td>14:36:55.50</td>\n",
       "      <td>07/09/22</td>\n",
       "      <td>4</td>\n",
       "      <td>32</td>\n",
       "    </tr>\n",
       "    <tr>\n",
       "      <th>1</th>\n",
       "      <td>307735.163402</td>\n",
       "      <td>5.636143e+06</td>\n",
       "      <td>155.050507</td>\n",
       "      <td>2022/07/09 13:16:46+00</td>\n",
       "      <td>881.0</td>\n",
       "      <td>4.0</td>\n",
       "      <td>20.0</td>\n",
       "      <td>620.0</td>\n",
       "      <td>48937.675</td>\n",
       "      <td>14:33:08.80</td>\n",
       "      <td>07/09/22</td>\n",
       "      <td>4</td>\n",
       "      <td>31</td>\n",
       "    </tr>\n",
       "    <tr>\n",
       "      <th>2</th>\n",
       "      <td>307746.655603</td>\n",
       "      <td>5.636149e+06</td>\n",
       "      <td>154.771683</td>\n",
       "      <td>2022/07/09 13:16:31+00</td>\n",
       "      <td>880.0</td>\n",
       "      <td>4.0</td>\n",
       "      <td>20.0</td>\n",
       "      <td>600.0</td>\n",
       "      <td>48912.468</td>\n",
       "      <td>14:32:41.70</td>\n",
       "      <td>07/09/22</td>\n",
       "      <td>4</td>\n",
       "      <td>30</td>\n",
       "    </tr>\n",
       "    <tr>\n",
       "      <th>3</th>\n",
       "      <td>307758.557761</td>\n",
       "      <td>5.636154e+06</td>\n",
       "      <td>155.058914</td>\n",
       "      <td>2022/07/09 13:16:19+00</td>\n",
       "      <td>879.0</td>\n",
       "      <td>4.0</td>\n",
       "      <td>20.0</td>\n",
       "      <td>580.0</td>\n",
       "      <td>48975.540</td>\n",
       "      <td>14:32:29.40</td>\n",
       "      <td>07/09/22</td>\n",
       "      <td>4</td>\n",
       "      <td>29</td>\n",
       "    </tr>\n",
       "    <tr>\n",
       "      <th>4</th>\n",
       "      <td>307773.643255</td>\n",
       "      <td>5.636162e+06</td>\n",
       "      <td>155.364365</td>\n",
       "      <td>2022/07/09 13:16:04+00</td>\n",
       "      <td>878.0</td>\n",
       "      <td>4.0</td>\n",
       "      <td>20.0</td>\n",
       "      <td>560.0</td>\n",
       "      <td>48958.203</td>\n",
       "      <td>14:32:16.60</td>\n",
       "      <td>07/09/22</td>\n",
       "      <td>4</td>\n",
       "      <td>28</td>\n",
       "    </tr>\n",
       "    <tr>\n",
       "      <th>...</th>\n",
       "      <td>...</td>\n",
       "      <td>...</td>\n",
       "      <td>...</td>\n",
       "      <td>...</td>\n",
       "      <td>...</td>\n",
       "      <td>...</td>\n",
       "      <td>...</td>\n",
       "      <td>...</td>\n",
       "      <td>...</td>\n",
       "      <td>...</td>\n",
       "      <td>...</td>\n",
       "      <td>...</td>\n",
       "      <td>...</td>\n",
       "    </tr>\n",
       "    <tr>\n",
       "      <th>354</th>\n",
       "      <td>NaN</td>\n",
       "      <td>NaN</td>\n",
       "      <td>NaN</td>\n",
       "      <td>NaN</td>\n",
       "      <td>NaN</td>\n",
       "      <td>NaN</td>\n",
       "      <td>0.0</td>\n",
       "      <td>80.0</td>\n",
       "      <td>48459.021</td>\n",
       "      <td>11:54:28.70</td>\n",
       "      <td>07/09/22</td>\n",
       "      <td>0</td>\n",
       "      <td>4</td>\n",
       "    </tr>\n",
       "    <tr>\n",
       "      <th>355</th>\n",
       "      <td>NaN</td>\n",
       "      <td>NaN</td>\n",
       "      <td>NaN</td>\n",
       "      <td>NaN</td>\n",
       "      <td>NaN</td>\n",
       "      <td>NaN</td>\n",
       "      <td>0.0</td>\n",
       "      <td>60.0</td>\n",
       "      <td>48537.032</td>\n",
       "      <td>11:53:46.40</td>\n",
       "      <td>07/09/22</td>\n",
       "      <td>0</td>\n",
       "      <td>3</td>\n",
       "    </tr>\n",
       "    <tr>\n",
       "      <th>356</th>\n",
       "      <td>NaN</td>\n",
       "      <td>NaN</td>\n",
       "      <td>NaN</td>\n",
       "      <td>NaN</td>\n",
       "      <td>NaN</td>\n",
       "      <td>NaN</td>\n",
       "      <td>0.0</td>\n",
       "      <td>40.0</td>\n",
       "      <td>48370.503</td>\n",
       "      <td>11:53:09.10</td>\n",
       "      <td>07/09/22</td>\n",
       "      <td>0</td>\n",
       "      <td>2</td>\n",
       "    </tr>\n",
       "    <tr>\n",
       "      <th>357</th>\n",
       "      <td>NaN</td>\n",
       "      <td>NaN</td>\n",
       "      <td>NaN</td>\n",
       "      <td>NaN</td>\n",
       "      <td>NaN</td>\n",
       "      <td>NaN</td>\n",
       "      <td>0.0</td>\n",
       "      <td>20.0</td>\n",
       "      <td>48409.265</td>\n",
       "      <td>11:49:18.00</td>\n",
       "      <td>07/09/22</td>\n",
       "      <td>0</td>\n",
       "      <td>1</td>\n",
       "    </tr>\n",
       "    <tr>\n",
       "      <th>358</th>\n",
       "      <td>NaN</td>\n",
       "      <td>NaN</td>\n",
       "      <td>NaN</td>\n",
       "      <td>NaN</td>\n",
       "      <td>NaN</td>\n",
       "      <td>NaN</td>\n",
       "      <td>0.0</td>\n",
       "      <td>0.0</td>\n",
       "      <td>48845.010</td>\n",
       "      <td>11:46:23.70</td>\n",
       "      <td>07/09/22</td>\n",
       "      <td>0</td>\n",
       "      <td>0</td>\n",
       "    </tr>\n",
       "  </tbody>\n",
       "</table>\n",
       "<p>359 rows × 13 columns</p>\n",
       "</div>"
      ],
      "text/plain": [
       "                 x             y         ele                    time   name  \\\n",
       "0    307724.620993  5.636131e+06  155.578857  2022/07/09 13:17:16+00  882.0   \n",
       "1    307735.163402  5.636143e+06  155.050507  2022/07/09 13:16:46+00  881.0   \n",
       "2    307746.655603  5.636149e+06  154.771683  2022/07/09 13:16:31+00  880.0   \n",
       "3    307758.557761  5.636154e+06  155.058914  2022/07/09 13:16:19+00  879.0   \n",
       "4    307773.643255  5.636162e+06  155.364365  2022/07/09 13:16:04+00  878.0   \n",
       "..             ...           ...         ...                     ...    ...   \n",
       "354            NaN           NaN         NaN                     NaN    NaN   \n",
       "355            NaN           NaN         NaN                     NaN    NaN   \n",
       "356            NaN           NaN         NaN                     NaN    NaN   \n",
       "357            NaN           NaN         NaN                     NaN    NaN   \n",
       "358            NaN           NaN         NaN                     NaN    NaN   \n",
       "\n",
       "     group     X      Y  READING_2         TIME      DATE  LINE  MARK  \n",
       "0      4.0  20.0  640.0  53660.917  14:36:55.50  07/09/22     4    32  \n",
       "1      4.0  20.0  620.0  48937.675  14:33:08.80  07/09/22     4    31  \n",
       "2      4.0  20.0  600.0  48912.468  14:32:41.70  07/09/22     4    30  \n",
       "3      4.0  20.0  580.0  48975.540  14:32:29.40  07/09/22     4    29  \n",
       "4      4.0  20.0  560.0  48958.203  14:32:16.60  07/09/22     4    28  \n",
       "..     ...   ...    ...        ...          ...       ...   ...   ...  \n",
       "354    NaN   0.0   80.0  48459.021  11:54:28.70  07/09/22     0     4  \n",
       "355    NaN   0.0   60.0  48537.032  11:53:46.40  07/09/22     0     3  \n",
       "356    NaN   0.0   40.0  48370.503  11:53:09.10  07/09/22     0     2  \n",
       "357    NaN   0.0   20.0  48409.265  11:49:18.00  07/09/22     0     1  \n",
       "358    NaN   0.0    0.0  48845.010  11:46:23.70  07/09/22     0     0  \n",
       "\n",
       "[359 rows x 13 columns]"
      ]
     },
     "execution_count": 45,
     "metadata": {},
     "output_type": "execute_result"
    }
   ],
   "source": [
    "G_858"
   ]
  },
  {
   "cell_type": "code",
   "execution_count": 47,
   "metadata": {},
   "outputs": [
    {
     "data": {
      "text/plain": [
       "<matplotlib.collections.PathCollection at 0x19e68e0ce50>"
      ]
     },
     "execution_count": 47,
     "metadata": {},
     "output_type": "execute_result"
    },
    {
     "data": {
      "image/png": "[encoded data removed]",
      "text/plain": [
       "<Figure size 432x288 with 1 Axes>"
      ]
     },
     "metadata": {
      "needs_background": "light"
     },
     "output_type": "display_data"
    }
   ],
   "source": [
    "plt.scatter(x=G_858[\"x\"],y=G_858[\"y\"],c=G_858[\"READING_2\"])"
   ]
  },
  {
   "cell_type": "code",
   "execution_count": 10,
   "metadata": {},
   "outputs": [
    {
     "data": {
      "text/html": [
       "<div>\n",
       "<style scoped>\n",
       "    .dataframe tbody tr th:only-of-type {\n",
       "        vertical-align: middle;\n",
       "    }\n",
       "\n",
       "    .dataframe tbody tr th {\n",
       "        vertical-align: top;\n",
       "    }\n",
       "\n",
       "    .dataframe thead th {\n",
       "        text-align: right;\n",
       "    }\n",
       "</style>\n",
       "<table border=\"1\" class=\"dataframe\">\n",
       "  <thead>\n",
       "    <tr style=\"text-align: right;\">\n",
       "      <th></th>\n",
       "      <th>x</th>\n",
       "      <th>y</th>\n",
       "      <th>ele</th>\n",
       "      <th>time</th>\n",
       "      <th>name</th>\n",
       "      <th>group</th>\n",
       "    </tr>\n",
       "  </thead>\n",
       "  <tbody>\n",
       "    <tr>\n",
       "      <th>0</th>\n",
       "      <td>6.268735</td>\n",
       "      <td>50.844885</td>\n",
       "      <td>155.578857</td>\n",
       "      <td>2022/07/09 13:17:16+00</td>\n",
       "      <td>882</td>\n",
       "      <td>5</td>\n",
       "    </tr>\n",
       "    <tr>\n",
       "      <th>1</th>\n",
       "      <td>6.268878</td>\n",
       "      <td>50.845001</td>\n",
       "      <td>155.050507</td>\n",
       "      <td>2022/07/09 13:16:46+00</td>\n",
       "      <td>881</td>\n",
       "      <td>5</td>\n",
       "    </tr>\n",
       "    <tr>\n",
       "      <th>2</th>\n",
       "      <td>6.269038</td>\n",
       "      <td>50.845057</td>\n",
       "      <td>154.771683</td>\n",
       "      <td>2022/07/09 13:16:31+00</td>\n",
       "      <td>880</td>\n",
       "      <td>5</td>\n",
       "    </tr>\n",
       "    <tr>\n",
       "      <th>3</th>\n",
       "      <td>6.269204</td>\n",
       "      <td>50.845110</td>\n",
       "      <td>155.058914</td>\n",
       "      <td>2022/07/09 13:16:19+00</td>\n",
       "      <td>879</td>\n",
       "      <td>5</td>\n",
       "    </tr>\n",
       "    <tr>\n",
       "      <th>4</th>\n",
       "      <td>6.269414</td>\n",
       "      <td>50.845184</td>\n",
       "      <td>155.364365</td>\n",
       "      <td>2022/07/09 13:16:04+00</td>\n",
       "      <td>878</td>\n",
       "      <td>5</td>\n",
       "    </tr>\n",
       "    <tr>\n",
       "      <th>...</th>\n",
       "      <td>...</td>\n",
       "      <td>...</td>\n",
       "      <td>...</td>\n",
       "      <td>...</td>\n",
       "      <td>...</td>\n",
       "      <td>...</td>\n",
       "    </tr>\n",
       "    <tr>\n",
       "      <th>347</th>\n",
       "      <td>6.267618</td>\n",
       "      <td>50.845935</td>\n",
       "      <td>149.779510</td>\n",
       "      <td>2022/07/09 10:37:46+00</td>\n",
       "      <td>535</td>\n",
       "      <td>1</td>\n",
       "    </tr>\n",
       "    <tr>\n",
       "      <th>348</th>\n",
       "      <td>6.267636</td>\n",
       "      <td>50.845966</td>\n",
       "      <td>150.080017</td>\n",
       "      <td>2022/07/09 10:37:12+00</td>\n",
       "      <td>534</td>\n",
       "      <td>1</td>\n",
       "    </tr>\n",
       "    <tr>\n",
       "      <th>349</th>\n",
       "      <td>6.267676</td>\n",
       "      <td>50.845994</td>\n",
       "      <td>149.970215</td>\n",
       "      <td>2022/07/09 10:36:19+00</td>\n",
       "      <td>533</td>\n",
       "      <td>1</td>\n",
       "    </tr>\n",
       "    <tr>\n",
       "      <th>350</th>\n",
       "      <td>6.267677</td>\n",
       "      <td>50.845990</td>\n",
       "      <td>150.159180</td>\n",
       "      <td>2022/07/09 10:35:49+00</td>\n",
       "      <td>532</td>\n",
       "      <td>1</td>\n",
       "    </tr>\n",
       "    <tr>\n",
       "      <th>351</th>\n",
       "      <td>6.267677</td>\n",
       "      <td>50.845989</td>\n",
       "      <td>150.425873</td>\n",
       "      <td>2022/07/09 10:35:25+00</td>\n",
       "      <td>531</td>\n",
       "      <td>1</td>\n",
       "    </tr>\n",
       "  </tbody>\n",
       "</table>\n",
       "<p>352 rows × 6 columns</p>\n",
       "</div>"
      ],
      "text/plain": [
       "            x          y         ele                    time  name  group\n",
       "0    6.268735  50.844885  155.578857  2022/07/09 13:17:16+00   882      5\n",
       "1    6.268878  50.845001  155.050507  2022/07/09 13:16:46+00   881      5\n",
       "2    6.269038  50.845057  154.771683  2022/07/09 13:16:31+00   880      5\n",
       "3    6.269204  50.845110  155.058914  2022/07/09 13:16:19+00   879      5\n",
       "4    6.269414  50.845184  155.364365  2022/07/09 13:16:04+00   878      5\n",
       "..        ...        ...         ...                     ...   ...    ...\n",
       "347  6.267618  50.845935  149.779510  2022/07/09 10:37:46+00   535      1\n",
       "348  6.267636  50.845966  150.080017  2022/07/09 10:37:12+00   534      1\n",
       "349  6.267676  50.845994  149.970215  2022/07/09 10:36:19+00   533      1\n",
       "350  6.267677  50.845990  150.159180  2022/07/09 10:35:49+00   532      1\n",
       "351  6.267677  50.845989  150.425873  2022/07/09 10:35:25+00   531      1\n",
       "\n",
       "[352 rows x 6 columns]"
      ]
     },
     "execution_count": 10,
     "metadata": {},
     "output_type": "execute_result"
    }
   ],
   "source": [
    "gps = pd.read_csv(r\"C:\\Users\\julik\\sciebo\\Master\\Geophyphox\\Excursion 2022\\G-858\\waypoints.csv\")\n",
    "gps"
   ]
  },
  {
   "cell_type": "code",
   "execution_count": 23,
   "metadata": {},
   "outputs": [
    {
     "name": "stdout",
     "output_type": "stream",
     "text": [
      "5\n",
      "group: 5 length: 32\n",
      "4\n",
      "group: 4 length: 23\n",
      "3\n",
      "group: 3 length: 77\n",
      "2\n",
      "group: 2 length: 95\n",
      "1\n",
      "group: 1 length: 125\n"
     ]
    }
   ],
   "source": [
    "groups = gps[\"group\"].unique()\n",
    "folder = Path(r\"C:\\Users\\julik\\sciebo\\Master\\Geophyphox\\Excursion 2022\\G-858\\Groups\\GPS\")\n",
    "for group in groups:\n",
    "    print(group)\n",
    "    df_student = gps.where(gps[\"group\"]==group)\n",
    "    df_student.dropna(inplace=True)\n",
    "    df_student.sort_values(by=\"name\",ascending=True,inplace=True)\n",
    "    df_student.reset_index(inplace=True,drop=True)\n",
    "    df_student.drop(columns=\"name\",inplace=True)\n",
    "    # df_student[\"id\"] = np.arange(0,len(df_student))\n",
    "    # df_student.drop(columns=[\"id\"],inplace=True)\n",
    "    df_student.to_csv(os.path.join(folder, \"GPS\"+str(group)+\".csv\"))\n",
    "    print(\"group:\",group,\"length:\",len(df_student))\n"
   ]
  },
  {
   "cell_type": "code",
   "execution_count": 13,
   "metadata": {},
   "outputs": [
    {
     "data": {
      "text/plain": [
       "array([5, 4, 3, 2, 1], dtype=int64)"
      ]
     },
     "execution_count": 13,
     "metadata": {},
     "output_type": "execute_result"
    }
   ],
   "source": [
    "groups"
   ]
  },
  {
   "cell_type": "code",
   "execution_count": null,
   "metadata": {},
   "outputs": [],
   "source": []
  }
 ],
 "metadata": {
  "kernelspec": {
   "display_name": "Python 3.9.6 ('phyphox')",
   "language": "python",
   "name": "python3"
  },
  "language_info": {
   "codemirror_mode": {
    "name": "ipython",
    "version": 3
   },
   "file_extension": ".py",
   "mimetype": "text/x-python",
   "name": "python",
   "nbconvert_exporter": "python",
   "pygments_lexer": "ipython3",
   "version": "3.9.6"
  },
  "orig_nbformat": 4,
  "vscode": {
   "interpreter": {
    "hash": "e4b28a28dc55192d5edec57184133bef50e3b2b9dfc9206d5a68963ae41c6579"
   }
  }
 },
 "nbformat": 4,
 "nbformat_minor": 2
}
