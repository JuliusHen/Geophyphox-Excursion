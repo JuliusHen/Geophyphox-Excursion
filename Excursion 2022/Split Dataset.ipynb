{
 "cells": [
  {
   "cell_type": "code",
   "execution_count": 2,
   "id": "dominican-castle",
   "metadata": {},
   "outputs": [],
   "source": [
    "import numpy as np\n",
    "import matplotlib as mpl\n",
    "import matplotlib.pyplot as plt\n",
    "import pandas as pd\n",
    "import datetime\n",
    "from pathlib import Path\n",
    "from scipy import interpolate\n",
    "import pyproj"
   ]
  },
  {
   "cell_type": "markdown",
   "id": "european-defense",
   "metadata": {},
   "source": [
    "### Importing complete csv "
   ]
  },
  {
   "cell_type": "code",
   "execution_count": 3,
   "id": "nutritional-librarian",
   "metadata": {},
   "outputs": [
    {
     "data": {
      "text/html": [
       "<div>\n",
       "<style scoped>\n",
       "    .dataframe tbody tr th:only-of-type {\n",
       "        vertical-align: middle;\n",
       "    }\n",
       "\n",
       "    .dataframe tbody tr th {\n",
       "        vertical-align: top;\n",
       "    }\n",
       "\n",
       "    .dataframe thead th {\n",
       "        text-align: right;\n",
       "    }\n",
       "</style>\n",
       "<table border=\"1\" class=\"dataframe\">\n",
       "  <thead>\n",
       "    <tr style=\"text-align: right;\">\n",
       "      <th></th>\n",
       "      <th>id</th>\n",
       "      <th>lat</th>\n",
       "      <th>lon</th>\n",
       "      <th>mag</th>\n",
       "      <th>student_id</th>\n",
       "    </tr>\n",
       "  </thead>\n",
       "  <tbody>\n",
       "    <tr>\n",
       "      <th>count</th>\n",
       "      <td>837.000000</td>\n",
       "      <td>837.000000</td>\n",
       "      <td>837.000000</td>\n",
       "      <td>837.000000</td>\n",
       "      <td>8.370000e+02</td>\n",
       "    </tr>\n",
       "    <tr>\n",
       "      <th>mean</th>\n",
       "      <td>1844.270012</td>\n",
       "      <td>50.845603</td>\n",
       "      <td>6.267781</td>\n",
       "      <td>48.587109</td>\n",
       "      <td>3.709165e+06</td>\n",
       "    </tr>\n",
       "    <tr>\n",
       "      <th>std</th>\n",
       "      <td>1354.891407</td>\n",
       "      <td>0.000539</td>\n",
       "      <td>0.000706</td>\n",
       "      <td>1.076302</td>\n",
       "      <td>1.110236e+07</td>\n",
       "    </tr>\n",
       "    <tr>\n",
       "      <th>min</th>\n",
       "      <td>93.000000</td>\n",
       "      <td>50.844218</td>\n",
       "      <td>6.266227</td>\n",
       "      <td>37.080869</td>\n",
       "      <td>9.089500e+04</td>\n",
       "    </tr>\n",
       "    <tr>\n",
       "      <th>25%</th>\n",
       "      <td>578.000000</td>\n",
       "      <td>50.845185</td>\n",
       "      <td>6.267241</td>\n",
       "      <td>47.991935</td>\n",
       "      <td>4.197840e+05</td>\n",
       "    </tr>\n",
       "    <tr>\n",
       "      <th>50%</th>\n",
       "      <td>1313.000000</td>\n",
       "      <td>50.845684</td>\n",
       "      <td>6.267803</td>\n",
       "      <td>48.496179</td>\n",
       "      <td>4.283450e+05</td>\n",
       "    </tr>\n",
       "    <tr>\n",
       "      <th>75%</th>\n",
       "      <td>2959.000000</td>\n",
       "      <td>50.846024</td>\n",
       "      <td>6.268198</td>\n",
       "      <td>49.252947</td>\n",
       "      <td>4.332630e+05</td>\n",
       "    </tr>\n",
       "    <tr>\n",
       "      <th>max</th>\n",
       "      <td>5012.000000</td>\n",
       "      <td>50.846736</td>\n",
       "      <td>6.269898</td>\n",
       "      <td>52.757173</td>\n",
       "      <td>4.284260e+07</td>\n",
       "    </tr>\n",
       "  </tbody>\n",
       "</table>\n",
       "</div>"
      ],
      "text/plain": [
       "                id         lat         lon         mag    student_id\n",
       "count   837.000000  837.000000  837.000000  837.000000  8.370000e+02\n",
       "mean   1844.270012   50.845603    6.267781   48.587109  3.709165e+06\n",
       "std    1354.891407    0.000539    0.000706    1.076302  1.110236e+07\n",
       "min      93.000000   50.844218    6.266227   37.080869  9.089500e+04\n",
       "25%     578.000000   50.845185    6.267241   47.991935  4.197840e+05\n",
       "50%    1313.000000   50.845684    6.267803   48.496179  4.283450e+05\n",
       "75%    2959.000000   50.846024    6.268198   49.252947  4.332630e+05\n",
       "max    5012.000000   50.846736    6.269898   52.757173  4.284260e+07"
      ]
     },
     "execution_count": 3,
     "metadata": {},
     "output_type": "execute_result"
    }
   ],
   "source": [
    "# Enter the path to your data folder here\n",
    "filename = Path(r'C:\\Users\\julik\\sciebo\\Master\\Geophyphox\\Excursion 2022\\MQTT Data') \n",
    "\n",
    "# Reading the dataset\n",
    "data = pd.read_csv(filename / 'log.csv')\n",
    "data.drop_duplicates(subset=\"mag\",inplace=True,ignore_index=True)\n",
    "data.describe()"
   ]
  },
  {
   "cell_type": "markdown",
   "metadata": {},
   "source": [
    "### Split csv into multiple csv-files by student_id\n"
   ]
  },
  {
   "cell_type": "code",
   "execution_count": 6,
   "metadata": {},
   "outputs": [
    {
     "name": "stdout",
     "output_type": "stream",
     "text": [
      "student_id: 300724 length: 68\n",
      "student_id: 404130 length: 10\n",
      "student_id: 403196 length: 108\n",
      "student_id: 428426 length: 45\n",
      "student_id: 428402 length: 45\n",
      "student_id: 428349 length: 45\n",
      "student_id: 4390933 length: 33\n",
      "student_id: 428345 length: 131\n",
      "student_id: 433263 length: 95\n",
      "student_id: 419784 length: 96\n",
      "student_id: 439093 length: 89\n",
      "student_id: 42842602 length: 62\n",
      "student_id: 90895 length: 10\n"
     ]
    }
   ],
   "source": [
    "students = data[\"student_id\"].unique()\n",
    "dfs = [x for _, x in data.groupby('student_id')]\n",
    "folder = Path(r\"C:\\Users\\julik\\sciebo\\Master\\Geophyphox\\Excursion 2022\\Student Data\\Raw\")\n",
    "for student in students:\n",
    "    df_student = data.where(data[\"student_id\"]==student)\n",
    "    df_student.dropna(inplace=True)\n",
    "    df_student.reset_index(inplace=True,drop=True)\n",
    "    df_student[\"id\"] = np.arange(0,len(df_student))\n",
    "    df_student.drop(columns=[\"id\"],inplace=True)\n",
    "    # df_student.to_csv(os.path.join(folder, \"mag_data_\"+str(student)+\".csv\"))\n",
    "    print(\"student_id:\",student,\"length:\",len(df_student))\n",
    "\n"
   ]
  },
  {
   "cell_type": "code",
   "execution_count": null,
   "metadata": {},
   "outputs": [],
   "source": []
  }
 ],
 "metadata": {
  "kernelspec": {
   "display_name": "Python 3.9.6 ('phyphox')",
   "language": "python",
   "name": "python3"
  },
  "language_info": {
   "codemirror_mode": {
    "name": "ipython",
    "version": 3
   },
   "file_extension": ".py",
   "mimetype": "text/x-python",
   "name": "python",
   "nbconvert_exporter": "python",
   "pygments_lexer": "ipython3",
   "version": "3.9.6"
  },
  "orig_nbformat": 4,
  "vscode": {
   "interpreter": {
    "hash": "e4b28a28dc55192d5edec57184133bef50e3b2b9dfc9206d5a68963ae41c6579"
   }
  }
 },
 "nbformat": 4,
 "nbformat_minor": 2
}
