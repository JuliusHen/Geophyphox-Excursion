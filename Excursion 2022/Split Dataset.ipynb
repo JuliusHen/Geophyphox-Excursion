{
 "cells": [
  {
   "cell_type": "code",
   "execution_count": 1,
   "id": "dominican-castle",
   "metadata": {},
   "outputs": [],
   "source": [
    "import numpy as np\n",
    "import matplotlib as mpl\n",
    "import matplotlib.pyplot as plt\n",
    "import pandas as pd\n",
    "import datetime\n",
    "from pathlib import Path\n",
    "from scipy import interpolate\n",
    "import pyproj"
   ]
  },
  {
   "cell_type": "markdown",
   "id": "european-defense",
   "metadata": {},
   "source": [
    "### Importing"
   ]
  },
  {
   "cell_type": "code",
   "execution_count": 2,
   "id": "nutritional-librarian",
   "metadata": {},
   "outputs": [],
   "source": [
    "# Enter the path to your data folder here\n",
    "filename = Path(r'C:\\Users\\julik\\sciebo\\Master\\Geophyphox\\MQTT Data') \n",
    "\n",
    "# Reading the dataset\n",
    "data = pd.read_csv(filename / 'mag_data.csv')\n"
   ]
  },
  {
   "cell_type": "code",
   "execution_count": 3,
   "metadata": {},
   "outputs": [],
   "source": [
    "students = data[\"student_id\"].unique()\n",
    "dfs = [x for _, x in data.groupby('student_id')]"
   ]
  },
  {
   "cell_type": "markdown",
   "metadata": {},
   "source": [
    "### Split dataset by student id"
   ]
  },
  {
   "cell_type": "code",
   "execution_count": 4,
   "metadata": {},
   "outputs": [],
   "source": [
    "import os.path\n",
    "folder = Path(r\"C:\\Users\\julik\\sciebo\\Master\\Geophyphox\\Student Data\\Raw\")\n",
    "for i,student in enumerate(students):\n",
    "    dfs[i].to_csv(os.path.join(folder, \"mag_data_\"+str(student)+\".csv\")) \n",
    "\n"
   ]
  },
  {
   "cell_type": "code",
   "execution_count": null,
   "metadata": {},
   "outputs": [],
   "source": []
  }
 ],
 "metadata": {
  "kernelspec": {
   "display_name": "Python 3.9.6 ('phyphox')",
   "language": "python",
   "name": "python3"
  },
  "language_info": {
   "codemirror_mode": {
    "name": "ipython",
    "version": 3
   },
   "file_extension": ".py",
   "mimetype": "text/x-python",
   "name": "python",
   "nbconvert_exporter": "python",
   "pygments_lexer": "ipython3",
   "version": "3.9.6"
  },
  "orig_nbformat": 4,
  "vscode": {
   "interpreter": {
    "hash": "e4b28a28dc55192d5edec57184133bef50e3b2b9dfc9206d5a68963ae41c6579"
   }
  }
 },
 "nbformat": 4,
 "nbformat_minor": 2
}
