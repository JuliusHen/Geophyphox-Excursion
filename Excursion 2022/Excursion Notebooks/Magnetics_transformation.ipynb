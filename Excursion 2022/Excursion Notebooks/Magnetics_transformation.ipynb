{
 "cells": [
  {
   "cell_type": "markdown",
   "id": "induced-sussex",
   "metadata": {},
   "source": [
    "# Magnetic Data Transformation"
   ]
  },
  {
   "cell_type": "markdown",
   "id": "sunrise-sandwich",
   "metadata": {},
   "source": [
    "In this notebook you will undertake the data processing steps that are necessary in order to produce a magnetic anomaly map"
   ]
  },
  {
   "cell_type": "code",
   "execution_count": null,
   "id": "dominican-castle",
   "metadata": {},
   "outputs": [],
   "source": [
    "import numpy as np\n",
    "import matplotlib as mpl\n",
    "import matplotlib.pyplot as plt\n",
    "import pandas as pd\n",
    "from datetime import datetime\n",
    "from pathlib import Path\n",
    "from scipy import interpolate\n",
    "import pyproj\n",
    "import warnings\n",
    "import os\n",
    "\n",
    "import cartopy.crs as ccrs\n",
    "import cartopy.io.img_tiles as cimgt\n",
    "warnings.filterwarnings(\"ignore\")\n"
   ]
  },
  {
   "cell_type": "markdown",
   "id": "2aeae1b9",
   "metadata": {},
   "source": [
    "## Defining Functions (Fatiando Legacy)\n",
    "We will use a few functions in order to perform typical transformation. These are saved in function.py file that you should be in the same folder as this notebook.  \n",
    "The functions are imported in the following cell.\n"
   ]
  },
  {
   "cell_type": "code",
   "execution_count": null,
   "id": "48a391d3",
   "metadata": {},
   "outputs": [],
   "source": [
    "import functions\n",
    "from functions import reduce_to_pole\n",
    "from functions import upcontinue"
   ]
  },
  {
   "cell_type": "markdown",
   "id": "4947ceed",
   "metadata": {},
   "source": [
    "The following cell will define plotting functions, that will plot our data without having to define all the plotting parameters each time."
   ]
  },
  {
   "cell_type": "code",
   "execution_count": null,
   "id": "72168adb",
   "metadata": {},
   "outputs": [],
   "source": [
    "#Plot Functions\n",
    "def plot_interpol(mgX,mgY,data,title=\"interpolation method\"):\n",
    "    fig,ax  = plt.subplots()\n",
    "    im = ax.contourf(mgX, mgY, data.reshape(mgX.shape),\n",
    "                    vmin=vmin, vmax=vmax, cmap=\"RdBu_r\")\n",
    "    ax.scatter(data_combined['x'], data_combined['y'],s=5)\n",
    "    ax.set(xlabel='Easting', ylabel='Northing', title='Anomalies from {} data_raw'.format(title))\n",
    "    ax.set_yticklabels(['{:}'.format(int(x)) for x in ax.get_yticks().tolist()]) # Fixes y-axis tick labels\n",
    "    ax.set_xticklabels(['{:}'.format(int(x)) for x in ax.get_xticks().tolist()]) # Fixes y-axis tick labels\n",
    "    plt.colorbar(im, ax=ax, label='Magnetic anomaly [nT]')\n",
    "    plt.tight_layout()\n",
    "\n",
    "def plot_map(mgX,mgY,data,map_size=0.0005,title=\"data method\"):\n",
    "    #Plotting interpolation on OpenStreetMap\n",
    "    plt.figure(figsize=(8,8))\n",
    "    request = cimgt.OSM();\n",
    "    # Bounds: (lon_min, lon_max, lat_min, lat_max):\n",
    "    extent = [data_combined[\"lon\"].min()-map_size,data_combined[\"lon\"].max()+map_size,data_combined[\"lat\"].min()-map_size,data_combined[\"lat\"].max()+map_size]\n",
    "    ax = plt.axes(projection=request.crs);\n",
    "    ax.set_extent(extent);\n",
    "    ax.add_image(request,18 )    # 18 = zoom level\n",
    "    ax.scatter(data_combined[\"lon\"], data_combined[\"lat\"] ,transform=ccrs.PlateCarree(),s=5)\n",
    "    im = ax.contourf(mgX, mgY, data.reshape(mgX.shape),transform=ccrs.PlateCarree(),\n",
    "                    vmin=vmin, vmax=vmax, cmap=\"RdBu_r\",alpha=0.5);\n",
    "    # plt.colorbar(im, ax=ax, label='Magnetic anomaly [nT]')\n",
    "    ax.set(title=\"Interpolation {} map\".format(title));\n",
    "    ax.gridlines(draw_labels=True);\n",
    "\n",
    "def plot_transform(mgX,mgY,data_raw,data_transformed,title=\"Transformed data\"):\n",
    "    fig,axes  = plt.subplots(1, 2, figsize=(15, 8))\n",
    "    ax = axes[0]\n",
    "    amp = np.abs([data_raw.min(),data_raw.max()]).max()\n",
    "    im =ax.contourf(mgX, mgY, data_raw.reshape(mgX.shape),\n",
    "                vmin=vmin, vmax=vmax, cmap=\"RdBu_r\")\n",
    "    ax.scatter(data_combined['x'], data_combined['y'],s=5)\n",
    "    ax.set_yticklabels(['{:}'.format(int(x)) for x in ax.get_yticks().tolist()]) # Fixes y-axis tick labels\n",
    "    ax.set_xticklabels(['{:}'.format(int(x)) for x in ax.get_xticks().tolist()]) # Fixes y-axis tick labels\n",
    "    fig.colorbar(im, ax=ax, pad=0.1, aspect=30,\n",
    "                orientation='horizontal').set_label('nT')\n",
    "    ax.set_title(u'Raw data'.format(inc))\n",
    "    ax.set(xlabel=\"easting\",ylabel=\"northing\")\n",
    "    ax = axes[1]\n",
    "    amp = np.abs([data_transformed.min(),data_transformed.max()]).max()\n",
    "    im =ax.contourf(mgX, mgY, data_transformed.reshape(mgX.shape),\n",
    "                vmin=-amp, vmax=amp, cmap=\"RdBu_r\")\n",
    "    ax.scatter(data_combined['x'], data_combined['y'],s=5)\n",
    "    ax.set_yticklabels(['{:}'.format(int(x)) for x in ax.get_yticks().tolist()]) # Fixes y-axis tick labels\n",
    "    ax.set_xticklabels(['{:}'.format(int(x)) for x in ax.get_xticks().tolist()]) # Fixes y-axis tick labels\n",
    "    fig.colorbar(im, ax=ax, pad=0.1, aspect=30,\n",
    "                orientation='horizontal').set_label('nT')\n",
    "    ax.set_title(u'{}'.format(title))\n",
    "    ax.set(xlabel=\"easting\",ylabel=\"northing\")"
   ]
  },
  {
   "cell_type": "markdown",
   "id": "european-defense",
   "metadata": {},
   "source": [
    "## Importing & Combining \n",
    "After every student processed their recorded data, it is time to combine all data for further processing"
   ]
  },
  {
   "cell_type": "code",
   "execution_count": null,
   "id": "8c80527a",
   "metadata": {},
   "outputs": [],
   "source": [
    "dr =Path(r'C:\\Users\\julik\\sciebo\\Master\\Geophyphox\\Excursion 2022\\Student Data\\Processed')\n",
    "preamble = 'results_magnetic_' # The filename beginning common to all magnetic data files\n",
    "preambleBASE = 'results_magneticBASE_' # Filename beginning for all base station data\n",
    "\n",
    "alldata = [] # Empty list for storing all dataframes\n",
    "basedata = [] # Empty list for storing all base station dataframes\n",
    "\n",
    "for file in os.scandir(dr):\n",
    "    if file.is_file and file.name.endswith('.csv') and file.name.startswith(preamble): # Check if this is a data file\n",
    "        alldata.append(pd.read_csv(file))\n",
    "    elif file.is_file and file.name.endswith('.csv') and file.name.startswith(preambleBASE): # Check if this is a data file\n",
    "        basedata.append(pd.read_csv(file))\n",
    "        \n",
    "data_combined = pd.concat(alldata, ignore_index=True)\n",
    "base_combined = pd.concat(basedata, ignore_index=True)\n",
    "data_combined[\"name\"].unique()\n",
    "data_combined.to_csv(r\"C:/Users/julik/sciebo/Master/Data/Excursion 2021/Raw/Dürwiss/Dürwiss_combined.csv\")\n",
    "data_combined.head()"
   ]
  },
  {
   "cell_type": "markdown",
   "id": "smaller-cause",
   "metadata": {},
   "source": [
    "## Plotting all data\n",
    "\n",
    "We can now visualize all collected data. Starting with a scatterplot:"
   ]
  },
  {
   "cell_type": "code",
   "execution_count": null,
   "id": "shared-taste",
   "metadata": {},
   "outputs": [],
   "source": [
    "# Basic Anomaly map\n",
    "fig, (ax0, ax1, ax2) = plt.subplots(3, 1, figsize=(14, 12))\n",
    "\n",
    "vmin = -np.max(np.abs(data_combined['anomaly']))\n",
    "vmax = np.max(np.abs(data_combined['anomaly']))\n",
    "\n",
    "# Using the temporally corrected anomalies\n",
    "im0 = ax0.scatter(data_combined['x'], data_combined['y'], c=data_combined['field'])\n",
    "namegroups = base_combined.groupby('name')\n",
    "for name, group in namegroups:\n",
    "    ax1.plot(group['times'], group['field'], '-o', label=name)\n",
    "ax1.legend()\n",
    "im2 = ax2.scatter(data_combined['x'], data_combined['y'], c=data_combined['anomaly'],\n",
    "                  vmin=vmin, vmax=vmax, cmap=\"RdBu_r\")\n",
    "\n",
    "ax0.set(xlabel='Easting', ylabel='Northing', title='Outlier & altitude corrected data')\n",
    "ax1.set(xlabel='Measurement time [s]', ylabel='Magnetic field B [nT]', title='Base station data')\n",
    "ax2.set(xlabel='Easting', ylabel='Northing', title='Field anomaly map')\n",
    "plt.colorbar(im0, ax=ax0, label='Magnetic field B [nT]');\n",
    "#plt.colorbar(im1, ax=ax1, label='Magnetic field B [nT]');\n",
    "plt.colorbar(im2, ax=ax2, label='Magnetic anomaly [nT]');\n",
    "\n",
    "ax0.set_yticklabels(['{:}'.format(int(x)) for x in ax0.get_yticks().tolist()]) # Fixes y-axis tick labels\n",
    "ax2.set_yticklabels(['{:}'.format(int(x)) for x in ax2.get_yticks().tolist()]) # Fixes y-axis tick labels\n",
    "\n",
    "plt.tight_layout()"
   ]
  },
  {
   "cell_type": "markdown",
   "id": "d6c4dcc4",
   "metadata": {},
   "source": [
    "## Spatial anomaly plot & map visualization\n",
    "We can produce a more sophisticated, continous map of our data using interpolation. Several common interpolation algorithms exist, such as polynomial interp., spline interp., and kriging.  \n",
    "A very straight-forward interpolation method is Nearest Neighbors, which simply assigns the unsampled point of interest the value of the sampled point that lies closest."
   ]
  },
  {
   "cell_type": "markdown",
   "id": "1c9895cc",
   "metadata": {},
   "source": [
    "\n",
    "Additionally using the python package [cartopy](https://scitools.org.uk/cartopy/docs/latest/) we can visualize our measurement locations maps from OpenStreetMap.\n"
   ]
  },
  {
   "cell_type": "code",
   "execution_count": null,
   "id": "8a424e56",
   "metadata": {},
   "outputs": [],
   "source": [
    "# Defining a grid of points for which we want to interpolate\n",
    "# Defining resolution (number of gridpoints) in x- and y- direction\n",
    "xRes = 500\n",
    "yRes = xRes\n",
    "\n",
    "xAxis = np.linspace(data_combined['x'].min(), data_combined['x'].max(), xRes)\n",
    "yAxis = np.linspace(data_combined['y'].min(), data_combined['y'].max(), yRes)\n",
    "\n",
    "vmin = -np.max(np.abs(data_combined['anomaly']))\n",
    "vmax = np.max(np.abs(data_combined['anomaly']))\n",
    "\n",
    "# Numpy offers the meshgrid function which simplifies some input operations\n",
    "mgX, mgY = np.meshgrid(xAxis, yAxis)\n",
    "\n",
    "#Open Street Map Visualization\n",
    "projection = pyproj.Proj(proj='utm',zone=32, lat_ts=data_combined['lat'].mean()) #'merc',proj='utm',zone=32,ellps='WGS84'\n",
    "# Project the interpolated coordinates back to longitude-latitude:\n",
    "mgEasting, mgNorthing = projection(mgX, mgY,inverse=True)"
   ]
  },
  {
   "cell_type": "code",
   "execution_count": null,
   "id": "e69f1ff2",
   "metadata": {},
   "outputs": [],
   "source": [
    "# Performing interpolation for all gridpoints\n",
    "nearest_neighbors = interpolate.griddata(list(zip(data_combined['x'], data_combined['y'])), data_combined['anomaly'],\n",
    "                                         list(zip(mgX.flat, mgY.flat)), method='nearest',fill_value=0)\n",
    "# Spline interpolation\n",
    "\n",
    "linear_spline = interpolate.griddata(list(zip(data_combined['x'], data_combined['y'])), data_combined['anomaly'],\n",
    "                                     list(zip(mgX.flat, mgY.flat)), method='linear',fill_value=0)\n"
   ]
  },
  {
   "cell_type": "markdown",
   "id": "7048e2bd",
   "metadata": {},
   "source": [
    "#### Nearest Neighbors"
   ]
  },
  {
   "cell_type": "code",
   "execution_count": null,
   "id": "41be1e76",
   "metadata": {},
   "outputs": [],
   "source": [
    "plot_interpol(mgX,mgY,nearest_neighbors,title=\"nearest neighbor\")\n",
    "plot_map(mgEasting,mgNorthing,nearest_neighbors, title=\"nearest neighbor\")"
   ]
  },
  {
   "cell_type": "markdown",
   "id": "b2d5b30a",
   "metadata": {},
   "source": [
    "#### Linear Spline"
   ]
  },
  {
   "cell_type": "code",
   "execution_count": null,
   "id": "53d50275",
   "metadata": {},
   "outputs": [],
   "source": [
    "plot_interpol(mgX,mgY,linear_spline,title=\"linear spline\")\n",
    "plot_map(mgEasting,mgNorthing,linear_spline)"
   ]
  },
  {
   "cell_type": "markdown",
   "id": "02756524",
   "metadata": {},
   "source": [
    "## Reduction to pole (RTP)\n",
    "RTP is a method which removes the dependence of magnetic data on magnetic inclination. Magnetic data is transformed to a field which would have been measured   \n",
    "at the poles, where the field is vertical. That way anomaly asymemmetry is removed. ([SEG-Wiki](https://wiki.seg.org/wiki/Dictionary:Reduction_to_the_pole_(RTP)))\n",
    "\n",
    "Input:\n",
    "- x-coordinates\n",
    "- y-coordinates\n",
    "- data = magnetic field anomaly\n",
    "- shape of data grid\n",
    "- dec,inc = sdec,sinc = Declination, Inclination of earths magnetic field at location\n",
    "\n"
   ]
  },
  {
   "cell_type": "markdown",
   "id": "7e0e70d6",
   "metadata": {},
   "source": [
    "### Synthetic Example\n",
    "Several synthetic magnetized prism located in a certain depth is used to showcase how reduction to pole can improve anomaly visibility.  \n",
    "This data was created and plotted using Fatiando Legacy Code!"
   ]
  },
  {
   "cell_type": "code",
   "execution_count": null,
   "id": "dfb67ce5",
   "metadata": {},
   "outputs": [],
   "source": [
    "df = pd.read_csv(r\"C:\\Users\\julik\\sciebo\\Master\\Geophyphox\\Excursion 2022\\Synthetic Data\\synthetic_RTP.csv\")\n",
    "inc, dec = 66.226, 2.16\n",
    "df[\"rtp_fft\"] = reduce_to_pole(x=df[\"x\"].values,y=df[\"y\"].values,data=df[\"data\"].values,shape=(40,40),inc=inc,dec= dec,sinc=inc, sdec=dec)\n",
    "amp = np.abs([df[\"data\"].min(),df[\"data\"].max()]).max()\n",
    "fig,axes  = plt.subplots(1, 2, figsize=(15, 8))\n",
    "ax = axes[0]\n",
    "\n",
    "im =ax.tricontourf(df[\"y\"]/1000,df[\"x\"]/1000,df[\"data\"],30, cmap='RdBu_r',vmin=-amp,\n",
    "                     vmax=amp)\n",
    "fig.colorbar(im, ax=ax, pad=0.1, aspect=30,\n",
    "             orientation='horizontal').set_label('nT')\n",
    "ax.set_title(u'Data at {}° inclination'.format(inc))\n",
    "ax.set(xlabel=\"km\",ylabel=\"km\")\n",
    "\n",
    "\n",
    "ax = axes[1]\n",
    "amp = np.abs([df[\"rtp_fft\"].min(),df[\"rtp_fft\"].max()]).max()\n",
    "\n",
    "im =ax.tricontourf(df[\"y\"]/1000,df[\"x\"]/1000,df[\"rtp_fft\"],30, cmap='RdBu_r',vmin=-amp,\n",
    "                     vmax=amp)\n",
    "fig.colorbar(im, ax=ax, pad=0.1, aspect=30,\n",
    "             orientation='horizontal').set_label('nT')\n",
    "ax.set_title('Reduced to the pole FFT algorithm')\n",
    "ax.set(xlabel=\"km\",ylabel=\"km\")"
   ]
  },
  {
   "cell_type": "markdown",
   "id": "644dcd6b",
   "metadata": {},
   "source": [
    "### Excursion Data\n",
    "Now we apply this RTP transformation to the actual data we measured!"
   ]
  },
  {
   "cell_type": "code",
   "execution_count": null,
   "id": "c6a8099f",
   "metadata": {},
   "outputs": [],
   "source": [
    "inc, dec = 66.226, 2.16\n",
    "rtp_nearest = reduce_to_pole(mgX.flatten() , mgY.flatten(), nearest_neighbors, shape=(xRes,yRes),\n",
    "                inc=inc,dec= dec,sinc=inc, sdec=dec)\n",
    "\n",
    "plot_transform(mgX,mgY,nearest_neighbors,rtp_nearest,title=\"Reduced to pole\")\n",
    "plt.suptitle(\"Nearest Neighbors\")"
   ]
  },
  {
   "cell_type": "code",
   "execution_count": null,
   "id": "a7276315",
   "metadata": {},
   "outputs": [],
   "source": [
    "inc, dec = 66.226, 2.16\n",
    "rtp_spline = reduce_to_pole(mgX.flatten() , mgY.flatten(), linear_spline, shape=(xRes,yRes),\n",
    "                inc=inc,dec= dec,sinc=inc, sdec=dec)\n",
    "\n",
    "plot_transform(mgX,mgY,rtp_spline,rtp_spline,title=\"Reduced to pole\")\n",
    "plt.suptitle(\"Linear Spline\")"
   ]
  },
  {
   "cell_type": "markdown",
   "id": "e501ff06",
   "metadata": {},
   "source": [
    "## Upward Continuation  \n",
    "Upward continuation is a method which can be used for magnetic as well as gravitational data. The data is extrapolated to a higher elevation than it was measured. This procedure can smooth out near surface effects or help improve aeromagnetic surveys.  \n",
    "\n",
    "Input:\n",
    "- x-coordinates\n",
    "- y-coordinates\n",
    "- data = magnetic field strength\n",
    "- shape of data grid\n",
    "- height\n",
    " \n"
   ]
  },
  {
   "cell_type": "markdown",
   "id": "f2963383",
   "metadata": {},
   "source": [
    "### Synthetic Example\n",
    "Multiple shallow buried and one deep prism anomaly.  \n",
    "This data was created and plotted using Fatiando Legacy Code!"
   ]
  },
  {
   "cell_type": "code",
   "execution_count": null,
   "id": "ef4b2e60",
   "metadata": {},
   "outputs": [],
   "source": [
    "df = pd.read_csv(r\"C:\\Users\\julik\\sciebo\\Master\\Geophyphox\\Excursion 2022\\Synthetic Data\\synthetic_upward.csv\")\n",
    "inc, dec = 66.226, 2.16\n",
    "height = 1000\n",
    "\n",
    "df[\"upcontinue\"] = upcontinue(x=df.x.values,y=df.y.values,data=df.data.values,shape=(40,40),height=height)\n",
    "\n",
    "amp = np.abs([df[\"data\"].min(),df[\"data\"].max()]).max()\n",
    "fig,axes  = plt.subplots(1, 2, figsize=(15, 8))\n",
    "ax = axes[0]\n",
    "\n",
    "im =ax.tricontourf(df[\"y\"]/1000,df[\"x\"]/1000,df[\"data\"],30, cmap='RdBu_r',vmin=-amp,\n",
    "                     vmax=amp)\n",
    "\n",
    "fig.colorbar(im, ax=ax, pad=0.1, aspect=30,\n",
    "             orientation='horizontal').set_label('nT')\n",
    "ax.set_title(u'Raw at {}° inclination'.format(inc))\n",
    "ax.set(xlabel=\"km\",ylabel=\"km\")\n",
    "\n",
    "ax = axes[1]\n",
    "amp = np.abs([df[\"upcontinue\"].min(),df[\"upcontinue\"].max()]).max()\n",
    "\n",
    "im =ax.tricontourf(df[\"y\"]/1000,df[\"x\"]/1000,df[\"upcontinue\"],30, cmap='RdBu_r',vmin=-amp,\n",
    "                     vmax=amp)\n",
    "fig.colorbar(im, ax=ax, pad=0.1, aspect=30,\n",
    "             orientation='horizontal').set_label('nT')\n",
    "ax.set_title('Upcontinued to '+'{0} m'.format(height))\n",
    "ax.set(xlabel=\"km\",ylabel=\"km\")\n"
   ]
  },
  {
   "cell_type": "markdown",
   "id": "16b6de0a",
   "metadata": {},
   "source": [
    "### Excursion Data\n",
    "Now we apply upward continuation on the actual data we measured!"
   ]
  },
  {
   "cell_type": "code",
   "execution_count": null,
   "id": "6c8178b9",
   "metadata": {},
   "outputs": [],
   "source": [
    "h = 5            #Height in meters to which continuation should estimate"
   ]
  },
  {
   "cell_type": "code",
   "execution_count": null,
   "id": "6e5a66f1",
   "metadata": {},
   "outputs": [],
   "source": [
    "upward_nearest = upcontinue(mgX.flatten() , mgY.flatten(), nearest_neighbors, shape=(xRes,yRes),\n",
    "                height=h)\n",
    "\n",
    "plot_transform(mgX,mgY,nearest_neighbors,upward_nearest,title=\"Upward continued to {} m\".format(h))\n",
    "plt.suptitle(\"Nearest Neighbor\")\n"
   ]
  },
  {
   "cell_type": "code",
   "execution_count": null,
   "id": "0192232b",
   "metadata": {},
   "outputs": [],
   "source": [
    "upward_spline = upcontinue(mgX.flatten() , mgY.flatten(), linear_spline, shape=(xRes,yRes),\n",
    "                height=h)\n",
    "\n",
    "plot_transform(mgX,mgY,linear_spline,upward_spline,title=\"Upward continued to {} m\".format(h))\n",
    "plt.suptitle(\"Linear Spline\")"
   ]
  },
  {
   "cell_type": "markdown",
   "id": "8a8168ad",
   "metadata": {},
   "source": [
    "## Extracting profile line\n",
    "Clicking on the plot will save the coordinates.  \n",
    "The cell below the plot will show the clicked positions coordinate  \n",
    "*Choose which interpolation/transformation you want to extract the profile from*"
   ]
  },
  {
   "cell_type": "code",
   "execution_count": null,
   "id": "e3ca6897",
   "metadata": {},
   "outputs": [],
   "source": [
    "interp = upward_spline\n",
    "vmin = -np.max(np.abs(interp))\n",
    "vmax = np.max(np.abs(interp))"
   ]
  },
  {
   "cell_type": "code",
   "execution_count": null,
   "id": "15c04fb8",
   "metadata": {},
   "outputs": [],
   "source": [
    "%matplotlib widget\n",
    "import numpy as np\n",
    "import matplotlib.pyplot as plt\n",
    "from mpl_point_clicker import clicker\n",
    "\n",
    "fig, ax = plt.subplots(figsize=(10,5))\n",
    "im  =ax.contourf(mgX, mgY, interp.reshape(mgX.shape),\n",
    "            vmin=vmin, vmax=vmax, cmap=\"RdBu_r\")\n",
    "ax.scatter(data_combined['x'], data_combined['y'],color=\"black\",s=5)\n",
    "\n",
    "ax.set(xlabel='Easting', ylabel='Northing', title='Magnetic anomalies from nearest neighbor interpolation')\n",
    "ax.set_yticklabels(['{:}'.format(int(x)) for x in ax.get_yticks().tolist()]) # Fixes y-axis tick labels\n",
    "plt.colorbar(im, ax=ax, label='Magnetic anomaly [nT]')\n",
    "plt.tight_layout()\n",
    "klicker = clicker(ax, [\"event\"], markers=[\"x\"],colors=\"black\")\n",
    "plt.show()\n"
   ]
  },
  {
   "cell_type": "code",
   "execution_count": null,
   "id": "c33dbe11",
   "metadata": {},
   "outputs": [],
   "source": [
    "#Print profile start and end\n",
    "print(klicker.get_positions())"
   ]
  },
  {
   "cell_type": "code",
   "execution_count": null,
   "id": "50ccb2b7",
   "metadata": {},
   "outputs": [],
   "source": [
    "%matplotlib inline\n",
    "from matplotlib.patches import Polygon\n",
    "\n",
    "# Enter Starting point coordinates here\n",
    "profileStartX,profileStartY =  307577.76198992, 5636155.00957384\n",
    "\n",
    "# Enter coordinates of profile endpoint here\n",
    "profileEndX,profileEndY  = 307687.22309708, 5636293.9645336\n",
    "tol = 3\n",
    "\n",
    "# Create a slim polygon that represents the profile line\n",
    "selection = Polygon([[profileStartX-tol/2, profileStartY-tol/2], [profileEndX-tol/2, profileEndY-tol/2],\n",
    "                    [profileEndX+tol/2, profileEndY+tol/2], [profileStartX+tol/2, profileStartY+tol/2]])\n",
    "\n",
    "# Selecting datapoints that lie along the profile\n",
    "selectMask = selection.contains_points(list(zip(data_combined['x'], data_combined['y'])))\n",
    "profileX = data_combined['x'][selectMask]\n",
    "profileY = data_combined['y'][selectMask]\n",
    "profileAnomaly = np.array(data_combined['anomaly'][selectMask])\n",
    "\n",
    "# Selecting points from the interpolation grid \n",
    "selectMaskInterp = selection.contains_points(list(zip(mgX.flat, mgY.flat)))\n",
    "profileXInterp = mgX.flat[selectMaskInterp]\n",
    "profileYInterp = mgY.flat[selectMaskInterp]\n",
    "profileAnomalyInterp = np.array(linear_spline.flat[selectMaskInterp]) # Change linear_spline to desired interpolation\n",
    "\n",
    "# # Computing distances along the profile\n",
    "distances = []\n",
    "for _x, _y in zip(profileX, profileY):\n",
    "    distances.append(np.sqrt((profileStartX-_x)**2+(profileStartY-_y)))\n",
    "distances = np.array(distances)\n",
    "distances_sorted = distances[distances.argsort()]\n",
    "anomalies_sorted = profileAnomaly[distances.argsort()]\n",
    "\n",
    "# # Computing distances for interpolated data\n",
    "distancesInterp = []\n",
    "for _x, _y in zip(profileXInterp, profileYInterp):\n",
    "    distancesInterp.append(np.sqrt((profileStartX-_x)**2+(profileStartY-_y)))\n",
    "distancesInterp = np.array(distancesInterp)\n",
    "distances_sortedInterp = distancesInterp[distancesInterp.argsort()]\n",
    "anomalies_sortedInterp = profileAnomalyInterp[distancesInterp.argsort()]"
   ]
  },
  {
   "cell_type": "code",
   "execution_count": null,
   "id": "272763f9",
   "metadata": {},
   "outputs": [],
   "source": [
    "fig, (ax0, ax1) = plt.subplots(2, 1, figsize=(12, 8))\n",
    "\n",
    "selection_plot = Polygon([[profileStartX-tol/2, profileStartY], [profileEndX-tol/2, profileEndY],\n",
    "                         [profileEndX+tol/2, profileEndY], [profileStartX+tol/2, profileStartY]],\n",
    "                         label='Profile line', color='r', alpha=.7)\n",
    "\n",
    "ax0.add_patch(selection_plot)\n",
    "im0 = ax0.scatter(data_combined['x'], data_combined['y'], c=data_combined['anomaly'], label='Anomalies')\n",
    "im1 = ax1.plot(distances, profileAnomaly, 'ok', label='Measured anomaly')\n",
    "im2 = ax1.plot(distances_sortedInterp, anomalies_sortedInterp, '-oy', label='Interpolated anomaly')\n",
    "\n",
    "ax0.set_yticklabels(['{:}'.format(int(x)) for x in ax.get_yticks().tolist()]) # Fixes y-axis tick labels\n",
    "ax0.legend(handles=[im0, selection_plot])\n",
    "ax1.legend()\n",
    "\n",
    "ax0.set(xlabel='Northing', ylabel='Easting', title='Profile location')\n",
    "ax1.set(xlabel='Distance along profile [m]', ylabel='Magnetic anomaly [nT]', title='Anomaly along profile')\n",
    "plt.colorbar(im0, ax=ax0, label='Magnetic Anomaly [nT]');\n",
    "\n",
    "plt.tight_layout()"
   ]
  },
  {
   "cell_type": "markdown",
   "id": "ada28604",
   "metadata": {},
   "source": [
    "Saving profile data"
   ]
  },
  {
   "cell_type": "code",
   "execution_count": null,
   "id": "4ecd31ac",
   "metadata": {},
   "outputs": [],
   "source": [
    "# Give your profile a meaningful name and choose a folder (default is this notebooks' folder)\n",
    "# The following code will save the measured profile data and teh interpolated profiledata into 2 different .csv files\n",
    "profilefolder = Path(r'C:\\Users\\julik\\sciebo\\Master\\Geophyphox\\Excursion 2022\\Student Data\\Profiles')\n",
    "profilename = 'profile'\n",
    "\n",
    "profiledata_measured = pd.DataFrame({'Measured distance':distances_sorted,\n",
    "                                     'Measured anomaly':anomalies_sorted})\n",
    "profiledata_interpolated = pd.DataFrame({'Measured distance':distances_sortedInterp,\n",
    "                                     'Measured anomaly':anomalies_sortedInterp})\n",
    "\n",
    "profiledata_measured.to_csv(profilefolder / (profilename+'_measured.csv'))\n",
    "profiledata_interpolated.to_csv(profilefolder / (profilename+'_interpolated.csv'))"
   ]
  },
  {
   "cell_type": "code",
   "execution_count": null,
   "id": "ef8d05ba",
   "metadata": {},
   "outputs": [],
   "source": []
  }
 ],
 "metadata": {
  "kernelspec": {
   "display_name": "Python 3 (ipykernel)",
   "language": "python",
   "name": "python3"
  },
  "language_info": {
   "codemirror_mode": {
    "name": "ipython",
    "version": 3
   },
   "file_extension": ".py",
   "mimetype": "text/x-python",
   "name": "python",
   "nbconvert_exporter": "python",
   "pygments_lexer": "ipython3",
   "version": "3.10.5"
  },
  "varInspector": {
   "cols": {
    "lenName": 16,
    "lenType": 16,
    "lenVar": 40
   },
   "kernels_config": {
    "python": {
     "delete_cmd_postfix": "",
     "delete_cmd_prefix": "del ",
     "library": "var_list.py",
     "varRefreshCmd": "print(var_dic_list())"
    },
    "r": {
     "delete_cmd_postfix": ") ",
     "delete_cmd_prefix": "rm(",
     "library": "var_list.r",
     "varRefreshCmd": "cat(var_dic_list()) "
    }
   },
   "types_to_exclude": [
    "module",
    "function",
    "builtin_function_or_method",
    "instance",
    "_Feature"
   ],
   "window_display": false
  },
  "vscode": {
   "interpreter": {
    "hash": "b7a4c45de720de302e52c90c1b44e72492ab9c17588583e112e6be2347e0e93b"
   }
  }
 },
 "nbformat": 4,
 "nbformat_minor": 5
}
