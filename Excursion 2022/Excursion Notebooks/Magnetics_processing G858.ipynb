{
 "cells": [
  {
   "cell_type": "markdown",
   "id": "induced-sussex",
   "metadata": {},
   "source": [
    "# Magnetic Data processing"
   ]
  },
  {
   "cell_type": "markdown",
   "id": "sunrise-sandwich",
   "metadata": {},
   "source": [
    "In this notebook you will undertake the data processing steps that are necessary in order to produce a magnetic anomaly map"
   ]
  },
  {
   "cell_type": "markdown",
   "id": "affected-facility",
   "metadata": {},
   "source": [
    "## Importing external libraries"
   ]
  },
  {
   "cell_type": "code",
   "execution_count": 7,
   "id": "dominican-castle",
   "metadata": {},
   "outputs": [],
   "source": [
    "import numpy as np\n",
    "import matplotlib as mpl\n",
    "import matplotlib.pyplot as plt\n",
    "import os\n",
    "import pandas as pd\n",
    "import datetime\n",
    "from pathlib import Path\n",
    "from scipy import interpolate\n",
    "import pyproj\n",
    "import warnings\n",
    "warnings.filterwarnings(\"ignore\")"
   ]
  },
  {
   "cell_type": "markdown",
   "id": "european-defense",
   "metadata": {},
   "source": [
    "## Importing and visualizing data"
   ]
  },
  {
   "cell_type": "markdown",
   "id": "international-compound",
   "metadata": {},
   "source": [
    "The next cells will load the data. \n",
    "You will need change the file-path as well as your student id"
   ]
  },
  {
   "cell_type": "code",
   "execution_count": 8,
   "id": "a2a97e95",
   "metadata": {},
   "outputs": [],
   "source": [
    "# Enter the path to your data folder here\n",
    "filename = Path(r'C:\\Users\\julik\\sciebo\\Master\\Geophyphox\\Excursion 2022\\G-858\\Groups\\G858\\Group1.csv') \n",
    "\n",
    "#Enter your group\n",
    "group = \"Group_1\"\n"
   ]
  },
  {
   "cell_type": "code",
   "execution_count": 42,
   "id": "nutritional-librarian",
   "metadata": {},
   "outputs": [],
   "source": [
    "# Reading the dataset\n",
    "data = pd.read_csv(filename)\n",
    "\n",
    "# Renaming some columns for easier coding later on \n",
    "data = data.rename(columns={'mag_abs':'field','LINE':'student_id'})\n",
    "\n",
    "# The magnetic field values are stored in µT. Since the convention is to display data in nT, we modify accordingly\n",
    "\n",
    "# Projecting coordinates\n",
    "projection = pyproj.Proj(proj='utm',zone=32, lat_ts=data['lat'].mean()) #'merc',proj='utm',zone=32,ellps='WGS84'\n",
    "# Project the dataset coordinates:\n",
    "easting, northing = projection(np.array(data['lon']), np.array(data['lat']))\n",
    "\n",
    "data['x'] = easting\n",
    "data['y'] = northing"
   ]
  },
  {
   "cell_type": "code",
   "execution_count": 43,
   "id": "baking-physiology",
   "metadata": {
    "scrolled": true
   },
   "outputs": [
    {
     "data": {
      "text/html": [
       "<div>\n",
       "<style scoped>\n",
       "    .dataframe tbody tr th:only-of-type {\n",
       "        vertical-align: middle;\n",
       "    }\n",
       "\n",
       "    .dataframe tbody tr th {\n",
       "        vertical-align: top;\n",
       "    }\n",
       "\n",
       "    .dataframe thead th {\n",
       "        text-align: right;\n",
       "    }\n",
       "</style>\n",
       "<table border=\"1\" class=\"dataframe\">\n",
       "  <thead>\n",
       "    <tr style=\"text-align: right;\">\n",
       "      <th></th>\n",
       "      <th>station</th>\n",
       "      <th>lat</th>\n",
       "      <th>lon</th>\n",
       "      <th>field</th>\n",
       "      <th>time</th>\n",
       "      <th>student_id</th>\n",
       "      <th>x</th>\n",
       "      <th>y</th>\n",
       "    </tr>\n",
       "  </thead>\n",
       "  <tbody>\n",
       "    <tr>\n",
       "      <th>0</th>\n",
       "      <td>0</td>\n",
       "      <td>0</td>\n",
       "      <td>0</td>\n",
       "      <td>48845.010</td>\n",
       "      <td>0</td>\n",
       "      <td>0</td>\n",
       "      <td>-505646.899516</td>\n",
       "      <td>0.0</td>\n",
       "    </tr>\n",
       "    <tr>\n",
       "      <th>1</th>\n",
       "      <td>1</td>\n",
       "      <td>0</td>\n",
       "      <td>0</td>\n",
       "      <td>48409.265</td>\n",
       "      <td>175</td>\n",
       "      <td>0</td>\n",
       "      <td>-505646.899516</td>\n",
       "      <td>0.0</td>\n",
       "    </tr>\n",
       "    <tr>\n",
       "      <th>2</th>\n",
       "      <td>2</td>\n",
       "      <td>0</td>\n",
       "      <td>0</td>\n",
       "      <td>48370.503</td>\n",
       "      <td>406</td>\n",
       "      <td>0</td>\n",
       "      <td>-505646.899516</td>\n",
       "      <td>0.0</td>\n",
       "    </tr>\n",
       "    <tr>\n",
       "      <th>3</th>\n",
       "      <td>3</td>\n",
       "      <td>0</td>\n",
       "      <td>0</td>\n",
       "      <td>48537.032</td>\n",
       "      <td>443</td>\n",
       "      <td>0</td>\n",
       "      <td>-505646.899516</td>\n",
       "      <td>0.0</td>\n",
       "    </tr>\n",
       "    <tr>\n",
       "      <th>4</th>\n",
       "      <td>4</td>\n",
       "      <td>0</td>\n",
       "      <td>0</td>\n",
       "      <td>48459.021</td>\n",
       "      <td>485</td>\n",
       "      <td>0</td>\n",
       "      <td>-505646.899516</td>\n",
       "      <td>0.0</td>\n",
       "    </tr>\n",
       "  </tbody>\n",
       "</table>\n",
       "</div>"
      ],
      "text/plain": [
       "   station  lat  lon      field  time  student_id              x    y\n",
       "0        0    0    0  48845.010     0           0 -505646.899516  0.0\n",
       "1        1    0    0  48409.265   175           0 -505646.899516  0.0\n",
       "2        2    0    0  48370.503   406           0 -505646.899516  0.0\n",
       "3        3    0    0  48537.032   443           0 -505646.899516  0.0\n",
       "4        4    0    0  48459.021   485           0 -505646.899516  0.0"
      ]
     },
     "execution_count": 43,
     "metadata": {},
     "output_type": "execute_result"
    }
   ],
   "source": [
    "# Taking a first look at the dataset\n",
    "data.head()"
   ]
  },
  {
   "cell_type": "code",
   "execution_count": 44,
   "id": "monetary-hartford",
   "metadata": {
    "scrolled": true
   },
   "outputs": [
    {
     "data": {
      "text/html": [
       "<div>\n",
       "<style scoped>\n",
       "    .dataframe tbody tr th:only-of-type {\n",
       "        vertical-align: middle;\n",
       "    }\n",
       "\n",
       "    .dataframe tbody tr th {\n",
       "        vertical-align: top;\n",
       "    }\n",
       "\n",
       "    .dataframe thead th {\n",
       "        text-align: right;\n",
       "    }\n",
       "</style>\n",
       "<table border=\"1\" class=\"dataframe\">\n",
       "  <thead>\n",
       "    <tr style=\"text-align: right;\">\n",
       "      <th></th>\n",
       "      <th>station</th>\n",
       "      <th>lat</th>\n",
       "      <th>lon</th>\n",
       "      <th>field</th>\n",
       "      <th>time</th>\n",
       "      <th>student_id</th>\n",
       "      <th>x</th>\n",
       "      <th>y</th>\n",
       "    </tr>\n",
       "  </thead>\n",
       "  <tbody>\n",
       "    <tr>\n",
       "      <th>count</th>\n",
       "      <td>129.000000</td>\n",
       "      <td>129.0</td>\n",
       "      <td>129.0</td>\n",
       "      <td>129.000000</td>\n",
       "      <td>129.000000</td>\n",
       "      <td>129.0</td>\n",
       "      <td>1.290000e+02</td>\n",
       "      <td>129.0</td>\n",
       "    </tr>\n",
       "    <tr>\n",
       "      <th>mean</th>\n",
       "      <td>64.000000</td>\n",
       "      <td>0.0</td>\n",
       "      <td>0.0</td>\n",
       "      <td>45584.561853</td>\n",
       "      <td>1348.643411</td>\n",
       "      <td>0.0</td>\n",
       "      <td>-5.056469e+05</td>\n",
       "      <td>0.0</td>\n",
       "    </tr>\n",
       "    <tr>\n",
       "      <th>std</th>\n",
       "      <td>37.383151</td>\n",
       "      <td>0.0</td>\n",
       "      <td>0.0</td>\n",
       "      <td>11913.534718</td>\n",
       "      <td>533.467955</td>\n",
       "      <td>0.0</td>\n",
       "      <td>5.843459e-11</td>\n",
       "      <td>0.0</td>\n",
       "    </tr>\n",
       "    <tr>\n",
       "      <th>min</th>\n",
       "      <td>0.000000</td>\n",
       "      <td>0.0</td>\n",
       "      <td>0.0</td>\n",
       "      <td>0.000000</td>\n",
       "      <td>0.000000</td>\n",
       "      <td>0.0</td>\n",
       "      <td>-5.056469e+05</td>\n",
       "      <td>0.0</td>\n",
       "    </tr>\n",
       "    <tr>\n",
       "      <th>25%</th>\n",
       "      <td>32.000000</td>\n",
       "      <td>0.0</td>\n",
       "      <td>0.0</td>\n",
       "      <td>48557.313000</td>\n",
       "      <td>879.000000</td>\n",
       "      <td>0.0</td>\n",
       "      <td>-5.056469e+05</td>\n",
       "      <td>0.0</td>\n",
       "    </tr>\n",
       "    <tr>\n",
       "      <th>50%</th>\n",
       "      <td>64.000000</td>\n",
       "      <td>0.0</td>\n",
       "      <td>0.0</td>\n",
       "      <td>48913.784000</td>\n",
       "      <td>1356.000000</td>\n",
       "      <td>0.0</td>\n",
       "      <td>-5.056469e+05</td>\n",
       "      <td>0.0</td>\n",
       "    </tr>\n",
       "    <tr>\n",
       "      <th>75%</th>\n",
       "      <td>96.000000</td>\n",
       "      <td>0.0</td>\n",
       "      <td>0.0</td>\n",
       "      <td>49246.165000</td>\n",
       "      <td>1789.000000</td>\n",
       "      <td>0.0</td>\n",
       "      <td>-5.056469e+05</td>\n",
       "      <td>0.0</td>\n",
       "    </tr>\n",
       "    <tr>\n",
       "      <th>max</th>\n",
       "      <td>128.000000</td>\n",
       "      <td>0.0</td>\n",
       "      <td>0.0</td>\n",
       "      <td>49788.943000</td>\n",
       "      <td>2465.000000</td>\n",
       "      <td>0.0</td>\n",
       "      <td>-5.056469e+05</td>\n",
       "      <td>0.0</td>\n",
       "    </tr>\n",
       "  </tbody>\n",
       "</table>\n",
       "</div>"
      ],
      "text/plain": [
       "          station    lat    lon         field         time  student_id  \\\n",
       "count  129.000000  129.0  129.0    129.000000   129.000000       129.0   \n",
       "mean    64.000000    0.0    0.0  45584.561853  1348.643411         0.0   \n",
       "std     37.383151    0.0    0.0  11913.534718   533.467955         0.0   \n",
       "min      0.000000    0.0    0.0      0.000000     0.000000         0.0   \n",
       "25%     32.000000    0.0    0.0  48557.313000   879.000000         0.0   \n",
       "50%     64.000000    0.0    0.0  48913.784000  1356.000000         0.0   \n",
       "75%     96.000000    0.0    0.0  49246.165000  1789.000000         0.0   \n",
       "max    128.000000    0.0    0.0  49788.943000  2465.000000         0.0   \n",
       "\n",
       "                  x      y  \n",
       "count  1.290000e+02  129.0  \n",
       "mean  -5.056469e+05    0.0  \n",
       "std    5.843459e-11    0.0  \n",
       "min   -5.056469e+05    0.0  \n",
       "25%   -5.056469e+05    0.0  \n",
       "50%   -5.056469e+05    0.0  \n",
       "75%   -5.056469e+05    0.0  \n",
       "max   -5.056469e+05    0.0  "
      ]
     },
     "execution_count": 44,
     "metadata": {},
     "output_type": "execute_result"
    }
   ],
   "source": [
    "# We can also call some quick summary statistics in order to get a first feel for our data\n",
    "data.describe()"
   ]
  },
  {
   "cell_type": "markdown",
   "id": "found-jamaica",
   "metadata": {},
   "source": [
    "The time values in the dataset refer to the elapsed time in seconds since the experiment started. Since we want to combine all phones' measurements later on, it is necessary to normalise the time values to some standard reference time, like 0:00 on the measurement date. The absolute start time of the experiment is saved as [unix-timestamp](https://www.unixtimestamp.com). This timestamp can be converted."
   ]
  },
  {
   "cell_type": "code",
   "execution_count": 45,
   "id": "entertaining-hindu",
   "metadata": {},
   "outputs": [],
   "source": [
    "# Reading the absolute start time in order to normalise the elapsed time data to a time common to all phones\n",
    "t_0_str = \"2022-07-09 11:46:23.70 UTC+01:00\"\n",
    "\n",
    "# Next we slice the string that represents the measurement start time and date in order to get the time only.\n",
    "# The resulting normal time t_0 represents the time in seconds that has passed since 00:00:00 on the same day\n",
    "t_0_str = t_0_str[11:22]\n",
    "t_0 = int(t_0_str[:2])*3600 # Converting hours to seconds\n",
    "t_0 += int(t_0_str[3:5])*60 # Converting minutes to seconds\n",
    "t_0 += float(t_0_str[6:]) # Adding remaining seconds\n",
    "\n",
    "# Adding a new column to the dataset in which the normalized time is stored.\n",
    "data['times'] = data['time'] + t_0\n",
    "\n",
    "# Sorting all data after elapsed time\n",
    "data.sort_values('times', inplace=True, ascending=True) # Sorting dataset after measurement time"
   ]
  },
  {
   "cell_type": "markdown",
   "id": "stable-powder",
   "metadata": {},
   "source": [
    "If, for some reason, one row in the dataset is incomplete (i.e. missing coordinate values), we can not usefully interpret said datapoint. In the next step, we remove all rows that contain missing, or NaN, values. In the dataframe description below, every column should then have the same amount of entries"
   ]
  },
  {
   "cell_type": "code",
   "execution_count": 46,
   "id": "senior-enhancement",
   "metadata": {
    "scrolled": true
   },
   "outputs": [
    {
     "data": {
      "text/html": [
       "<div>\n",
       "<style scoped>\n",
       "    .dataframe tbody tr th:only-of-type {\n",
       "        vertical-align: middle;\n",
       "    }\n",
       "\n",
       "    .dataframe tbody tr th {\n",
       "        vertical-align: top;\n",
       "    }\n",
       "\n",
       "    .dataframe thead th {\n",
       "        text-align: right;\n",
       "    }\n",
       "</style>\n",
       "<table border=\"1\" class=\"dataframe\">\n",
       "  <thead>\n",
       "    <tr style=\"text-align: right;\">\n",
       "      <th></th>\n",
       "      <th>station</th>\n",
       "      <th>lat</th>\n",
       "      <th>lon</th>\n",
       "      <th>field</th>\n",
       "      <th>time</th>\n",
       "      <th>student_id</th>\n",
       "      <th>x</th>\n",
       "      <th>y</th>\n",
       "      <th>times</th>\n",
       "    </tr>\n",
       "  </thead>\n",
       "  <tbody>\n",
       "    <tr>\n",
       "      <th>count</th>\n",
       "      <td>129.000000</td>\n",
       "      <td>129.0</td>\n",
       "      <td>129.0</td>\n",
       "      <td>129.000000</td>\n",
       "      <td>129.000000</td>\n",
       "      <td>129.0</td>\n",
       "      <td>1.290000e+02</td>\n",
       "      <td>129.0</td>\n",
       "      <td>129.000000</td>\n",
       "    </tr>\n",
       "    <tr>\n",
       "      <th>mean</th>\n",
       "      <td>64.000000</td>\n",
       "      <td>0.0</td>\n",
       "      <td>0.0</td>\n",
       "      <td>45584.561853</td>\n",
       "      <td>1348.643411</td>\n",
       "      <td>0.0</td>\n",
       "      <td>-5.056469e+05</td>\n",
       "      <td>0.0</td>\n",
       "      <td>43732.343411</td>\n",
       "    </tr>\n",
       "    <tr>\n",
       "      <th>std</th>\n",
       "      <td>37.383151</td>\n",
       "      <td>0.0</td>\n",
       "      <td>0.0</td>\n",
       "      <td>11913.534718</td>\n",
       "      <td>533.467955</td>\n",
       "      <td>0.0</td>\n",
       "      <td>5.843459e-11</td>\n",
       "      <td>0.0</td>\n",
       "      <td>533.467955</td>\n",
       "    </tr>\n",
       "    <tr>\n",
       "      <th>min</th>\n",
       "      <td>0.000000</td>\n",
       "      <td>0.0</td>\n",
       "      <td>0.0</td>\n",
       "      <td>0.000000</td>\n",
       "      <td>0.000000</td>\n",
       "      <td>0.0</td>\n",
       "      <td>-5.056469e+05</td>\n",
       "      <td>0.0</td>\n",
       "      <td>42383.700000</td>\n",
       "    </tr>\n",
       "    <tr>\n",
       "      <th>25%</th>\n",
       "      <td>32.000000</td>\n",
       "      <td>0.0</td>\n",
       "      <td>0.0</td>\n",
       "      <td>48557.313000</td>\n",
       "      <td>879.000000</td>\n",
       "      <td>0.0</td>\n",
       "      <td>-5.056469e+05</td>\n",
       "      <td>0.0</td>\n",
       "      <td>43262.700000</td>\n",
       "    </tr>\n",
       "    <tr>\n",
       "      <th>50%</th>\n",
       "      <td>64.000000</td>\n",
       "      <td>0.0</td>\n",
       "      <td>0.0</td>\n",
       "      <td>48913.784000</td>\n",
       "      <td>1356.000000</td>\n",
       "      <td>0.0</td>\n",
       "      <td>-5.056469e+05</td>\n",
       "      <td>0.0</td>\n",
       "      <td>43739.700000</td>\n",
       "    </tr>\n",
       "    <tr>\n",
       "      <th>75%</th>\n",
       "      <td>96.000000</td>\n",
       "      <td>0.0</td>\n",
       "      <td>0.0</td>\n",
       "      <td>49246.165000</td>\n",
       "      <td>1789.000000</td>\n",
       "      <td>0.0</td>\n",
       "      <td>-5.056469e+05</td>\n",
       "      <td>0.0</td>\n",
       "      <td>44172.700000</td>\n",
       "    </tr>\n",
       "    <tr>\n",
       "      <th>max</th>\n",
       "      <td>128.000000</td>\n",
       "      <td>0.0</td>\n",
       "      <td>0.0</td>\n",
       "      <td>49788.943000</td>\n",
       "      <td>2465.000000</td>\n",
       "      <td>0.0</td>\n",
       "      <td>-5.056469e+05</td>\n",
       "      <td>0.0</td>\n",
       "      <td>44848.700000</td>\n",
       "    </tr>\n",
       "  </tbody>\n",
       "</table>\n",
       "</div>"
      ],
      "text/plain": [
       "          station    lat    lon         field         time  student_id  \\\n",
       "count  129.000000  129.0  129.0    129.000000   129.000000       129.0   \n",
       "mean    64.000000    0.0    0.0  45584.561853  1348.643411         0.0   \n",
       "std     37.383151    0.0    0.0  11913.534718   533.467955         0.0   \n",
       "min      0.000000    0.0    0.0      0.000000     0.000000         0.0   \n",
       "25%     32.000000    0.0    0.0  48557.313000   879.000000         0.0   \n",
       "50%     64.000000    0.0    0.0  48913.784000  1356.000000         0.0   \n",
       "75%     96.000000    0.0    0.0  49246.165000  1789.000000         0.0   \n",
       "max    128.000000    0.0    0.0  49788.943000  2465.000000         0.0   \n",
       "\n",
       "                  x      y         times  \n",
       "count  1.290000e+02  129.0    129.000000  \n",
       "mean  -5.056469e+05    0.0  43732.343411  \n",
       "std    5.843459e-11    0.0    533.467955  \n",
       "min   -5.056469e+05    0.0  42383.700000  \n",
       "25%   -5.056469e+05    0.0  43262.700000  \n",
       "50%   -5.056469e+05    0.0  43739.700000  \n",
       "75%   -5.056469e+05    0.0  44172.700000  \n",
       "max   -5.056469e+05    0.0  44848.700000  "
      ]
     },
     "execution_count": 46,
     "metadata": {},
     "output_type": "execute_result"
    }
   ],
   "source": [
    "# Removin NaN values\n",
    "data.dropna(inplace=True)\n",
    "data.describe()"
   ]
  },
  {
   "cell_type": "code",
   "execution_count": 47,
   "id": "moved-diesel",
   "metadata": {},
   "outputs": [
    {
     "data": {
      "image/png": "[encoded data removed]",
      "text/plain": [
       "<Figure size 864x576 with 1 Axes>"
      ]
     },
     "metadata": {
      "needs_background": "light"
     },
     "output_type": "display_data"
    }
   ],
   "source": [
    "# Plotting all datapoints in order of appearance in the dataset\n",
    "fig, ax = plt.subplots(figsize=(12, 8))\n",
    "nData = len(data['field'])\n",
    "ax.scatter(data['times'], data['field'])\n",
    "ax.set(xlabel='Measurement Time [s]', ylabel='B [nT]', title=f'Original dataset with {nData} measurements.');"
   ]
  },
  {
   "cell_type": "code",
   "execution_count": 48,
   "id": "naked-conviction",
   "metadata": {},
   "outputs": [
    {
     "data": {
      "image/png": "[encoded data removed]",
      "text/plain": [
       "<Figure size 864x576 with 2 Axes>"
      ]
     },
     "metadata": {
      "needs_background": "light"
     },
     "output_type": "display_data"
    }
   ],
   "source": [
    "# Plotting the collected data spatially\n",
    "fig, ax = plt.subplots(figsize=(12, 8))\n",
    "\n",
    "# Using the temporally corrected anomalies\n",
    "im = ax.scatter(data['x'], data['y'], c=data['field'])\n",
    "ax.set(xlabel='Easting', ylabel='Northing', title='Collected data')\n",
    "ax.set_xticklabels(['{:}'.format(int(_)) for _ in ax.get_xticks().tolist()]) # Fixes x-axis tick labels\n",
    "ax.set_yticklabels(['{:}'.format(int(_)) for _ in ax.get_yticks().tolist()]) # Fixes y-axis tick labels\n",
    "plt.colorbar(im, ax=ax, label='Magnetic field [T]');"
   ]
  },
  {
   "cell_type": "markdown",
   "id": "accessible-escape",
   "metadata": {},
   "source": [
    "## Getting accurate altitude values\n",
    "\n",
    "The altitudes recorded with your phones' GPS are likely imprecise. We can get accurate altitude values from a DEM of the survey area:\n",
    "Enter the path where the DEM file is located on your system."
   ]
  },
  {
   "cell_type": "code",
   "execution_count": 49,
   "id": "velvet-karen",
   "metadata": {},
   "outputs": [],
   "source": [
    "# Loading the DEM\n",
    "dem_location = r'C:\\Users\\julik\\sciebo\\Master\\Geophyphox\\Excursion 2022\\DEM\\Dürwiss_combined.txt'\n",
    "dem = pd.read_csv(dem_location, sep=' ', names=['easting', 'northing', 'altitude'])"
   ]
  },
  {
   "cell_type": "code",
   "execution_count": 50,
   "id": "verified-vancouver",
   "metadata": {},
   "outputs": [
    {
     "ename": "IndexError",
     "evalue": "index 0 is out of bounds for axis 0 with size 0",
     "output_type": "error",
     "traceback": [
      "\u001b[1;31m---------------------------------------------------------------------------\u001b[0m",
      "\u001b[1;31mIndexError\u001b[0m                                Traceback (most recent call last)",
      "\u001b[1;32mc:\\Users\\julik\\sciebo\\Master\\Geophyphox\\Excursion 2022\\Excursion Notebooks\\Magnetics_processing G858.ipynb Zelle 19\u001b[0m in \u001b[0;36m<cell line: 3>\u001b[1;34m()\u001b[0m\n\u001b[0;32m      <a href='vscode-notebook-cell:/c%3A/Users/julik/sciebo/Master/Geophyphox/Excursion%202022/Excursion%20Notebooks/Magnetics_processing%20G858.ipynb#ch0000018?line=5'>6</a>\u001b[0m     mask \u001b[39m=\u001b[39m np\u001b[39m.\u001b[39mlogical_and(dem[\u001b[39m'\u001b[39m\u001b[39measting\u001b[39m\u001b[39m'\u001b[39m] \u001b[39m==\u001b[39m _x, dem[\u001b[39m'\u001b[39m\u001b[39mnorthing\u001b[39m\u001b[39m'\u001b[39m] \u001b[39m==\u001b[39m _y)\n\u001b[0;32m      <a href='vscode-notebook-cell:/c%3A/Users/julik/sciebo/Master/Geophyphox/Excursion%202022/Excursion%20Notebooks/Magnetics_processing%20G858.ipynb#ch0000018?line=6'>7</a>\u001b[0m     p \u001b[39m=\u001b[39m dem\u001b[39m.\u001b[39mloc[mask]\n\u001b[1;32m----> <a href='vscode-notebook-cell:/c%3A/Users/julik/sciebo/Master/Geophyphox/Excursion%202022/Excursion%20Notebooks/Magnetics_processing%20G858.ipynb#ch0000018?line=7'>8</a>\u001b[0m     z_dem\u001b[39m.\u001b[39mappend(p[\u001b[39m'\u001b[39;49m\u001b[39maltitude\u001b[39;49m\u001b[39m'\u001b[39;49m]\u001b[39m.\u001b[39;49mvalues[\u001b[39m0\u001b[39;49m]\u001b[39m.\u001b[39mcopy())\n\u001b[0;32m     <a href='vscode-notebook-cell:/c%3A/Users/julik/sciebo/Master/Geophyphox/Excursion%202022/Excursion%20Notebooks/Magnetics_processing%20G858.ipynb#ch0000018?line=9'>10</a>\u001b[0m data[\u001b[39m'\u001b[39m\u001b[39mz_dem\u001b[39m\u001b[39m'\u001b[39m] \u001b[39m=\u001b[39m z_dem\n",
      "\u001b[1;31mIndexError\u001b[0m: index 0 is out of bounds for axis 0 with size 0"
     ]
    }
   ],
   "source": [
    "z_dem = []\n",
    "\n",
    "for _x, _y in zip(data['x'], data['y']):\n",
    "    _x = round(_x, 0)\n",
    "    _y = round(_y, 0)\n",
    "    mask = np.logical_and(dem['easting'] == _x, dem['northing'] == _y)\n",
    "    p = dem.loc[mask]\n",
    "    z_dem.append(p['altitude'].values[0].copy())\n",
    "    \n",
    "data['z_dem'] = z_dem"
   ]
  },
  {
   "cell_type": "markdown",
   "id": "future-surfing",
   "metadata": {},
   "source": [
    "## Handling Outliers\n",
    "\n",
    "We can now search the dataset for any outliers. There are many ways of defining and identifying outliers, here we will define a threshold value above or below which we want to discard any values. The median of the data will be our point of reference, and any field value lying above or below a predefined range around the median will be discarded."
   ]
  },
  {
   "cell_type": "code",
   "execution_count": 51,
   "id": "crude-raleigh",
   "metadata": {},
   "outputs": [],
   "source": [
    "# Here we set the unilateral range around the median, which defines the window of values we want to keep\n",
    "rangespan = 5000\n",
    "median_data = data['field'].median()\n",
    "\n",
    "# Creating a vector with the absolute differences between each field value and the median\n",
    "diff_median = np.abs(data['field'] - median_data)\n",
    "\n",
    "# Storing all datapoints that do not meet the outlier criterion\n",
    "data_outlier = data.loc[diff_median < rangespan]\n",
    "\n",
    "# This new dataframe is now void of outliers"
   ]
  },
  {
   "cell_type": "code",
   "execution_count": 52,
   "id": "automatic-guard",
   "metadata": {},
   "outputs": [
    {
     "data": {
      "text/plain": [
       "<matplotlib.legend.Legend at 0x1d189d8add0>"
      ]
     },
     "execution_count": 52,
     "metadata": {},
     "output_type": "execute_result"
    },
    {
     "data": {
      "image/png": "[encoded data removed]",
      "text/plain": [
       "<Figure size 864x576 with 1 Axes>"
      ]
     },
     "metadata": {
      "needs_background": "light"
     },
     "output_type": "display_data"
    }
   ],
   "source": [
    "# Now we can plot the dataset with outliers removed\n",
    "fig, ax = plt.subplots(figsize=(12, 8))\n",
    "\n",
    "nDataOutlier = len(data_outlier['field'])\n",
    "ax.scatter(data['times'], data['field'])\n",
    "ax.hlines(median_data, data['times'].min()-500, data['times'].max()+500, color='purple', label='Data median')\n",
    "ax.hlines(median_data+rangespan, data['times'].min()-500, data['times'].max()+500,\n",
    "          linestyles='dashed', color='red', label='Upper outlier bound')\n",
    "ax.hlines(median_data-rangespan, data['times'].min()-500, data['times'].max()+500,\n",
    "          linestyles='dashed', color='blue', label='Lower outlier bound')\n",
    "ax.set(xlabel='Measurement Time [s]', ylabel='B [nT]',\n",
    "       title=f'Outlier removed dataset with {nDataOutlier} measurements, {nData-nDataOutlier} measurements were discarded');\n",
    "ax.legend()\n",
    "#plt.xticks(ticks=range(0, len(times_outlier), 200), labels=times_outlier[::200], rotation=45);"
   ]
  },
  {
   "cell_type": "markdown",
   "id": "advance-algeria",
   "metadata": {},
   "source": [
    "## Data Correction\n",
    "\n",
    "To obtain magnetic anomalies, we need to extract the anomal part of the data. This can be done by subtracting a calculated (or measured) magnetic field value from the data. Another method is to also correct for the temporal drift which naturally occurs, for which measurements at a base station are needed. In our case, we can also use the smartphone measurements taken at the reference location as base station data. Using these data will also eliminate any measurement deviations that occur between smartphones.\n",
    "\n",
    "Note that only one appropriate method must be chosen."
   ]
  },
  {
   "cell_type": "markdown",
   "id": "suspected-bacon",
   "metadata": {},
   "source": [
    "## Getting Base Station Data"
   ]
  },
  {
   "cell_type": "markdown",
   "id": "relevant-tyler",
   "metadata": {},
   "source": [
    "If we want to use smartphone measurements as base station values, we need to get the values that were taken at the reference point. Since GPS measurements are not entirely precise, we define a tolerance range around which we will accept measurements as base station values. Of course we also have to specify the reference points' coordinates."
   ]
  },
  {
   "cell_type": "code",
   "execution_count": 53,
   "id": "noted-democracy",
   "metadata": {},
   "outputs": [
    {
     "data": {
      "image/png": "[encoded data removed]",
      "text/plain": [
       "<Figure size 864x576 with 2 Axes>"
      ]
     },
     "metadata": {
      "needs_background": "light"
     },
     "output_type": "display_data"
    }
   ],
   "source": [
    "# Defining the reference location and tolerance\n",
    "# Using first measurement locaion as default\n",
    "refPointX = data_outlier['x'][0]\n",
    "refPointY = data_outlier['y'][0]\n",
    "\n",
    "# Defining the tolerance\n",
    "tolX = 15\n",
    "tolY = 15\n",
    "\n",
    "refMinX, refMaxX = (refPointX-tolX, refPointX+tolX)\n",
    "refMinY, refMaxY = (refPointY-tolY, refPointY+tolY)\n",
    "\n",
    "maskX = np.logical_and(data_outlier['x'] < refMaxX, data_outlier['x'] > refMinX)\n",
    "maskY = np.logical_and(data_outlier['y'] < refMaxY, data_outlier['y'] > refMinY)\n",
    "maskAll = np.logical_and(maskX, maskY)\n",
    "\n",
    "data_base = data_outlier.loc[maskAll]\n",
    "nDataBase = len(data_base['x'])\n",
    "\n",
    "# Plotting reference measurements\n",
    "fig, ax = plt.subplots(figsize=(12, 8))\n",
    "\n",
    "im = ax.scatter(data_outlier['x'], data_outlier['y'], c=data_outlier['field'], clip_on=True, label='Measurements')\n",
    "ax.set(xlabel='Easting', ylabel='Northing', title=f'Magnetic field map with {nDataBase} reference points.')\n",
    "refArea = mpl.patches.Rectangle((refMinX, refMinY), width=refMaxX-refMinX, height=refMaxY-refMinY,\n",
    "                               fill=False, label='Reference point selection')\n",
    "ax.set_yticklabels(['{:}'.format(int(_)) for _ in ax.get_yticks().tolist()]) # Fixes y-axis tick labels\n",
    "ax.add_artist(refArea)\n",
    "im_ref = ax.scatter(refPointX, refPointY, c='r', zorder=3, label='Reference point')\n",
    "plt.colorbar(im, ax=ax, label='Magnetic field [nT]')\n",
    "ax.legend(handles=[im, im_ref, refArea]);"
   ]
  },
  {
   "cell_type": "markdown",
   "id": "nominated-aspect",
   "metadata": {},
   "source": [
    "If the reference area includes less than 2 points, increase the tolerance. Once the base station values are obtained, they can be used in the time drift correction. Set the variable below to 'temporal' in order to use this type of corrrection. For a theoretical reference correction you can also use enter 'reference'."
   ]
  },
  {
   "cell_type": "markdown",
   "id": "colored-paste",
   "metadata": {},
   "source": [
    "## Altitude correction \n",
    "\n"
   ]
  },
  {
   "cell_type": "markdown",
   "id": "processed-scotland",
   "metadata": {},
   "source": [
    "There is an altitude dependency of the magnetic field. This correction is undertaken before any other calculations are done, and will be done on the basis of a digital elevation model (DEM) of the area."
   ]
  },
  {
   "cell_type": "code",
   "execution_count": 54,
   "id": "sunrise-mandate",
   "metadata": {},
   "outputs": [
    {
     "ename": "KeyError",
     "evalue": "'z_dem'",
     "output_type": "error",
     "traceback": [
      "\u001b[1;31m---------------------------------------------------------------------------\u001b[0m",
      "\u001b[1;31mKeyError\u001b[0m                                  Traceback (most recent call last)",
      "File \u001b[1;32mc:\\Users\\julik\\Programs\\Anaconda\\envs\\Test\\lib\\site-packages\\pandas\\core\\indexes\\base.py:3621\u001b[0m, in \u001b[0;36mIndex.get_loc\u001b[1;34m(self, key, method, tolerance)\u001b[0m\n\u001b[0;32m   3620\u001b[0m \u001b[39mtry\u001b[39;00m:\n\u001b[1;32m-> 3621\u001b[0m     \u001b[39mreturn\u001b[39;00m \u001b[39mself\u001b[39;49m\u001b[39m.\u001b[39;49m_engine\u001b[39m.\u001b[39;49mget_loc(casted_key)\n\u001b[0;32m   3622\u001b[0m \u001b[39mexcept\u001b[39;00m \u001b[39mKeyError\u001b[39;00m \u001b[39mas\u001b[39;00m err:\n",
      "File \u001b[1;32mc:\\Users\\julik\\Programs\\Anaconda\\envs\\Test\\lib\\site-packages\\pandas\\_libs\\index.pyx:136\u001b[0m, in \u001b[0;36mpandas._libs.index.IndexEngine.get_loc\u001b[1;34m()\u001b[0m\n",
      "File \u001b[1;32mc:\\Users\\julik\\Programs\\Anaconda\\envs\\Test\\lib\\site-packages\\pandas\\_libs\\index.pyx:163\u001b[0m, in \u001b[0;36mpandas._libs.index.IndexEngine.get_loc\u001b[1;34m()\u001b[0m\n",
      "File \u001b[1;32mpandas\\_libs\\hashtable_class_helper.pxi:5198\u001b[0m, in \u001b[0;36mpandas._libs.hashtable.PyObjectHashTable.get_item\u001b[1;34m()\u001b[0m\n",
      "File \u001b[1;32mpandas\\_libs\\hashtable_class_helper.pxi:5206\u001b[0m, in \u001b[0;36mpandas._libs.hashtable.PyObjectHashTable.get_item\u001b[1;34m()\u001b[0m\n",
      "\u001b[1;31mKeyError\u001b[0m: 'z_dem'",
      "\nThe above exception was the direct cause of the following exception:\n",
      "\u001b[1;31mKeyError\u001b[0m                                  Traceback (most recent call last)",
      "\u001b[1;32mc:\\Users\\julik\\sciebo\\Master\\Geophyphox\\Excursion 2022\\Excursion Notebooks\\Magnetics_processing G858.ipynb Zelle 30\u001b[0m in \u001b[0;36m<cell line: 3>\u001b[1;34m()\u001b[0m\n\u001b[0;32m      <a href='vscode-notebook-cell:/c%3A/Users/julik/sciebo/Master/Geophyphox/Excursion%202022/Excursion%20Notebooks/Magnetics_processing%20G858.ipynb#ch0000029?line=0'>1</a>\u001b[0m \u001b[39m# Defining reference height for altitude correction\u001b[39;00m\n\u001b[0;32m      <a href='vscode-notebook-cell:/c%3A/Users/julik/sciebo/Master/Geophyphox/Excursion%202022/Excursion%20Notebooks/Magnetics_processing%20G858.ipynb#ch0000029?line=1'>2</a>\u001b[0m \u001b[39m# Using first measurement location as reference\u001b[39;00m\n\u001b[1;32m----> <a href='vscode-notebook-cell:/c%3A/Users/julik/sciebo/Master/Geophyphox/Excursion%202022/Excursion%20Notebooks/Magnetics_processing%20G858.ipynb#ch0000029?line=2'>3</a>\u001b[0m RefHeight \u001b[39m=\u001b[39m data_base[\u001b[39m'\u001b[39;49m\u001b[39mz_dem\u001b[39;49m\u001b[39m'\u001b[39;49m][\u001b[39m0\u001b[39m]\n\u001b[0;32m      <a href='vscode-notebook-cell:/c%3A/Users/julik/sciebo/Master/Geophyphox/Excursion%202022/Excursion%20Notebooks/Magnetics_processing%20G858.ipynb#ch0000029?line=3'>4</a>\u001b[0m dH \u001b[39m=\u001b[39m data_outlier[\u001b[39m'\u001b[39m\u001b[39mz_dem\u001b[39m\u001b[39m'\u001b[39m] \u001b[39m-\u001b[39m RefHeight\n\u001b[0;32m      <a href='vscode-notebook-cell:/c%3A/Users/julik/sciebo/Master/Geophyphox/Excursion%202022/Excursion%20Notebooks/Magnetics_processing%20G858.ipynb#ch0000029?line=4'>5</a>\u001b[0m R \u001b[39m=\u001b[39m RefHeight \u001b[39m+\u001b[39m \u001b[39m6371000\u001b[39m \u001b[39m# (earth radius in m)\u001b[39;00m\n",
      "File \u001b[1;32mc:\\Users\\julik\\Programs\\Anaconda\\envs\\Test\\lib\\site-packages\\pandas\\core\\frame.py:3505\u001b[0m, in \u001b[0;36mDataFrame.__getitem__\u001b[1;34m(self, key)\u001b[0m\n\u001b[0;32m   3503\u001b[0m \u001b[39mif\u001b[39;00m \u001b[39mself\u001b[39m\u001b[39m.\u001b[39mcolumns\u001b[39m.\u001b[39mnlevels \u001b[39m>\u001b[39m \u001b[39m1\u001b[39m:\n\u001b[0;32m   3504\u001b[0m     \u001b[39mreturn\u001b[39;00m \u001b[39mself\u001b[39m\u001b[39m.\u001b[39m_getitem_multilevel(key)\n\u001b[1;32m-> 3505\u001b[0m indexer \u001b[39m=\u001b[39m \u001b[39mself\u001b[39;49m\u001b[39m.\u001b[39;49mcolumns\u001b[39m.\u001b[39;49mget_loc(key)\n\u001b[0;32m   3506\u001b[0m \u001b[39mif\u001b[39;00m is_integer(indexer):\n\u001b[0;32m   3507\u001b[0m     indexer \u001b[39m=\u001b[39m [indexer]\n",
      "File \u001b[1;32mc:\\Users\\julik\\Programs\\Anaconda\\envs\\Test\\lib\\site-packages\\pandas\\core\\indexes\\base.py:3623\u001b[0m, in \u001b[0;36mIndex.get_loc\u001b[1;34m(self, key, method, tolerance)\u001b[0m\n\u001b[0;32m   3621\u001b[0m     \u001b[39mreturn\u001b[39;00m \u001b[39mself\u001b[39m\u001b[39m.\u001b[39m_engine\u001b[39m.\u001b[39mget_loc(casted_key)\n\u001b[0;32m   3622\u001b[0m \u001b[39mexcept\u001b[39;00m \u001b[39mKeyError\u001b[39;00m \u001b[39mas\u001b[39;00m err:\n\u001b[1;32m-> 3623\u001b[0m     \u001b[39mraise\u001b[39;00m \u001b[39mKeyError\u001b[39;00m(key) \u001b[39mfrom\u001b[39;00m \u001b[39merr\u001b[39;00m\n\u001b[0;32m   3624\u001b[0m \u001b[39mexcept\u001b[39;00m \u001b[39mTypeError\u001b[39;00m:\n\u001b[0;32m   3625\u001b[0m     \u001b[39m# If we have a listlike key, _check_indexing_error will raise\u001b[39;00m\n\u001b[0;32m   3626\u001b[0m     \u001b[39m#  InvalidIndexError. Otherwise we fall through and re-raise\u001b[39;00m\n\u001b[0;32m   3627\u001b[0m     \u001b[39m#  the TypeError.\u001b[39;00m\n\u001b[0;32m   3628\u001b[0m     \u001b[39mself\u001b[39m\u001b[39m.\u001b[39m_check_indexing_error(key)\n",
      "\u001b[1;31mKeyError\u001b[0m: 'z_dem'"
     ]
    }
   ],
   "source": [
    "# Defining reference height for altitude correction\n",
    "# Using first measurement location as reference\n",
    "RefHeight = data_base['z_dem'][0]\n",
    "dH = data_outlier['z_dem'] - RefHeight\n",
    "R = RefHeight + 6371000 # (earth radius in m)\n",
    "field_altitude = data_outlier['field']*(1+(dH/R))**(-3)\n",
    "data_outlier['field_alt'] = field_altitude\n"
   ]
  },
  {
   "cell_type": "code",
   "execution_count": 55,
   "id": "identical-appreciation",
   "metadata": {},
   "outputs": [
    {
     "ename": "KeyError",
     "evalue": "'field_alt'",
     "output_type": "error",
     "traceback": [
      "\u001b[1;31m---------------------------------------------------------------------------\u001b[0m",
      "\u001b[1;31mKeyError\u001b[0m                                  Traceback (most recent call last)",
      "File \u001b[1;32mc:\\Users\\julik\\Programs\\Anaconda\\envs\\Test\\lib\\site-packages\\pandas\\core\\indexes\\base.py:3621\u001b[0m, in \u001b[0;36mIndex.get_loc\u001b[1;34m(self, key, method, tolerance)\u001b[0m\n\u001b[0;32m   3620\u001b[0m \u001b[39mtry\u001b[39;00m:\n\u001b[1;32m-> 3621\u001b[0m     \u001b[39mreturn\u001b[39;00m \u001b[39mself\u001b[39;49m\u001b[39m.\u001b[39;49m_engine\u001b[39m.\u001b[39;49mget_loc(casted_key)\n\u001b[0;32m   3622\u001b[0m \u001b[39mexcept\u001b[39;00m \u001b[39mKeyError\u001b[39;00m \u001b[39mas\u001b[39;00m err:\n",
      "File \u001b[1;32mc:\\Users\\julik\\Programs\\Anaconda\\envs\\Test\\lib\\site-packages\\pandas\\_libs\\index.pyx:136\u001b[0m, in \u001b[0;36mpandas._libs.index.IndexEngine.get_loc\u001b[1;34m()\u001b[0m\n",
      "File \u001b[1;32mc:\\Users\\julik\\Programs\\Anaconda\\envs\\Test\\lib\\site-packages\\pandas\\_libs\\index.pyx:163\u001b[0m, in \u001b[0;36mpandas._libs.index.IndexEngine.get_loc\u001b[1;34m()\u001b[0m\n",
      "File \u001b[1;32mpandas\\_libs\\hashtable_class_helper.pxi:5198\u001b[0m, in \u001b[0;36mpandas._libs.hashtable.PyObjectHashTable.get_item\u001b[1;34m()\u001b[0m\n",
      "File \u001b[1;32mpandas\\_libs\\hashtable_class_helper.pxi:5206\u001b[0m, in \u001b[0;36mpandas._libs.hashtable.PyObjectHashTable.get_item\u001b[1;34m()\u001b[0m\n",
      "\u001b[1;31mKeyError\u001b[0m: 'field_alt'",
      "\nThe above exception was the direct cause of the following exception:\n",
      "\u001b[1;31mKeyError\u001b[0m                                  Traceback (most recent call last)",
      "\u001b[1;32mc:\\Users\\julik\\sciebo\\Master\\Geophyphox\\Excursion 2022\\Excursion Notebooks\\Magnetics_processing G858.ipynb Zelle 31\u001b[0m in \u001b[0;36m<cell line: 4>\u001b[1;34m()\u001b[0m\n\u001b[0;32m      <a href='vscode-notebook-cell:/c%3A/Users/julik/sciebo/Master/Geophyphox/Excursion%202022/Excursion%20Notebooks/Magnetics_processing%20G858.ipynb#ch0000030?line=0'>1</a>\u001b[0m fig, ax \u001b[39m=\u001b[39m plt\u001b[39m.\u001b[39msubplots(figsize\u001b[39m=\u001b[39m(\u001b[39m12\u001b[39m, \u001b[39m8\u001b[39m))\n\u001b[0;32m      <a href='vscode-notebook-cell:/c%3A/Users/julik/sciebo/Master/Geophyphox/Excursion%202022/Excursion%20Notebooks/Magnetics_processing%20G858.ipynb#ch0000030?line=2'>3</a>\u001b[0m ax\u001b[39m.\u001b[39mplot(data_outlier[\u001b[39m'\u001b[39m\u001b[39mtimes\u001b[39m\u001b[39m'\u001b[39m], data_outlier[\u001b[39m'\u001b[39m\u001b[39mfield\u001b[39m\u001b[39m'\u001b[39m], \u001b[39m'\u001b[39m\u001b[39m--\u001b[39m\u001b[39m'\u001b[39m, label\u001b[39m=\u001b[39m\u001b[39m'\u001b[39m\u001b[39mRaw data\u001b[39m\u001b[39m'\u001b[39m)\n\u001b[1;32m----> <a href='vscode-notebook-cell:/c%3A/Users/julik/sciebo/Master/Geophyphox/Excursion%202022/Excursion%20Notebooks/Magnetics_processing%20G858.ipynb#ch0000030?line=3'>4</a>\u001b[0m ax\u001b[39m.\u001b[39mplot(data_outlier[\u001b[39m'\u001b[39m\u001b[39mtimes\u001b[39m\u001b[39m'\u001b[39m], data_outlier[\u001b[39m'\u001b[39;49m\u001b[39mfield_alt\u001b[39;49m\u001b[39m'\u001b[39;49m], label\u001b[39m=\u001b[39m\u001b[39m'\u001b[39m\u001b[39mAltitude corrected data\u001b[39m\u001b[39m'\u001b[39m)\n\u001b[0;32m      <a href='vscode-notebook-cell:/c%3A/Users/julik/sciebo/Master/Geophyphox/Excursion%202022/Excursion%20Notebooks/Magnetics_processing%20G858.ipynb#ch0000030?line=4'>5</a>\u001b[0m ax\u001b[39m.\u001b[39mset(xlabel\u001b[39m=\u001b[39m\u001b[39m'\u001b[39m\u001b[39mMeasurement time [s]\u001b[39m\u001b[39m'\u001b[39m, ylabel\u001b[39m=\u001b[39m\u001b[39m'\u001b[39m\u001b[39mMagnetic field B [nT]\u001b[39m\u001b[39m'\u001b[39m)\n\u001b[0;32m      <a href='vscode-notebook-cell:/c%3A/Users/julik/sciebo/Master/Geophyphox/Excursion%202022/Excursion%20Notebooks/Magnetics_processing%20G858.ipynb#ch0000030?line=5'>6</a>\u001b[0m ax\u001b[39m.\u001b[39mlegend()\n",
      "File \u001b[1;32mc:\\Users\\julik\\Programs\\Anaconda\\envs\\Test\\lib\\site-packages\\pandas\\core\\frame.py:3505\u001b[0m, in \u001b[0;36mDataFrame.__getitem__\u001b[1;34m(self, key)\u001b[0m\n\u001b[0;32m   3503\u001b[0m \u001b[39mif\u001b[39;00m \u001b[39mself\u001b[39m\u001b[39m.\u001b[39mcolumns\u001b[39m.\u001b[39mnlevels \u001b[39m>\u001b[39m \u001b[39m1\u001b[39m:\n\u001b[0;32m   3504\u001b[0m     \u001b[39mreturn\u001b[39;00m \u001b[39mself\u001b[39m\u001b[39m.\u001b[39m_getitem_multilevel(key)\n\u001b[1;32m-> 3505\u001b[0m indexer \u001b[39m=\u001b[39m \u001b[39mself\u001b[39;49m\u001b[39m.\u001b[39;49mcolumns\u001b[39m.\u001b[39;49mget_loc(key)\n\u001b[0;32m   3506\u001b[0m \u001b[39mif\u001b[39;00m is_integer(indexer):\n\u001b[0;32m   3507\u001b[0m     indexer \u001b[39m=\u001b[39m [indexer]\n",
      "File \u001b[1;32mc:\\Users\\julik\\Programs\\Anaconda\\envs\\Test\\lib\\site-packages\\pandas\\core\\indexes\\base.py:3623\u001b[0m, in \u001b[0;36mIndex.get_loc\u001b[1;34m(self, key, method, tolerance)\u001b[0m\n\u001b[0;32m   3621\u001b[0m     \u001b[39mreturn\u001b[39;00m \u001b[39mself\u001b[39m\u001b[39m.\u001b[39m_engine\u001b[39m.\u001b[39mget_loc(casted_key)\n\u001b[0;32m   3622\u001b[0m \u001b[39mexcept\u001b[39;00m \u001b[39mKeyError\u001b[39;00m \u001b[39mas\u001b[39;00m err:\n\u001b[1;32m-> 3623\u001b[0m     \u001b[39mraise\u001b[39;00m \u001b[39mKeyError\u001b[39;00m(key) \u001b[39mfrom\u001b[39;00m \u001b[39merr\u001b[39;00m\n\u001b[0;32m   3624\u001b[0m \u001b[39mexcept\u001b[39;00m \u001b[39mTypeError\u001b[39;00m:\n\u001b[0;32m   3625\u001b[0m     \u001b[39m# If we have a listlike key, _check_indexing_error will raise\u001b[39;00m\n\u001b[0;32m   3626\u001b[0m     \u001b[39m#  InvalidIndexError. Otherwise we fall through and re-raise\u001b[39;00m\n\u001b[0;32m   3627\u001b[0m     \u001b[39m#  the TypeError.\u001b[39;00m\n\u001b[0;32m   3628\u001b[0m     \u001b[39mself\u001b[39m\u001b[39m.\u001b[39m_check_indexing_error(key)\n",
      "\u001b[1;31mKeyError\u001b[0m: 'field_alt'"
     ]
    },
    {
     "data": {
      "image/png": "[encoded data removed]",
      "text/plain": [
       "<Figure size 864x576 with 1 Axes>"
      ]
     },
     "metadata": {
      "needs_background": "light"
     },
     "output_type": "display_data"
    }
   ],
   "source": [
    "fig, ax = plt.subplots(figsize=(12, 8))\n",
    "\n",
    "ax.plot(data_outlier['times'], data_outlier['field'], '--', label='Raw data')\n",
    "ax.plot(data_outlier['times'], data_outlier['field_alt'], label='Altitude corrected data')\n",
    "ax.set(xlabel='Measurement time [s]', ylabel='Magnetic field B [nT]')\n",
    "ax.legend()\n"
   ]
  },
  {
   "cell_type": "code",
   "execution_count": 56,
   "id": "italic-responsibility",
   "metadata": {},
   "outputs": [
    {
     "data": {
      "text/html": [
       "<div>\n",
       "<style scoped>\n",
       "    .dataframe tbody tr th:only-of-type {\n",
       "        vertical-align: middle;\n",
       "    }\n",
       "\n",
       "    .dataframe tbody tr th {\n",
       "        vertical-align: top;\n",
       "    }\n",
       "\n",
       "    .dataframe thead th {\n",
       "        text-align: right;\n",
       "    }\n",
       "</style>\n",
       "<table border=\"1\" class=\"dataframe\">\n",
       "  <thead>\n",
       "    <tr style=\"text-align: right;\">\n",
       "      <th></th>\n",
       "      <th>station</th>\n",
       "      <th>lat</th>\n",
       "      <th>lon</th>\n",
       "      <th>field</th>\n",
       "      <th>time</th>\n",
       "      <th>student_id</th>\n",
       "      <th>x</th>\n",
       "      <th>y</th>\n",
       "      <th>times</th>\n",
       "    </tr>\n",
       "  </thead>\n",
       "  <tbody>\n",
       "    <tr>\n",
       "      <th>0</th>\n",
       "      <td>0</td>\n",
       "      <td>0</td>\n",
       "      <td>0</td>\n",
       "      <td>48845.010</td>\n",
       "      <td>0</td>\n",
       "      <td>0</td>\n",
       "      <td>-505646.899516</td>\n",
       "      <td>0.0</td>\n",
       "      <td>42383.7</td>\n",
       "    </tr>\n",
       "    <tr>\n",
       "      <th>1</th>\n",
       "      <td>1</td>\n",
       "      <td>0</td>\n",
       "      <td>0</td>\n",
       "      <td>48409.265</td>\n",
       "      <td>175</td>\n",
       "      <td>0</td>\n",
       "      <td>-505646.899516</td>\n",
       "      <td>0.0</td>\n",
       "      <td>42558.7</td>\n",
       "    </tr>\n",
       "    <tr>\n",
       "      <th>2</th>\n",
       "      <td>2</td>\n",
       "      <td>0</td>\n",
       "      <td>0</td>\n",
       "      <td>48370.503</td>\n",
       "      <td>406</td>\n",
       "      <td>0</td>\n",
       "      <td>-505646.899516</td>\n",
       "      <td>0.0</td>\n",
       "      <td>42789.7</td>\n",
       "    </tr>\n",
       "    <tr>\n",
       "      <th>3</th>\n",
       "      <td>3</td>\n",
       "      <td>0</td>\n",
       "      <td>0</td>\n",
       "      <td>48537.032</td>\n",
       "      <td>443</td>\n",
       "      <td>0</td>\n",
       "      <td>-505646.899516</td>\n",
       "      <td>0.0</td>\n",
       "      <td>42826.7</td>\n",
       "    </tr>\n",
       "    <tr>\n",
       "      <th>4</th>\n",
       "      <td>4</td>\n",
       "      <td>0</td>\n",
       "      <td>0</td>\n",
       "      <td>48459.021</td>\n",
       "      <td>485</td>\n",
       "      <td>0</td>\n",
       "      <td>-505646.899516</td>\n",
       "      <td>0.0</td>\n",
       "      <td>42868.7</td>\n",
       "    </tr>\n",
       "    <tr>\n",
       "      <th>...</th>\n",
       "      <td>...</td>\n",
       "      <td>...</td>\n",
       "      <td>...</td>\n",
       "      <td>...</td>\n",
       "      <td>...</td>\n",
       "      <td>...</td>\n",
       "      <td>...</td>\n",
       "      <td>...</td>\n",
       "      <td>...</td>\n",
       "    </tr>\n",
       "    <tr>\n",
       "      <th>113</th>\n",
       "      <td>113</td>\n",
       "      <td>0</td>\n",
       "      <td>0</td>\n",
       "      <td>48686.575</td>\n",
       "      <td>2021</td>\n",
       "      <td>0</td>\n",
       "      <td>-505646.899516</td>\n",
       "      <td>0.0</td>\n",
       "      <td>44404.7</td>\n",
       "    </tr>\n",
       "    <tr>\n",
       "      <th>114</th>\n",
       "      <td>114</td>\n",
       "      <td>0</td>\n",
       "      <td>0</td>\n",
       "      <td>45832.806</td>\n",
       "      <td>2030</td>\n",
       "      <td>0</td>\n",
       "      <td>-505646.899516</td>\n",
       "      <td>0.0</td>\n",
       "      <td>44413.7</td>\n",
       "    </tr>\n",
       "    <tr>\n",
       "      <th>115</th>\n",
       "      <td>115</td>\n",
       "      <td>0</td>\n",
       "      <td>0</td>\n",
       "      <td>48774.480</td>\n",
       "      <td>2056</td>\n",
       "      <td>0</td>\n",
       "      <td>-505646.899516</td>\n",
       "      <td>0.0</td>\n",
       "      <td>44439.7</td>\n",
       "    </tr>\n",
       "    <tr>\n",
       "      <th>116</th>\n",
       "      <td>116</td>\n",
       "      <td>0</td>\n",
       "      <td>0</td>\n",
       "      <td>48549.968</td>\n",
       "      <td>2067</td>\n",
       "      <td>0</td>\n",
       "      <td>-505646.899516</td>\n",
       "      <td>0.0</td>\n",
       "      <td>44450.7</td>\n",
       "    </tr>\n",
       "    <tr>\n",
       "      <th>120</th>\n",
       "      <td>120</td>\n",
       "      <td>0</td>\n",
       "      <td>0</td>\n",
       "      <td>48463.975</td>\n",
       "      <td>2096</td>\n",
       "      <td>0</td>\n",
       "      <td>-505646.899516</td>\n",
       "      <td>0.0</td>\n",
       "      <td>44479.7</td>\n",
       "    </tr>\n",
       "  </tbody>\n",
       "</table>\n",
       "<p>116 rows × 9 columns</p>\n",
       "</div>"
      ],
      "text/plain": [
       "     station  lat  lon      field  time  student_id              x    y  \\\n",
       "0          0    0    0  48845.010     0           0 -505646.899516  0.0   \n",
       "1          1    0    0  48409.265   175           0 -505646.899516  0.0   \n",
       "2          2    0    0  48370.503   406           0 -505646.899516  0.0   \n",
       "3          3    0    0  48537.032   443           0 -505646.899516  0.0   \n",
       "4          4    0    0  48459.021   485           0 -505646.899516  0.0   \n",
       "..       ...  ...  ...        ...   ...         ...            ...  ...   \n",
       "113      113    0    0  48686.575  2021           0 -505646.899516  0.0   \n",
       "114      114    0    0  45832.806  2030           0 -505646.899516  0.0   \n",
       "115      115    0    0  48774.480  2056           0 -505646.899516  0.0   \n",
       "116      116    0    0  48549.968  2067           0 -505646.899516  0.0   \n",
       "120      120    0    0  48463.975  2096           0 -505646.899516  0.0   \n",
       "\n",
       "       times  \n",
       "0    42383.7  \n",
       "1    42558.7  \n",
       "2    42789.7  \n",
       "3    42826.7  \n",
       "4    42868.7  \n",
       "..       ...  \n",
       "113  44404.7  \n",
       "114  44413.7  \n",
       "115  44439.7  \n",
       "116  44450.7  \n",
       "120  44479.7  \n",
       "\n",
       "[116 rows x 9 columns]"
      ]
     },
     "execution_count": 56,
     "metadata": {},
     "output_type": "execute_result"
    }
   ],
   "source": [
    "data_outlier\n"
   ]
  },
  {
   "cell_type": "markdown",
   "id": "coastal-burke",
   "metadata": {},
   "source": [
    "## Determining the anomalies"
   ]
  },
  {
   "cell_type": "code",
   "execution_count": 57,
   "id": "beginning-marriage",
   "metadata": {},
   "outputs": [],
   "source": [
    "# Select here how you want to calculate anomalies: 'reference' or 'temporal'\n",
    "anomaly_method = 'reference'"
   ]
  },
  {
   "cell_type": "markdown",
   "id": "biblical-workshop",
   "metadata": {},
   "source": [
    "### Time drift correction\n",
    "\n",
    "The earth's magnetic field intensity changes throughout the day. If there is data available from a base station, the temporal drift can be measured and subtracted from the measured data. The base station data then also directly serves as a total field reference value, which means that the resulting values represent the magnetic anomaly relative to the base station location.\n",
    "The anomaly can also be calculated by using a local theoretical reference value, which is demonstrated in the next section."
   ]
  },
  {
   "cell_type": "code",
   "execution_count": 58,
   "id": "genuine-argument",
   "metadata": {},
   "outputs": [],
   "source": [
    "if anomaly_method == 'temporal':\n",
    "    # In order to get basestation values for the exact times at which our actual measurements were taken,\n",
    "    # we resample the basestation data. This is done via linear interpolation.\n",
    "\n",
    "    baseline_interpolator = interpolate.interp1d(data_base['times'], data_base['field'], kind='linear',\n",
    "                                                 fill_value='extrapolate')\n",
    "    baseline_field = baseline_interpolator(data_outlier['times'])\n",
    "\n",
    "    field_anomaly = data_outlier['field'] - baseline_field\n",
    "    \n",
    "    # Adding anomalies to dataframe\n",
    "    data_outlier['anomaly'] = field_anomaly\n",
    "    \n",
    "    # Plotting the results\n",
    "\n",
    "    fig, (ax0, ax1) = plt.subplots(2, 1, figsize=(12,8), sharex=True)\n",
    "    \n",
    "    ax1.scatter(data_outlier['times'], data_outlier['anomaly'])\n",
    "    ax1.set(xlabel='Measurement Time [h]', ylabel='B [nT]', title='Temporally corrected magnetic anomalies')\n",
    "    \n",
    "    ax0.scatter(data_base['times'], data_base['field'], label='Base station data')\n",
    "    ax0.plot(data_outlier['times'], baseline_field, 'k', label='Interpolated time drift')\n",
    "    ax0.set(title='Base station measurements', ylabel='Magnetic field B [nT]')\n",
    "    ax0.legend();"
   ]
  },
  {
   "cell_type": "markdown",
   "id": "legendary-excerpt",
   "metadata": {},
   "source": [
    "### Substracting Reference Fiel\n",
    "If there is no base station data available that can act as a local reference value, a theoretical backround value can be determined. Models for the earth's theoretical magnetic field are available, such as the [World Magnetic Model](http://geomag.bgs.ac.uk/data_service/models_compass/wmm_calc.html), which calculate the theoretical field value B for a given location. This can then be used to calculate deviations between our measurements and the 'ideal' value, returning the desired anomaly without accounting for any temporal trends."
   ]
  },
  {
   "cell_type": "code",
   "execution_count": 59,
   "id": "sensitive-submission",
   "metadata": {},
   "outputs": [
    {
     "data": {
      "image/png": "[encoded data removed]",
      "text/plain": [
       "<Figure size 864x576 with 1 Axes>"
      ]
     },
     "metadata": {
      "needs_background": "light"
     },
     "output_type": "display_data"
    }
   ],
   "source": [
    "if anomaly_method == 'reference':\n",
    "    # Here we define the background value for the correction, taken from literature or a suitable model\n",
    "    reference = data_base['field'].mean() # nT\n",
    "\n",
    "    field_anomaly = data_outlier['field'] - reference\n",
    "    data_outlier['anomaly'] = field_anomaly\n",
    "    # Plotting the results\n",
    "\n",
    "    fig, ax = plt.subplots(figsize=(12,8))\n",
    "\n",
    "    ax.scatter(data_outlier['times'], data_outlier['anomaly'])\n",
    "    ax.set(xlabel='Measurement Time [s]', ylabel='B [nT]', title='Theoretical magnetic anomalies')"
   ]
  },
  {
   "cell_type": "markdown",
   "id": "e195c4cf",
   "metadata": {},
   "source": [
    "## Plotting all data\n",
    "\n",
    "We can now visualize all collected data. Starting with a scatterplot:"
   ]
  },
  {
   "cell_type": "code",
   "execution_count": 60,
   "id": "8114242b",
   "metadata": {},
   "outputs": [
    {
     "ename": "KeyError",
     "evalue": "'student_id_list'",
     "output_type": "error",
     "traceback": [
      "\u001b[1;31m---------------------------------------------------------------------------\u001b[0m",
      "\u001b[1;31mKeyError\u001b[0m                                  Traceback (most recent call last)",
      "\u001b[1;32mc:\\Users\\julik\\sciebo\\Master\\Geophyphox\\Excursion 2022\\Excursion Notebooks\\Magnetics_processing G858.ipynb Zelle 40\u001b[0m in \u001b[0;36m<cell line: 9>\u001b[1;34m()\u001b[0m\n\u001b[0;32m      <a href='vscode-notebook-cell:/c%3A/Users/julik/sciebo/Master/Geophyphox/Excursion%202022/Excursion%20Notebooks/Magnetics_processing%20G858.ipynb#ch0000039?line=6'>7</a>\u001b[0m \u001b[39m# Using the temporally corrected anomalies\u001b[39;00m\n\u001b[0;32m      <a href='vscode-notebook-cell:/c%3A/Users/julik/sciebo/Master/Geophyphox/Excursion%202022/Excursion%20Notebooks/Magnetics_processing%20G858.ipynb#ch0000039?line=7'>8</a>\u001b[0m im0 \u001b[39m=\u001b[39m ax0\u001b[39m.\u001b[39mscatter(data_outlier[\u001b[39m'\u001b[39m\u001b[39mx\u001b[39m\u001b[39m'\u001b[39m], data_outlier[\u001b[39m'\u001b[39m\u001b[39my\u001b[39m\u001b[39m'\u001b[39m], c\u001b[39m=\u001b[39mdata_outlier[\u001b[39m'\u001b[39m\u001b[39mfield\u001b[39m\u001b[39m'\u001b[39m])\n\u001b[1;32m----> <a href='vscode-notebook-cell:/c%3A/Users/julik/sciebo/Master/Geophyphox/Excursion%202022/Excursion%20Notebooks/Magnetics_processing%20G858.ipynb#ch0000039?line=8'>9</a>\u001b[0m namegroups \u001b[39m=\u001b[39m data_base\u001b[39m.\u001b[39;49mgroupby(\u001b[39m'\u001b[39;49m\u001b[39mstudent_id_list\u001b[39;49m\u001b[39m'\u001b[39;49m)\n\u001b[0;32m     <a href='vscode-notebook-cell:/c%3A/Users/julik/sciebo/Master/Geophyphox/Excursion%202022/Excursion%20Notebooks/Magnetics_processing%20G858.ipynb#ch0000039?line=9'>10</a>\u001b[0m \u001b[39mfor\u001b[39;00m name, group \u001b[39min\u001b[39;00m namegroups:\n\u001b[0;32m     <a href='vscode-notebook-cell:/c%3A/Users/julik/sciebo/Master/Geophyphox/Excursion%202022/Excursion%20Notebooks/Magnetics_processing%20G858.ipynb#ch0000039?line=10'>11</a>\u001b[0m     ax1\u001b[39m.\u001b[39mplot(group[\u001b[39m'\u001b[39m\u001b[39mtimes\u001b[39m\u001b[39m'\u001b[39m], group[\u001b[39m'\u001b[39m\u001b[39mfield\u001b[39m\u001b[39m'\u001b[39m], \u001b[39m'\u001b[39m\u001b[39m-o\u001b[39m\u001b[39m'\u001b[39m, label\u001b[39m=\u001b[39mname)\n",
      "File \u001b[1;32mc:\\Users\\julik\\Programs\\Anaconda\\envs\\Test\\lib\\site-packages\\pandas\\core\\frame.py:7718\u001b[0m, in \u001b[0;36mDataFrame.groupby\u001b[1;34m(self, by, axis, level, as_index, sort, group_keys, squeeze, observed, dropna)\u001b[0m\n\u001b[0;32m   7713\u001b[0m axis \u001b[39m=\u001b[39m \u001b[39mself\u001b[39m\u001b[39m.\u001b[39m_get_axis_number(axis)\n\u001b[0;32m   7715\u001b[0m \u001b[39m# https://github.com/python/mypy/issues/7642\u001b[39;00m\n\u001b[0;32m   7716\u001b[0m \u001b[39m# error: Argument \"squeeze\" to \"DataFrameGroupBy\" has incompatible type\u001b[39;00m\n\u001b[0;32m   7717\u001b[0m \u001b[39m# \"Union[bool, NoDefault]\"; expected \"bool\"\u001b[39;00m\n\u001b[1;32m-> 7718\u001b[0m \u001b[39mreturn\u001b[39;00m DataFrameGroupBy(\n\u001b[0;32m   7719\u001b[0m     obj\u001b[39m=\u001b[39;49m\u001b[39mself\u001b[39;49m,\n\u001b[0;32m   7720\u001b[0m     keys\u001b[39m=\u001b[39;49mby,\n\u001b[0;32m   7721\u001b[0m     axis\u001b[39m=\u001b[39;49maxis,\n\u001b[0;32m   7722\u001b[0m     level\u001b[39m=\u001b[39;49mlevel,\n\u001b[0;32m   7723\u001b[0m     as_index\u001b[39m=\u001b[39;49mas_index,\n\u001b[0;32m   7724\u001b[0m     sort\u001b[39m=\u001b[39;49msort,\n\u001b[0;32m   7725\u001b[0m     group_keys\u001b[39m=\u001b[39;49mgroup_keys,\n\u001b[0;32m   7726\u001b[0m     squeeze\u001b[39m=\u001b[39;49msqueeze,  \u001b[39m# type: ignore[arg-type]\u001b[39;49;00m\n\u001b[0;32m   7727\u001b[0m     observed\u001b[39m=\u001b[39;49mobserved,\n\u001b[0;32m   7728\u001b[0m     dropna\u001b[39m=\u001b[39;49mdropna,\n\u001b[0;32m   7729\u001b[0m )\n",
      "File \u001b[1;32mc:\\Users\\julik\\Programs\\Anaconda\\envs\\Test\\lib\\site-packages\\pandas\\core\\groupby\\groupby.py:882\u001b[0m, in \u001b[0;36mGroupBy.__init__\u001b[1;34m(self, obj, keys, axis, level, grouper, exclusions, selection, as_index, sort, group_keys, squeeze, observed, mutated, dropna)\u001b[0m\n\u001b[0;32m    879\u001b[0m \u001b[39mif\u001b[39;00m grouper \u001b[39mis\u001b[39;00m \u001b[39mNone\u001b[39;00m:\n\u001b[0;32m    880\u001b[0m     \u001b[39mfrom\u001b[39;00m \u001b[39mpandas\u001b[39;00m\u001b[39m.\u001b[39;00m\u001b[39mcore\u001b[39;00m\u001b[39m.\u001b[39;00m\u001b[39mgroupby\u001b[39;00m\u001b[39m.\u001b[39;00m\u001b[39mgrouper\u001b[39;00m \u001b[39mimport\u001b[39;00m get_grouper\n\u001b[1;32m--> 882\u001b[0m     grouper, exclusions, obj \u001b[39m=\u001b[39m get_grouper(\n\u001b[0;32m    883\u001b[0m         obj,\n\u001b[0;32m    884\u001b[0m         keys,\n\u001b[0;32m    885\u001b[0m         axis\u001b[39m=\u001b[39;49maxis,\n\u001b[0;32m    886\u001b[0m         level\u001b[39m=\u001b[39;49mlevel,\n\u001b[0;32m    887\u001b[0m         sort\u001b[39m=\u001b[39;49msort,\n\u001b[0;32m    888\u001b[0m         observed\u001b[39m=\u001b[39;49mobserved,\n\u001b[0;32m    889\u001b[0m         mutated\u001b[39m=\u001b[39;49m\u001b[39mself\u001b[39;49m\u001b[39m.\u001b[39;49mmutated,\n\u001b[0;32m    890\u001b[0m         dropna\u001b[39m=\u001b[39;49m\u001b[39mself\u001b[39;49m\u001b[39m.\u001b[39;49mdropna,\n\u001b[0;32m    891\u001b[0m     )\n\u001b[0;32m    893\u001b[0m \u001b[39mself\u001b[39m\u001b[39m.\u001b[39mobj \u001b[39m=\u001b[39m obj\n\u001b[0;32m    894\u001b[0m \u001b[39mself\u001b[39m\u001b[39m.\u001b[39maxis \u001b[39m=\u001b[39m obj\u001b[39m.\u001b[39m_get_axis_number(axis)\n",
      "File \u001b[1;32mc:\\Users\\julik\\Programs\\Anaconda\\envs\\Test\\lib\\site-packages\\pandas\\core\\groupby\\grouper.py:882\u001b[0m, in \u001b[0;36mget_grouper\u001b[1;34m(obj, key, axis, level, sort, observed, mutated, validate, dropna)\u001b[0m\n\u001b[0;32m    880\u001b[0m         in_axis, level, gpr \u001b[39m=\u001b[39m \u001b[39mFalse\u001b[39;00m, gpr, \u001b[39mNone\u001b[39;00m\n\u001b[0;32m    881\u001b[0m     \u001b[39melse\u001b[39;00m:\n\u001b[1;32m--> 882\u001b[0m         \u001b[39mraise\u001b[39;00m \u001b[39mKeyError\u001b[39;00m(gpr)\n\u001b[0;32m    883\u001b[0m \u001b[39melif\u001b[39;00m \u001b[39misinstance\u001b[39m(gpr, Grouper) \u001b[39mand\u001b[39;00m gpr\u001b[39m.\u001b[39mkey \u001b[39mis\u001b[39;00m \u001b[39mnot\u001b[39;00m \u001b[39mNone\u001b[39;00m:\n\u001b[0;32m    884\u001b[0m     \u001b[39m# Add key to exclusions\u001b[39;00m\n\u001b[0;32m    885\u001b[0m     exclusions\u001b[39m.\u001b[39madd(gpr\u001b[39m.\u001b[39mkey)\n",
      "\u001b[1;31mKeyError\u001b[0m: 'student_id_list'"
     ]
    },
    {
     "data": {
      "image/png": "[encoded data removed]",
      "text/plain": [
       "<Figure size 1008x864 with 3 Axes>"
      ]
     },
     "metadata": {
      "needs_background": "light"
     },
     "output_type": "display_data"
    }
   ],
   "source": [
    "# Basic Anomaly map\n",
    "fig, (ax0, ax1, ax2) = plt.subplots(3, 1, figsize=(14, 12))\n",
    "\n",
    "vmin = -np.max(np.abs(data_outlier['anomaly']))\n",
    "vmax = np.max(np.abs(data_outlier['anomaly']))\n",
    "\n",
    "# Using the temporally corrected anomalies\n",
    "im0 = ax0.scatter(data_outlier['x'], data_outlier['y'], c=data_outlier['field'])\n",
    "namegroups = data_base.groupby('student_id_list')\n",
    "for name, group in namegroups:\n",
    "    ax1.plot(group['times'], group['field'], '-o', label=name)\n",
    "ax1.legend()\n",
    "im2 = ax2.scatter(data_outlier['x'], data_outlier['y'], c=data_outlier['anomaly'],\n",
    "                  vmin=vmin, vmax=vmax, cmap=\"RdBu_r\")\n",
    "\n",
    "ax0.set(xlabel='Easting', ylabel='Northing', title='Outlier & altitude corrected data')\n",
    "ax1.set(xlabel='Measurement time [s]', ylabel='Magnetic field B [nT]', title='Base station data')\n",
    "ax2.set(xlabel='Easting', ylabel='Northing', title='Field anomaly map')\n",
    "plt.colorbar(im0, ax=ax0, label='Magnetic field B [nT]');\n",
    "#plt.colorbar(im1, ax=ax1, label='Magnetic field B [nT]');\n",
    "plt.colorbar(im2, ax=ax2, label='Magnetic anomaly [nT]');\n",
    "\n",
    "ax0.set_yticklabels(['{:}'.format(int(x)) for x in ax0.get_yticks().tolist()]) # Fixes y-axis tick labels\n",
    "ax2.set_yticklabels(['{:}'.format(int(x)) for x in ax2.get_yticks().tolist()]) # Fixes y-axis tick labels\n",
    "\n",
    "plt.tight_layout()"
   ]
  },
  {
   "cell_type": "markdown",
   "id": "grave-shirt",
   "metadata": {},
   "source": [
    "## Saving the results\n",
    "\n",
    "As a last step, we save our results. There are a multitude of ways and fileformats to achieve this. Since we want to store numerical data, [Numpy's save function](https://numpy.org/doc/stable/reference/generated/numpy.savez.html) is a fast and effective method to achieve this. We save the calculated anomalies as well as all data processing steps in between."
   ]
  },
  {
   "cell_type": "code",
   "execution_count": null,
   "id": "naughty-colors",
   "metadata": {},
   "outputs": [],
   "source": [
    "# Save the data. Give your datafile a name so it can be distinguished from the others.\n",
    "\n",
    "fileName = 'results_magnetic_' + group + '.csv'\n",
    "baseFileName = 'results_magneticBASE_' + group + '.csv'\n",
    "\n",
    "#Enter path where data should be exported too\n",
    "folder = Path(r'C:\\Users\\julik\\sciebo\\Master\\Geophyphox\\Excursion 2022\\Student Data\\Processed')\n",
    "data_outlier['name'] = [group]*len(data_outlier)\n",
    "\n",
    "data_base['name'] = [group]*len(data_base)\n",
    "data_outlier.to_csv(folder / fileName)\n",
    "data_base.to_csv(folder/ baseFileName)"
   ]
  },
  {
   "cell_type": "code",
   "execution_count": null,
   "id": "b05454b1",
   "metadata": {},
   "outputs": [],
   "source": []
  }
 ],
 "metadata": {
  "kernelspec": {
   "display_name": "Python 3 (ipykernel)",
   "language": "python",
   "name": "python3"
  },
  "language_info": {
   "codemirror_mode": {
    "name": "ipython",
    "version": 3
   },
   "file_extension": ".py",
   "mimetype": "text/x-python",
   "name": "python",
   "nbconvert_exporter": "python",
   "pygments_lexer": "ipython3",
   "version": "3.10.5"
  },
  "varInspector": {
   "cols": {
    "lenName": 16,
    "lenType": 16,
    "lenVar": 40
   },
   "kernels_config": {
    "python": {
     "delete_cmd_postfix": "",
     "delete_cmd_prefix": "del ",
     "library": "var_list.py",
     "varRefreshCmd": "print(var_dic_list())"
    },
    "r": {
     "delete_cmd_postfix": ") ",
     "delete_cmd_prefix": "rm(",
     "library": "var_list.r",
     "varRefreshCmd": "cat(var_dic_list()) "
    }
   },
   "types_to_exclude": [
    "module",
    "function",
    "builtin_function_or_method",
    "instance",
    "_Feature"
   ],
   "window_display": false
  },
  "vscode": {
   "interpreter": {
    "hash": "b7a4c45de720de302e52c90c1b44e72492ab9c17588583e112e6be2347e0e93b"
   }
  }
 },
 "nbformat": 4,
 "nbformat_minor": 5
}
